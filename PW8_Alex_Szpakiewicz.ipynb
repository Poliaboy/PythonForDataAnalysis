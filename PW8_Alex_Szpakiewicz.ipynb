{
 "cells": [
  {
   "cell_type": "markdown",
   "source": [
    "<h1> Exercise 1 </h1>"
   ],
   "metadata": {
    "collapsed": false
   },
   "id": "97e7883e973b6ac6"
  },
  {
   "cell_type": "markdown",
   "source": [
    "<h3>Importing libraries</h3>"
   ],
   "metadata": {
    "collapsed": false
   },
   "id": "64e04a600ac2c174"
  },
  {
   "cell_type": "code",
   "execution_count": 12,
   "id": "initial_id",
   "metadata": {
    "collapsed": true,
    "ExecuteTime": {
     "end_time": "2023-10-29T14:50:20.530785500Z",
     "start_time": "2023-10-29T14:50:20.502883900Z"
    }
   },
   "outputs": [],
   "source": [
    "import pandas as pd\n",
    "import numpy as np\n",
    "import sklearn as sk\n",
    "from sklearn.model_selection import train_test_split\n",
    "from sklearn.svm import SVR\n",
    "from sklearn.preprocessing import StandardScaler\n",
    "from sklearn.model_selection import GridSearchCV"
   ]
  },
  {
   "cell_type": "markdown",
   "source": [
    "<h3>Importing data</h3>"
   ],
   "metadata": {
    "collapsed": false
   },
   "id": "37e4e85f477d463a"
  },
  {
   "cell_type": "code",
   "execution_count": 13,
   "outputs": [
    {
     "data": {
      "text/plain": "      CRIM    ZN  INDUS  CHAS    NOX     RM   AGE     DIS  RAD  TAX  PTRATIO  \\\n0  0.00632  18.0   2.31     0  0.538  6.575  65.2  4.0900    1  296     15.3   \n1  0.02731   0.0   7.07     0  0.469  6.421  78.9  4.9671    2  242     17.8   \n2  0.02729   0.0   7.07     0  0.469  7.185  61.1  4.9671    2  242     17.8   \n3  0.03237   0.0   2.18     0  0.458  6.998  45.8  6.0622    3  222     18.7   \n4  0.06905   0.0   2.18     0  0.458  7.147  54.2  6.0622    3  222     18.7   \n\n        B  LSTAT  MEDV  \n0  396.90   4.98  24.0  \n1  396.90   9.14  21.6  \n2  392.83   4.03  34.7  \n3  394.63   2.94  33.4  \n4  396.90   5.33  36.2  ",
      "text/html": "<div>\n<style scoped>\n    .dataframe tbody tr th:only-of-type {\n        vertical-align: middle;\n    }\n\n    .dataframe tbody tr th {\n        vertical-align: top;\n    }\n\n    .dataframe thead th {\n        text-align: right;\n    }\n</style>\n<table border=\"1\" class=\"dataframe\">\n  <thead>\n    <tr style=\"text-align: right;\">\n      <th></th>\n      <th>CRIM</th>\n      <th>ZN</th>\n      <th>INDUS</th>\n      <th>CHAS</th>\n      <th>NOX</th>\n      <th>RM</th>\n      <th>AGE</th>\n      <th>DIS</th>\n      <th>RAD</th>\n      <th>TAX</th>\n      <th>PTRATIO</th>\n      <th>B</th>\n      <th>LSTAT</th>\n      <th>MEDV</th>\n    </tr>\n  </thead>\n  <tbody>\n    <tr>\n      <th>0</th>\n      <td>0.00632</td>\n      <td>18.0</td>\n      <td>2.31</td>\n      <td>0</td>\n      <td>0.538</td>\n      <td>6.575</td>\n      <td>65.2</td>\n      <td>4.0900</td>\n      <td>1</td>\n      <td>296</td>\n      <td>15.3</td>\n      <td>396.90</td>\n      <td>4.98</td>\n      <td>24.0</td>\n    </tr>\n    <tr>\n      <th>1</th>\n      <td>0.02731</td>\n      <td>0.0</td>\n      <td>7.07</td>\n      <td>0</td>\n      <td>0.469</td>\n      <td>6.421</td>\n      <td>78.9</td>\n      <td>4.9671</td>\n      <td>2</td>\n      <td>242</td>\n      <td>17.8</td>\n      <td>396.90</td>\n      <td>9.14</td>\n      <td>21.6</td>\n    </tr>\n    <tr>\n      <th>2</th>\n      <td>0.02729</td>\n      <td>0.0</td>\n      <td>7.07</td>\n      <td>0</td>\n      <td>0.469</td>\n      <td>7.185</td>\n      <td>61.1</td>\n      <td>4.9671</td>\n      <td>2</td>\n      <td>242</td>\n      <td>17.8</td>\n      <td>392.83</td>\n      <td>4.03</td>\n      <td>34.7</td>\n    </tr>\n    <tr>\n      <th>3</th>\n      <td>0.03237</td>\n      <td>0.0</td>\n      <td>2.18</td>\n      <td>0</td>\n      <td>0.458</td>\n      <td>6.998</td>\n      <td>45.8</td>\n      <td>6.0622</td>\n      <td>3</td>\n      <td>222</td>\n      <td>18.7</td>\n      <td>394.63</td>\n      <td>2.94</td>\n      <td>33.4</td>\n    </tr>\n    <tr>\n      <th>4</th>\n      <td>0.06905</td>\n      <td>0.0</td>\n      <td>2.18</td>\n      <td>0</td>\n      <td>0.458</td>\n      <td>7.147</td>\n      <td>54.2</td>\n      <td>6.0622</td>\n      <td>3</td>\n      <td>222</td>\n      <td>18.7</td>\n      <td>396.90</td>\n      <td>5.33</td>\n      <td>36.2</td>\n    </tr>\n  </tbody>\n</table>\n</div>"
     },
     "execution_count": 13,
     "metadata": {},
     "output_type": "execute_result"
    }
   ],
   "source": [
    "df = pd.read_csv('Datasets/boston_house_prices.csv', header=1)\n",
    "df.head()"
   ],
   "metadata": {
    "collapsed": false,
    "ExecuteTime": {
     "end_time": "2023-10-29T14:50:20.571065800Z",
     "start_time": "2023-10-29T14:50:20.514394500Z"
    }
   },
   "id": "6e1572c5a3e85f32"
  },
  {
   "cell_type": "markdown",
   "source": [
    "<h3>Splitting the dataset</h3>"
   ],
   "metadata": {
    "collapsed": false
   },
   "id": "a50549b9c88dfa6e"
  },
  {
   "cell_type": "code",
   "execution_count": 14,
   "outputs": [],
   "source": [
    "Xtrain, Xtest, ytrain, ytest = train_test_split(df.drop('MEDV', axis=1), df['MEDV'], test_size=0.2, random_state=20)"
   ],
   "metadata": {
    "collapsed": false,
    "ExecuteTime": {
     "end_time": "2023-10-29T14:50:20.580105500Z",
     "start_time": "2023-10-29T14:50:20.532786100Z"
    }
   },
   "id": "29d3597e91394e14"
  },
  {
   "cell_type": "markdown",
   "source": [
    "<h3>Standartizing the data</h3>"
   ],
   "metadata": {
    "collapsed": false
   },
   "id": "5a48adc8ca80dec2"
  },
  {
   "cell_type": "code",
   "execution_count": 15,
   "outputs": [],
   "source": [
    "scaler = StandardScaler()\n",
    "scaler.fit(Xtrain)\n",
    "Xtrain = scaler.transform(Xtrain)\n",
    "Xtest = scaler.transform(Xtest)"
   ],
   "metadata": {
    "collapsed": false,
    "ExecuteTime": {
     "end_time": "2023-10-29T14:50:20.580105500Z",
     "start_time": "2023-10-29T14:50:20.540816100Z"
    }
   },
   "id": "8fdabc8ca2b37b3e"
  },
  {
   "cell_type": "markdown",
   "source": [
    "<h3>Train or fit the data into a model using the Support Vector Machine Algorithm and test it</h3>"
   ],
   "metadata": {
    "collapsed": false
   },
   "id": "786f0f2717dcef8e"
  },
  {
   "cell_type": "code",
   "execution_count": 16,
   "outputs": [
    {
     "data": {
      "text/plain": "0.7432190393711677"
     },
     "execution_count": 16,
     "metadata": {},
     "output_type": "execute_result"
    }
   ],
   "source": [
    "svr = SVR(kernel='linear', C=1.0, epsilon=0.2)\n",
    "svr.fit(Xtrain, ytrain)\n",
    "svr.score(Xtest, ytest)"
   ],
   "metadata": {
    "collapsed": false,
    "ExecuteTime": {
     "end_time": "2023-10-29T14:50:20.580105500Z",
     "start_time": "2023-10-29T14:50:20.551851700Z"
    }
   },
   "id": "b7b382cfca7c300f"
  },
  {
   "cell_type": "markdown",
   "source": [
    "<h3>Select best hyperparameters of the model using GridSearch</h3>"
   ],
   "metadata": {
    "collapsed": false
   },
   "id": "b2976b07becfc9f5"
  },
  {
   "cell_type": "code",
   "execution_count": 22,
   "outputs": [
    {
     "data": {
      "text/plain": "0.8420119900766948"
     },
     "execution_count": 22,
     "metadata": {},
     "output_type": "execute_result"
    }
   ],
   "source": [
    "parameters = {'kernel':('linear', 'rbf'), 'C':[1, 10], 'epsilon':[0.1, 0.2]}\n",
    "clf = GridSearchCV(svr, parameters)\n",
    "clf.fit(Xtrain, ytrain)\n",
    "clf.score(Xtest, ytest)"
   ],
   "metadata": {
    "collapsed": false,
    "ExecuteTime": {
     "end_time": "2023-10-29T14:52:51.722324100Z",
     "start_time": "2023-10-29T14:52:51.215033600Z"
    }
   },
   "id": "d0848cb61208d2b0"
  },
  {
   "cell_type": "code",
   "execution_count": 23,
   "outputs": [
    {
     "data": {
      "text/plain": "{'C': 10, 'epsilon': 0.1, 'kernel': 'rbf'}"
     },
     "execution_count": 23,
     "metadata": {},
     "output_type": "execute_result"
    }
   ],
   "source": [
    "clf.best_params_"
   ],
   "metadata": {
    "collapsed": false,
    "ExecuteTime": {
     "end_time": "2023-10-29T14:52:52.391024700Z",
     "start_time": "2023-10-29T14:52:52.383377800Z"
    }
   },
   "id": "4606c11955898f57"
  },
  {
   "cell_type": "markdown",
   "source": [
    "<h3>Create a function to test the different hyperparameters.</h3>"
   ],
   "metadata": {
    "collapsed": false
   },
   "id": "e9358fe7d1757464"
  },
  {
   "cell_type": "code",
   "execution_count": 20,
   "outputs": [],
   "source": [
    "def test_svr(Xtrain, Xtest, ytrain, ytest, kernel, C, epsilon):\n",
    "    svr = SVR(kernel=kernel, C=C, epsilon=epsilon)\n",
    "    svr.fit(Xtrain, ytrain)\n",
    "    return svr.score(Xtest, ytest)"
   ],
   "metadata": {
    "collapsed": false,
    "ExecuteTime": {
     "end_time": "2023-10-29T14:52:35.640551Z",
     "start_time": "2023-10-29T14:52:35.633933700Z"
    }
   },
   "id": "22fa0c6a40a16f8"
  },
  {
   "cell_type": "code",
   "execution_count": 21,
   "outputs": [
    {
     "data": {
      "text/plain": "0.7432190393711677"
     },
     "execution_count": 21,
     "metadata": {},
     "output_type": "execute_result"
    }
   ],
   "source": [
    "test_svr(Xtrain, Xtest, ytrain, ytest, 'linear', 1.0, 0.2)"
   ],
   "metadata": {
    "collapsed": false,
    "ExecuteTime": {
     "end_time": "2023-10-29T14:52:37.679959400Z",
     "start_time": "2023-10-29T14:52:37.663648100Z"
    }
   },
   "id": "b97e7723a7422ac6"
  },
  {
   "cell_type": "markdown",
   "source": [
    "<h3>Train or fit the data using other algorithms</h3>"
   ],
   "metadata": {
    "collapsed": false
   },
   "id": "87ad4799d93059fc"
  },
  {
   "cell_type": "code",
   "execution_count": 31,
   "outputs": [],
   "source": [
    "from sklearn.linear_model import LinearRegression\n",
    "from sklearn.linear_model import Ridge\n",
    "from sklearn.linear_model import Lasso\n",
    "from sklearn.ensemble import RandomForestRegressor\n",
    "from sklearn.ensemble import GradientBoostingRegressor\n",
    "from sklearn.linear_model import SGDRegressor"
   ],
   "metadata": {
    "collapsed": false,
    "ExecuteTime": {
     "end_time": "2023-10-29T15:40:40.237485700Z",
     "start_time": "2023-10-29T15:40:40.228319600Z"
    }
   },
   "id": "c7f6429cb28bdd9d"
  },
  {
   "cell_type": "code",
   "execution_count": 25,
   "outputs": [
    {
     "data": {
      "text/plain": "0.7438826183113534"
     },
     "execution_count": 25,
     "metadata": {},
     "output_type": "execute_result"
    }
   ],
   "source": [
    "lr = LinearRegression()\n",
    "lr.fit(Xtrain, ytrain)\n",
    "lr.score(Xtest, ytest)"
   ],
   "metadata": {
    "collapsed": false,
    "ExecuteTime": {
     "end_time": "2023-10-29T15:39:45.125685300Z",
     "start_time": "2023-10-29T15:39:45.103573500Z"
    }
   },
   "id": "d567380c170b9e0a"
  },
  {
   "cell_type": "code",
   "execution_count": 26,
   "outputs": [
    {
     "data": {
      "text/plain": "0.7438940100967497"
     },
     "execution_count": 26,
     "metadata": {},
     "output_type": "execute_result"
    }
   ],
   "source": [
    "ridge = Ridge(alpha=0.5)\n",
    "ridge.fit(Xtrain, ytrain)\n",
    "ridge.score(Xtest, ytest)"
   ],
   "metadata": {
    "collapsed": false,
    "ExecuteTime": {
     "end_time": "2023-10-29T15:39:46.349254400Z",
     "start_time": "2023-10-29T15:39:46.331361700Z"
    }
   },
   "id": "62e62ab85ed1a05e"
  },
  {
   "cell_type": "code",
   "execution_count": 27,
   "outputs": [
    {
     "data": {
      "text/plain": "0.7320306418695779"
     },
     "execution_count": 27,
     "metadata": {},
     "output_type": "execute_result"
    }
   ],
   "source": [
    "lasso = Lasso(alpha=0.1)\n",
    "lasso.fit(Xtrain, ytrain)\n",
    "lasso.score(Xtest, ytest)"
   ],
   "metadata": {
    "collapsed": false,
    "ExecuteTime": {
     "end_time": "2023-10-29T15:39:47.902464Z",
     "start_time": "2023-10-29T15:39:47.895470500Z"
    }
   },
   "id": "cc798491131bf47a"
  },
  {
   "cell_type": "code",
   "execution_count": 28,
   "outputs": [
    {
     "data": {
      "text/plain": "0.6946860227365617"
     },
     "execution_count": 28,
     "metadata": {},
     "output_type": "execute_result"
    }
   ],
   "source": [
    "rfr = RandomForestRegressor(max_depth=2, random_state=0)\n",
    "rfr.fit(Xtrain, ytrain)\n",
    "rfr.score(Xtest, ytest)"
   ],
   "metadata": {
    "collapsed": false,
    "ExecuteTime": {
     "end_time": "2023-10-29T15:39:49.432496400Z",
     "start_time": "2023-10-29T15:39:49.245135900Z"
    }
   },
   "id": "392073827d1fd097"
  },
  {
   "cell_type": "code",
   "execution_count": 29,
   "outputs": [
    {
     "data": {
      "text/plain": "0.8223718228825274"
     },
     "execution_count": 29,
     "metadata": {},
     "output_type": "execute_result"
    }
   ],
   "source": [
    "gbr = GradientBoostingRegressor(random_state=0)\n",
    "gbr.fit(Xtrain, ytrain)\n",
    "gbr.score(Xtest, ytest)"
   ],
   "metadata": {
    "collapsed": false,
    "ExecuteTime": {
     "end_time": "2023-10-29T15:39:50.714617200Z",
     "start_time": "2023-10-29T15:39:50.450527600Z"
    }
   },
   "id": "2705d659b3dbe5d8"
  },
  {
   "cell_type": "code",
   "execution_count": 32,
   "outputs": [
    {
     "data": {
      "text/plain": "0.739493555185706"
     },
     "execution_count": 32,
     "metadata": {},
     "output_type": "execute_result"
    }
   ],
   "source": [
    "sgd = SGDRegressor(max_iter=1000, tol=1e-3)\n",
    "sgd.fit(Xtrain, ytrain)\n",
    "sgd.score(Xtest, ytest)"
   ],
   "metadata": {
    "collapsed": false,
    "ExecuteTime": {
     "end_time": "2023-10-29T15:40:42.636536100Z",
     "start_time": "2023-10-29T15:40:42.628117700Z"
    }
   },
   "id": "49cc27eef0cfa222"
  },
  {
   "cell_type": "markdown",
   "source": [
    "<h3>Compare the performance of the different algorithms. Which is the best Model?</h3>"
   ],
   "metadata": {
    "collapsed": false
   },
   "id": "496bcd69e8e40675"
  },
  {
   "cell_type": "markdown",
   "source": [
    "With the default parameters, the best model is the GradientBoostingRegressor.\n",
    "But, if we tune the hyperparameters, the best model is the SVR."
   ],
   "metadata": {
    "collapsed": false
   },
   "id": "d89d9a8843d736b7"
  },
  {
   "cell_type": "markdown",
   "source": [
    "<h1> Exercise 2 </h1>"
   ],
   "metadata": {
    "collapsed": false
   },
   "id": "db2851297f5cd7b2"
  },
  {
   "cell_type": "markdown",
   "source": [],
   "metadata": {
    "collapsed": false
   },
   "id": "1a6e425aa0acc625"
  }
 ],
 "metadata": {
  "kernelspec": {
   "display_name": "Python 3",
   "language": "python",
   "name": "python3"
  },
  "language_info": {
   "codemirror_mode": {
    "name": "ipython",
    "version": 2
   },
   "file_extension": ".py",
   "mimetype": "text/x-python",
   "name": "python",
   "nbconvert_exporter": "python",
   "pygments_lexer": "ipython2",
   "version": "2.7.6"
  }
 },
 "nbformat": 4,
 "nbformat_minor": 5
}
