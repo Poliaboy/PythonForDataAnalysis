{
 "nbformat": 4,
 "nbformat_minor": 0,
 "metadata": {
  "colab": {
   "provenance": []
  },
  "kernelspec": {
   "name": "python3",
   "language": "python",
   "display_name": "Python 3 (ipykernel)"
  },
  "language_info": {
   "name": "python"
  }
 },
 "cells": [
  {
   "cell_type": "markdown",
   "metadata": {
    "id": "CKRsHma6pTID"
   },
   "source": [
    "# Tutorial 3 - Python For Data Analysis 🐍\n",
    "\n",
    "---\n",
    "\n",
    "## Pandas"
   ]
  },
  {
   "cell_type": "markdown",
   "metadata": {
    "id": "i9d88aEwr_af"
   },
   "source": [
    "### *Table of Contents*\n",
    "\n",
    "- Pandas 🐼\n",
    "  - [Introduction](#intro)\n",
    "  - [Exercice 1](#exercise-5) : Explore Pandas DataFrame basic functions\n",
    "  - [Exercise 2](#exercise-6) : Explore traffic accidents vehicles"
   ]
  },
  {
   "cell_type": "code",
   "source": [
    "import pandas as pd\n",
    "import numpy as np\n"
   ],
   "metadata": {
    "id": "QuEweOdLsGId",
    "ExecuteTime": {
     "end_time": "2023-09-22T15:28:49.325004600Z",
     "start_time": "2023-09-22T15:28:48.979223200Z"
    }
   },
   "execution_count": 23,
   "outputs": []
  },
  {
   "cell_type": "markdown",
   "metadata": {
    "id": "Z_VQxD6CrBwe"
   },
   "source": [
    "## Pandas 🐼"
   ]
  },
  {
   "cell_type": "markdown",
   "metadata": {
    "id": "Vn86J-Dlrjzj"
   },
   "source": [
    "<a name=\"intro\">\n",
    "\n",
    "### Introduction - Traffic Accidents Database\n",
    "---"
   ]
  },
  {
   "cell_type": "markdown",
   "metadata": {
    "id": "IuXJpYdWr0kw"
   },
   "source": [
    "https://www.data.gouv.fr/fr/datasets/base-de-donnees-accidents-corporels-de-la-circulation/\n",
    "\n",
    "For each personal injury accident, information describing the accident is entered by the law enforcement unit that intervened at the scene of the accident. These seizures are brought together in a sheet called the personal accident analysis report. All of these files constitute the national file of traffic accidents known as the \"BAAC File\" administered by the National Intermenstrual Road Safety Observatory \"ONISR\".\n",
    "\n",
    "The databases, extracted from the BAAC file, list all of the bodily injury accidents occurring during a specific year in mainland France, in the overseas departments (Guadeloupe, Guyana, Martinique, Réunion and Mayotte since 2012) and in the other overseas territories (Saint-Pierre- et-Miquelon, Saint-Barthélemy, Saint-Martin, Wallis-et-Futuna, French Polynesia and New Caledonia; available only from 2019 in open data) with a simplified description. This includes accident location information, as entered as well as information regarding the characteristics of the accident and its location, the vehicles involved and their victims.\n",
    "\n",
    "The databases from 2005 to 2019 are now annual and made up of 4 files (Characteristics - Locations - Vehicles - Users) in csv format.\n",
    "\n",
    "Links to databases:\n",
    "- https://www.data.gouv.fr/fr/datasets/r/be2191a6-a7cd-446f-a9fc-8d698688eb9e\n",
    "- https://www.data.gouv.fr/fr/datasets/r/e4c6f4fe-7c68-4a1d-9bb6-b0f1f5d45526\n",
    "- https://www.data.gouv.fr/fr/datasets/r/08b77510-39c4-4761-bf02-19457264790f\n",
    "- https://www.data.gouv.fr/fr/datasets/r/96aadc9f-0b55-4e9a-a70e-c627ed97e6f7\n",
    "   \n",
    "SETUP : We’ll use vehicles database.\n",
    "\n",
    "Import the data using pandas library.`pd.read_csv(url)`"
   ]
  },
  {
   "cell_type": "code",
   "source": [
    "voiture = pd.read_csv(\"https://www.data.gouv.fr/fr/datasets/r/be2191a6-a7cd-446f-a9fc-8d698688eb9e\")"
   ],
   "metadata": {
    "id": "jyo2ZzkX909A",
    "ExecuteTime": {
     "end_time": "2023-09-22T15:29:04.359925Z",
     "start_time": "2023-09-22T15:28:48.998240700Z"
    }
   },
   "execution_count": 24,
   "outputs": []
  },
  {
   "cell_type": "markdown",
   "metadata": {
    "id": "UDCwjVx2rkeM"
   },
   "source": [
    "<a name=\"exercise-5\">\n",
    "\n",
    "### Exercise 1 : Explore Pandas DataFrame basic functions\n",
    "---\n",
    "\n",
    "1) How many columns do we have in the DataFrame ? How many rows do we have ?"
   ]
  },
  {
   "cell_type": "code",
   "source": [
    "print(\"nb colonnes : \", voiture.shape[1])\n",
    "print(\"nb lignes : \",voiture.shape[0])"
   ],
   "metadata": {
    "id": "9Wz8pXxcWDov",
    "colab": {
     "base_uri": "https://localhost:8080/"
    },
    "outputId": "0436beb1-1ad2-486f-dc33-942dc58ae984",
    "ExecuteTime": {
     "end_time": "2023-09-22T15:29:04.372708700Z",
     "start_time": "2023-09-22T15:29:04.363197600Z"
    }
   },
   "execution_count": 25,
   "outputs": [
    {
     "name": "stdout",
     "output_type": "stream",
     "text": [
      "nb colonnes :  9\n",
      "nb lignes :  101924\n"
     ]
    }
   ]
  },
  {
   "cell_type": "markdown",
   "metadata": {
    "id": "H--XDF_TE-b5"
   },
   "source": [
    "2) What are the types of columns in the DataFrame ? Use `info()` function."
   ]
  },
  {
   "cell_type": "code",
   "source": [
    "print(voiture.info())\n",
    "#dtypes: float64(5), int64(3), object(1)"
   ],
   "metadata": {
    "colab": {
     "base_uri": "https://localhost:8080/",
     "height": 141
    },
    "id": "K03o1NYv_AK2",
    "outputId": "b2115754-5bc7-49bf-a7d4-fd1d2434ec9a",
    "ExecuteTime": {
     "end_time": "2023-09-22T15:29:04.386029700Z",
     "start_time": "2023-09-22T15:29:04.368707700Z"
    }
   },
   "execution_count": 26,
   "outputs": [
    {
     "name": "stdout",
     "output_type": "stream",
     "text": [
      "<class 'pandas.core.frame.DataFrame'>\n",
      "RangeIndex: 101924 entries, 0 to 101923\n",
      "Data columns (total 9 columns):\n",
      " #   Column   Non-Null Count   Dtype  \n",
      "---  ------   --------------   -----  \n",
      " 0   Num_Acc  101924 non-null  int64  \n",
      " 1   senc     101852 non-null  float64\n",
      " 2   catv     101924 non-null  int64  \n",
      " 3   occutc   101924 non-null  int64  \n",
      " 4   obs      101886 non-null  float64\n",
      " 5   obsm     101874 non-null  float64\n",
      " 6   choc     101913 non-null  float64\n",
      " 7   manv     101917 non-null  float64\n",
      " 8   num_veh  101924 non-null  object \n",
      "dtypes: float64(5), int64(3), object(1)\n",
      "memory usage: 7.0+ MB\n",
      "None\n"
     ]
    }
   ]
  },
  {
   "cell_type": "markdown",
   "metadata": {
    "id": "B1jmS1X7FGVg"
   },
   "source": [
    "3) Calculate the mean of numeric columns."
   ]
  },
  {
   "cell_type": "code",
   "source": [
    "print(\"the means of the numeric columns are:\\n\",voiture.mean(numeric_only=True))"
   ],
   "metadata": {
    "colab": {
     "base_uri": "https://localhost:8080/"
    },
    "id": "jEBKaUnQ__U0",
    "outputId": "b7885a39-a938-4dc6-f913-872b6497f035",
    "ExecuteTime": {
     "end_time": "2023-09-22T15:29:04.460539700Z",
     "start_time": "2023-09-22T15:29:04.383030600Z"
    }
   },
   "execution_count": 27,
   "outputs": [
    {
     "name": "stdout",
     "output_type": "stream",
     "text": [
      "the means of the numeric columns are:\n",
      " Num_Acc    2.016000e+11\n",
      "senc       1.041433e+00\n",
      "catv       1.204036e+01\n",
      "occutc     7.061144e-02\n",
      "obs        8.706299e-01\n",
      "obsm       1.594941e+00\n",
      "choc       2.857947e+00\n",
      "manv       5.703896e+00\n",
      "dtype: float64\n"
     ]
    }
   ]
  },
  {
   "cell_type": "markdown",
   "metadata": {
    "id": "z4YgU41EFKIK"
   },
   "source": [
    "4) Calculate the maximum and minimum value of numeric column."
   ]
  },
  {
   "cell_type": "code",
   "source": [
    "print(\"the max value for each numeric column is:\\n\",voiture.max(numeric_only=True))\n",
    "print(\"the min value for each numeric column is:\\n\",voiture.min(numeric_only=True))\n",
    "    "
   ],
   "metadata": {
    "id": "WSr8Ef0RWGAx",
    "colab": {
     "base_uri": "https://localhost:8080/"
    },
    "outputId": "8db13a02-ebb5-44b7-e5f1-6c976da423f6",
    "ExecuteTime": {
     "end_time": "2023-09-22T15:29:04.462545400Z",
     "start_time": "2023-09-22T15:29:04.391688800Z"
    }
   },
   "execution_count": 28,
   "outputs": [
    {
     "name": "stdout",
     "output_type": "stream",
     "text": [
      "the max value for each numeric column is:\n",
      " Num_Acc    2.016001e+11\n",
      "senc       2.000000e+00\n",
      "catv       9.900000e+01\n",
      "occutc     3.000000e+02\n",
      "obs        1.600000e+01\n",
      "obsm       9.000000e+00\n",
      "choc       9.000000e+00\n",
      "manv       2.400000e+01\n",
      "dtype: float64\n",
      "the min value for each numeric column is:\n",
      " Num_Acc    2.016000e+11\n",
      "senc       0.000000e+00\n",
      "catv       1.000000e+00\n",
      "occutc     0.000000e+00\n",
      "obs        0.000000e+00\n",
      "obsm       0.000000e+00\n",
      "choc       0.000000e+00\n",
      "manv       0.000000e+00\n",
      "dtype: float64\n"
     ]
    }
   ]
  },
  {
   "cell_type": "markdown",
   "metadata": {
    "id": "vMUv_e-kFO2y"
   },
   "source": [
    "5) Use `describe()` function, what can you observe ?"
   ]
  },
  {
   "cell_type": "code",
   "source": [
    "voiture.describe()"
   ],
   "metadata": {
    "id": "_vrGNiaSWGW_",
    "colab": {
     "base_uri": "https://localhost:8080/"
    },
    "outputId": "6702b5fa-9990-4414-9ef0-a47c3d110cdf",
    "ExecuteTime": {
     "end_time": "2023-09-22T15:29:04.464551300Z",
     "start_time": "2023-09-22T15:29:04.403499200Z"
    }
   },
   "execution_count": 29,
   "outputs": [
    {
     "data": {
      "text/plain": "            Num_Acc           senc           catv         occutc  \\\ncount  1.019240e+05  101852.000000  101924.000000  101924.000000   \nmean   2.016000e+11       1.041433      12.040363       0.070611   \nstd    1.711804e+04       0.747403      11.028127       2.221603   \nmin    2.016000e+11       0.000000       1.000000       0.000000   \n25%    2.016000e+11       0.000000       7.000000       0.000000   \n50%    2.016000e+11       1.000000       7.000000       0.000000   \n75%    2.016000e+11       2.000000      10.000000       0.000000   \nmax    2.016001e+11       2.000000      99.000000     300.000000   \n\n                 obs           obsm           choc           manv  \ncount  101886.000000  101874.000000  101913.000000  101917.000000  \nmean        0.870630       1.594941       2.857947       5.703896  \nstd         2.931908       1.145935       2.476565       7.042847  \nmin         0.000000       0.000000       0.000000       0.000000  \n25%         0.000000       1.000000       1.000000       1.000000  \n50%         0.000000       2.000000       2.000000       1.000000  \n75%         0.000000       2.000000       4.000000      13.000000  \nmax        16.000000       9.000000       9.000000      24.000000  ",
      "text/html": "<div>\n<style scoped>\n    .dataframe tbody tr th:only-of-type {\n        vertical-align: middle;\n    }\n\n    .dataframe tbody tr th {\n        vertical-align: top;\n    }\n\n    .dataframe thead th {\n        text-align: right;\n    }\n</style>\n<table border=\"1\" class=\"dataframe\">\n  <thead>\n    <tr style=\"text-align: right;\">\n      <th></th>\n      <th>Num_Acc</th>\n      <th>senc</th>\n      <th>catv</th>\n      <th>occutc</th>\n      <th>obs</th>\n      <th>obsm</th>\n      <th>choc</th>\n      <th>manv</th>\n    </tr>\n  </thead>\n  <tbody>\n    <tr>\n      <th>count</th>\n      <td>1.019240e+05</td>\n      <td>101852.000000</td>\n      <td>101924.000000</td>\n      <td>101924.000000</td>\n      <td>101886.000000</td>\n      <td>101874.000000</td>\n      <td>101913.000000</td>\n      <td>101917.000000</td>\n    </tr>\n    <tr>\n      <th>mean</th>\n      <td>2.016000e+11</td>\n      <td>1.041433</td>\n      <td>12.040363</td>\n      <td>0.070611</td>\n      <td>0.870630</td>\n      <td>1.594941</td>\n      <td>2.857947</td>\n      <td>5.703896</td>\n    </tr>\n    <tr>\n      <th>std</th>\n      <td>1.711804e+04</td>\n      <td>0.747403</td>\n      <td>11.028127</td>\n      <td>2.221603</td>\n      <td>2.931908</td>\n      <td>1.145935</td>\n      <td>2.476565</td>\n      <td>7.042847</td>\n    </tr>\n    <tr>\n      <th>min</th>\n      <td>2.016000e+11</td>\n      <td>0.000000</td>\n      <td>1.000000</td>\n      <td>0.000000</td>\n      <td>0.000000</td>\n      <td>0.000000</td>\n      <td>0.000000</td>\n      <td>0.000000</td>\n    </tr>\n    <tr>\n      <th>25%</th>\n      <td>2.016000e+11</td>\n      <td>0.000000</td>\n      <td>7.000000</td>\n      <td>0.000000</td>\n      <td>0.000000</td>\n      <td>1.000000</td>\n      <td>1.000000</td>\n      <td>1.000000</td>\n    </tr>\n    <tr>\n      <th>50%</th>\n      <td>2.016000e+11</td>\n      <td>1.000000</td>\n      <td>7.000000</td>\n      <td>0.000000</td>\n      <td>0.000000</td>\n      <td>2.000000</td>\n      <td>2.000000</td>\n      <td>1.000000</td>\n    </tr>\n    <tr>\n      <th>75%</th>\n      <td>2.016000e+11</td>\n      <td>2.000000</td>\n      <td>10.000000</td>\n      <td>0.000000</td>\n      <td>0.000000</td>\n      <td>2.000000</td>\n      <td>4.000000</td>\n      <td>13.000000</td>\n    </tr>\n    <tr>\n      <th>max</th>\n      <td>2.016001e+11</td>\n      <td>2.000000</td>\n      <td>99.000000</td>\n      <td>300.000000</td>\n      <td>16.000000</td>\n      <td>9.000000</td>\n      <td>9.000000</td>\n      <td>24.000000</td>\n    </tr>\n  </tbody>\n</table>\n</div>"
     },
     "execution_count": 29,
     "metadata": {},
     "output_type": "execute_result"
    }
   ]
  },
  {
   "cell_type": "markdown",
   "metadata": {
    "id": "KGaViCYQFT_N"
   },
   "source": [
    "Answer :the description of the dataframe, it shows the count, mean, std, min, max, 25%, 50%, 75% for each column"
   ]
  },
  {
   "cell_type": "markdown",
   "metadata": {
    "id": "RFoqLRmLFaOB"
   },
   "source": [
    "6) Display the first 30 values, then last 30."
   ]
  },
  {
   "cell_type": "code",
   "source": [
    "print(voiture.head(30))\n",
    "print(voiture.tail(30))"
   ],
   "metadata": {
    "colab": {
     "base_uri": "https://localhost:8080/",
     "height": 990
    },
    "id": "n_JikbWvDIvH",
    "outputId": "6ceacc99-ecfd-4342-b199-c9a0580ef2a4",
    "ExecuteTime": {
     "end_time": "2023-09-22T15:29:04.482006Z",
     "start_time": "2023-09-22T15:29:04.439954200Z"
    }
   },
   "execution_count": 30,
   "outputs": [
    {
     "name": "stdout",
     "output_type": "stream",
     "text": [
      "         Num_Acc  senc  catv  occutc   obs  obsm  choc  manv num_veh\n",
      "0   201600000001   0.0     7       0   0.0   0.0   1.0   1.0     B02\n",
      "1   201600000001   0.0     2       0   0.0   0.0   7.0  15.0     A01\n",
      "2   201600000002   0.0     7       0   6.0   0.0   1.0   1.0     A01\n",
      "3   201600000003   0.0     7       0   0.0   1.0   6.0   1.0     A01\n",
      "4   201600000004   0.0    32       0   0.0   0.0   1.0   1.0     B02\n",
      "5   201600000004   0.0     7       0   0.0   0.0   8.0  15.0     A01\n",
      "6   201600000005   0.0    30       0   0.0   2.0   1.0  15.0     B02\n",
      "7   201600000005   0.0     7       0   0.0   2.0   3.0   1.0     A01\n",
      "8   201600000006   0.0     7       0   0.0   1.0   1.0   1.0     A01\n",
      "9   201600000007   1.0    30       0   0.0   0.0   3.0  15.0     A01\n",
      "10  201600000007   1.0     7       0   0.0   2.0   2.0  17.0     B02\n",
      "11  201600000008   0.0     7       0   0.0   2.0   2.0   1.0     B02\n",
      "12  201600000008   0.0     7       0   0.0   2.0   3.0  13.0     A01\n",
      "13  201600000009   0.0     7       0   0.0   0.0   3.0   1.0     A01\n",
      "14  201600000009   0.0    30       0   0.0   0.0   2.0   1.0     B02\n",
      "15  201600000010   0.0     7       0   0.0   1.0   2.0   1.0     A01\n",
      "16  201600000011   0.0     7       0   0.0   1.0   1.0   1.0     A01\n",
      "17  201600000012   0.0    33       0   0.0   0.0   0.0   1.0     A01\n",
      "18  201600000013   0.0     7       0   0.0   1.0   2.0   1.0     A01\n",
      "19  201600000014   0.0    33       0   0.0   2.0   1.0  13.0     A01\n",
      "20  201600000014   0.0    33       0  14.0   0.0   9.0  21.0     B02\n",
      "21  201600000014   0.0     7       0   0.0   2.0   3.0   1.0     C03\n",
      "22  201600000015   0.0     1       0   0.0   2.0   1.0   0.0     B02\n",
      "23  201600000015   0.0     1       0   0.0   2.0   1.0   0.0     C03\n",
      "24  201600000015   0.0     7       0   0.0   2.0   3.0  16.0     A01\n",
      "25  201600000016   0.0     7       0   0.0   2.0   5.0  10.0     C03\n",
      "26  201600000016   0.0     7       0   0.0   2.0   2.0  10.0     B02\n",
      "27  201600000016   0.0    33       0   0.0   2.0   2.0   1.0     A01\n",
      "28  201600000017   0.0     7       0   2.0   0.0   8.0   1.0     A01\n",
      "29  201600000018   1.0     7       0   0.0   2.0   1.0   0.0     A01\n",
      "             Num_Acc  senc  catv  occutc   obs  obsm  choc  manv num_veh\n",
      "101894  201600059412   2.0    32       0   0.0   2.0   1.0   1.0     B01\n",
      "101895  201600059413   1.0    30       0  14.0   0.0   8.0  15.0     A01\n",
      "101896  201600059414   1.0     7       0   0.0   2.0   8.0   1.0     A01\n",
      "101897  201600059414   2.0    30       0   0.0   2.0   1.0  15.0     B01\n",
      "101898  201600059415   2.0    36       0   0.0   1.0   1.0  17.0     A01\n",
      "101899  201600059416   2.0     7       0   0.0   1.0   3.0   1.0     A01\n",
      "101900  201600059417   1.0     7       0   0.0   2.0   1.0   1.0     A01\n",
      "101901  201600059417   2.0     7       0   0.0   0.0   0.0  24.0     Z01\n",
      "101902  201600059418   2.0     7       0   0.0   1.0   3.0   1.0     A01\n",
      "101903  201600059419   1.0     7       0   0.0   1.0   0.0   0.0     Z01\n",
      "101904  201600059420   1.0     7       0   0.0   1.0   2.0   1.0     A01\n",
      "101905  201600059421   1.0     7       0  16.0   0.0   7.0  14.0     A01\n",
      "101906  201600059422   1.0     7       0   0.0   2.0   3.0  15.0     A01\n",
      "101907  201600059422   1.0     1       0   0.0   2.0   1.0   1.0     B01\n",
      "101908  201600059423   2.0    33       0   0.0   2.0   8.0  14.0     A01\n",
      "101909  201600059423   2.0    32       0   0.0   2.0   8.0   1.0     B01\n",
      "101910  201600059424   2.0    32       0   0.0   1.0   1.0   1.0     A01\n",
      "101911  201600059425   2.0    32       0   0.0   2.0   7.0  17.0     A01\n",
      "101912  201600059425   1.0     7       0   0.0   2.0   0.0   1.0     Z01\n",
      "101913  201600059426   2.0     1       0   0.0   2.0   1.0   9.0     A01\n",
      "101914  201600059426   2.0     7       0   0.0   9.0   7.0   1.0     B01\n",
      "101915  201600059427   1.0     2       0   0.0   1.0   1.0   1.0     A01\n",
      "101916  201600059428   2.0    32       0   0.0   1.0   7.0   1.0     A01\n",
      "101917  201600059429   2.0    30       0  11.0   0.0   1.0  14.0     A01\n",
      "101918  201600059430   2.0     7       0   0.0   2.0   8.0  15.0     A01\n",
      "101919  201600059430   1.0    30       0   0.0   2.0   1.0  17.0     B01\n",
      "101920  201600059431   2.0    30       0   0.0   2.0   7.0  15.0     A01\n",
      "101921  201600059431   1.0    30       0   0.0   2.0   1.0   1.0     B01\n",
      "101922  201600059432   1.0     2       0   0.0   2.0   7.0   1.0     A01\n",
      "101923  201600059432   2.0     7       0   0.0   2.0   1.0   9.0     B01\n"
     ]
    }
   ]
  },
  {
   "cell_type": "markdown",
   "metadata": {
    "id": "ML64S4z7rk0j"
   },
   "source": [
    "<a name=\"exercise-6\">\n",
    "\n",
    "### Exercise 2 : Explore traffic accidents vehicles\n",
    "---\n",
    "\n",
    "Read the documentation to understand the meanings of each column.\n",
    "\n",
    "Documentation: https://www.data.gouv.fr/fr/datasets/r/6cade01c-f69d-4779-b0a4-20606069888f"
   ]
  },
  {
   "cell_type": "markdown",
   "metadata": {
    "id": "4ow7P6ePBRvs"
   },
   "source": [
    "1) Then display the column names and rename it with the names of your choice. For the following questions, we use these column names:\n",
    "```\n",
    "[\n",
    "\"Num_Acc\", \"sens_de_Circulation\", \"catV\", \"nb_occupants\", \"obstacle_fixe\", \"obstacle_mobile\", \"choc\", \"manoeuvre\" , \"num_vehicule\"\n",
    "]\n",
    "```"
   ]
  },
  {
   "cell_type": "code",
   "execution_count": 31,
   "outputs": [
    {
     "name": "stdout",
     "output_type": "stream",
     "text": [
      "Index(['Num_Acc', 'senc', 'catv', 'occutc', 'obs', 'obsm', 'choc', 'manv',\n",
      "       'num_veh'],\n",
      "      dtype='object')\n",
      "Index(['Num_Acc', 'sens_de_Circulation', 'catV', 'nb_occupants',\n",
      "       'obstacle_fixe', 'obstacle_mobile', 'choc', 'manoeuvre',\n",
      "       'num_vehicule'],\n",
      "      dtype='object')\n"
     ]
    }
   ],
   "source": [
    "print(voiture.columns)\n",
    "voiture.columns = [\"Num_Acc\", \"sens_de_Circulation\", \"catV\",\"nb_occupants\", \"obstacle_fixe\", \"obstacle_mobile\", \"choc\", \"manoeuvre\" , \"num_vehicule\" ]\n",
    "print(voiture.columns)"
   ],
   "metadata": {
    "collapsed": false,
    "ExecuteTime": {
     "end_time": "2023-09-22T15:29:04.503598500Z",
     "start_time": "2023-09-22T15:29:04.457138800Z"
    }
   }
  },
  {
   "cell_type": "markdown",
   "metadata": {
    "id": "SJBvO8G3Bbnt"
   },
   "source": [
    "2) Get the number of null values by column. Then, display its proportion in the DataFrame.\n",
    "For example : 0.08% of col_1 are null"
   ]
  },
  {
   "cell_type": "code",
   "source": [
    "print(voiture.isna().sum())\n",
    "print(voiture.isna().sum()*100/len(voiture))"
   ],
   "metadata": {
    "id": "NMtuacCcWLqS",
    "ExecuteTime": {
     "end_time": "2023-09-22T15:29:04.630404Z",
     "start_time": "2023-09-22T15:29:04.465550Z"
    }
   },
   "execution_count": 32,
   "outputs": [
    {
     "name": "stdout",
     "output_type": "stream",
     "text": [
      "Num_Acc                 0\n",
      "sens_de_Circulation    72\n",
      "catV                    0\n",
      "nb_occupants            0\n",
      "obstacle_fixe          38\n",
      "obstacle_mobile        50\n",
      "choc                   11\n",
      "manoeuvre               7\n",
      "num_vehicule            0\n",
      "dtype: int64\n",
      "Num_Acc                0.000000\n",
      "sens_de_Circulation    0.070641\n",
      "catV                   0.000000\n",
      "nb_occupants           0.000000\n",
      "obstacle_fixe          0.037283\n",
      "obstacle_mobile        0.049056\n",
      "choc                   0.010792\n",
      "manoeuvre              0.006868\n",
      "num_vehicule           0.000000\n",
      "dtype: float64\n"
     ]
    }
   ]
  },
  {
   "cell_type": "markdown",
   "metadata": {
    "id": "Bdn9CD4iBoNo"
   },
   "source": [
    "#### Exploratory Data Analysis - Filters"
   ]
  },
  {
   "cell_type": "markdown",
   "metadata": {
    "id": "iQkK4EraBmwF"
   },
   "source": [
    "3) Select `obstacle fixe` column, what is the type of returned value ?"
   ]
  },
  {
   "cell_type": "code",
   "metadata": {
    "id": "ybwwvjfyBmTV",
    "ExecuteTime": {
     "end_time": "2023-09-22T15:29:04.634935900Z",
     "start_time": "2023-09-22T15:29:04.483005400Z"
    }
   },
   "source": [
    "print(voiture[[\"obstacle_fixe\"]])"
   ],
   "execution_count": 33,
   "outputs": [
    {
     "name": "stdout",
     "output_type": "stream",
     "text": [
      "        obstacle_fixe\n",
      "0                 0.0\n",
      "1                 0.0\n",
      "2                 6.0\n",
      "3                 0.0\n",
      "4                 0.0\n",
      "...               ...\n",
      "101919            0.0\n",
      "101920            0.0\n",
      "101921            0.0\n",
      "101922            0.0\n",
      "101923            0.0\n",
      "\n",
      "[101924 rows x 1 columns]\n"
     ]
    }
   ]
  },
  {
   "cell_type": "markdown",
   "metadata": {
    "id": "PAc2EjELDPiI"
   },
   "source": [
    "4) Convert the returned value to a NumPy array"
   ]
  },
  {
   "cell_type": "code",
   "metadata": {
    "id": "5HZXxTBgBzRx",
    "ExecuteTime": {
     "end_time": "2023-09-22T15:29:04.650441Z",
     "start_time": "2023-09-22T15:29:04.491960700Z"
    }
   },
   "source": [
    "obstacle_fixe_np = np.array(voiture[\"obstacle_fixe\"])\n",
    "obstacle_fixe_np = obstacle_fixe_np[~np.isnan(obstacle_fixe_np)]"
   ],
   "execution_count": 34,
   "outputs": []
  },
  {
   "cell_type": "markdown",
   "metadata": {
    "id": "Y6Hf233gDSe6"
   },
   "source": [
    "5) Compute the maximum value of the NumPy array"
   ]
  },
  {
   "cell_type": "code",
   "metadata": {
    "id": "TGyKnV9DDUXi",
    "colab": {
     "base_uri": "https://localhost:8080/",
     "height": 406
    },
    "outputId": "00049b0d-93f2-4adb-e393-e20318744f55",
    "ExecuteTime": {
     "end_time": "2023-09-22T15:29:04.650441Z",
     "start_time": "2023-09-22T15:29:04.495472600Z"
    }
   },
   "source": [
    "print(obstacle_fixe_np.max())"
   ],
   "execution_count": 35,
   "outputs": [
    {
     "name": "stdout",
     "output_type": "stream",
     "text": [
      "16.0\n"
     ]
    }
   ]
  },
  {
   "cell_type": "markdown",
   "metadata": {
    "id": "xDqkz9-XDU0o"
   },
   "source": [
    "6) Select `catV` & `sens_de_Circulation columns together"
   ]
  },
  {
   "cell_type": "code",
   "metadata": {
    "id": "N8FliHf8Da_D",
    "colab": {
     "base_uri": "https://localhost:8080/",
     "height": 176
    },
    "outputId": "ec71b8d5-6c6c-47b0-ea54-48b2195e72ca",
    "ExecuteTime": {
     "end_time": "2023-09-22T15:29:04.652191300Z",
     "start_time": "2023-09-22T15:29:04.499601200Z"
    }
   },
   "source": [
    "multcoll = voiture[[\"sens_de_Circulation\", \"catV\"]]\n",
    "print(multcoll)"
   ],
   "execution_count": 36,
   "outputs": [
    {
     "name": "stdout",
     "output_type": "stream",
     "text": [
      "        sens_de_Circulation  catV\n",
      "0                       0.0     7\n",
      "1                       0.0     2\n",
      "2                       0.0     7\n",
      "3                       0.0     7\n",
      "4                       0.0    32\n",
      "...                     ...   ...\n",
      "101919                  1.0    30\n",
      "101920                  2.0    30\n",
      "101921                  1.0    30\n",
      "101922                  1.0     2\n",
      "101923                  2.0     7\n",
      "\n",
      "[101924 rows x 2 columns]\n"
     ]
    }
   ]
  },
  {
   "cell_type": "markdown",
   "metadata": {
    "id": "2h1kh2YbDbbB"
   },
   "source": [
    "7) Select all the columns containing ‘obstacle’ in their name"
   ]
  },
  {
   "cell_type": "code",
   "metadata": {
    "id": "WOxecBTuDdyV",
    "ExecuteTime": {
     "end_time": "2023-09-22T15:29:04.653197900Z",
     "start_time": "2023-09-22T15:29:04.509189900Z"
    }
   },
   "source": [
    "filtcoll = voiture.filter(like=\"obstacle\")\n",
    "print(filtcoll)"
   ],
   "execution_count": 37,
   "outputs": [
    {
     "name": "stdout",
     "output_type": "stream",
     "text": [
      "        obstacle_fixe  obstacle_mobile\n",
      "0                 0.0              0.0\n",
      "1                 0.0              0.0\n",
      "2                 6.0              0.0\n",
      "3                 0.0              1.0\n",
      "4                 0.0              0.0\n",
      "...               ...              ...\n",
      "101919            0.0              2.0\n",
      "101920            0.0              2.0\n",
      "101921            0.0              2.0\n",
      "101922            0.0              2.0\n",
      "101923            0.0              2.0\n",
      "\n",
      "[101924 rows x 2 columns]\n"
     ]
    }
   ]
  },
  {
   "cell_type": "markdown",
   "metadata": {
    "id": "OfTOsYD7DeHt"
   },
   "source": [
    "8) Select all rows with null values for 'sens_de_Circulation' column"
   ]
  },
  {
   "cell_type": "code",
   "metadata": {
    "id": "QnFlP7BjDgBi",
    "ExecuteTime": {
     "end_time": "2023-09-22T15:29:04.654198600Z",
     "start_time": "2023-09-22T15:29:04.518169300Z"
    }
   },
   "source": [
    "sens_de_Circulation = voiture[\"sens_de_Circulation\"]\n",
    "nullrows = sens_de_Circulation[sens_de_Circulation.isnull()]\n",
    "print(nullrows)"
   ],
   "execution_count": 38,
   "outputs": [
    {
     "name": "stdout",
     "output_type": "stream",
     "text": [
      "4153    NaN\n",
      "4504    NaN\n",
      "8407    NaN\n",
      "12686   NaN\n",
      "14845   NaN\n",
      "         ..\n",
      "74516   NaN\n",
      "74612   NaN\n",
      "74771   NaN\n",
      "74814   NaN\n",
      "84082   NaN\n",
      "Name: sens_de_Circulation, Length: 72, dtype: float64\n"
     ]
    }
   ]
  },
  {
   "cell_type": "markdown",
   "metadata": {
    "id": "8-Iuvmt6DgRV"
   },
   "source": [
    "9) Sort the data frame using the accident number column"
   ]
  },
  {
   "cell_type": "code",
   "execution_count": 39,
   "outputs": [
    {
     "name": "stdout",
     "output_type": "stream",
     "text": [
      "             Num_Acc  sens_de_Circulation  catV  nb_occupants  obstacle_fixe  \\\n",
      "0       201600000001                  0.0     7             0            0.0   \n",
      "1       201600000001                  0.0     2             0            0.0   \n",
      "2       201600000002                  0.0     7             0            6.0   \n",
      "3       201600000003                  0.0     7             0            0.0   \n",
      "4       201600000004                  0.0    32             0            0.0   \n",
      "...              ...                  ...   ...           ...            ...   \n",
      "101919  201600059430                  1.0    30             0            0.0   \n",
      "101920  201600059431                  2.0    30             0            0.0   \n",
      "101921  201600059431                  1.0    30             0            0.0   \n",
      "101922  201600059432                  1.0     2             0            0.0   \n",
      "101923  201600059432                  2.0     7             0            0.0   \n",
      "\n",
      "        obstacle_mobile  choc  manoeuvre num_vehicule  \n",
      "0                   0.0   1.0        1.0          B02  \n",
      "1                   0.0   7.0       15.0          A01  \n",
      "2                   0.0   1.0        1.0          A01  \n",
      "3                   1.0   6.0        1.0          A01  \n",
      "4                   0.0   1.0        1.0          B02  \n",
      "...                 ...   ...        ...          ...  \n",
      "101919              2.0   1.0       17.0          B01  \n",
      "101920              2.0   7.0       15.0          A01  \n",
      "101921              2.0   1.0        1.0          B01  \n",
      "101922              2.0   7.0        1.0          A01  \n",
      "101923              2.0   1.0        9.0          B01  \n",
      "\n",
      "[101924 rows x 9 columns]\n"
     ]
    }
   ],
   "source": [
    "sortcoll = voiture.sort_values(by=[\"Num_Acc\"])\n",
    "print(sortcoll)"
   ],
   "metadata": {
    "collapsed": false,
    "ExecuteTime": {
     "end_time": "2023-09-22T15:29:04.654198600Z",
     "start_time": "2023-09-22T15:29:04.524756700Z"
    }
   }
  },
  {
   "cell_type": "markdown",
   "metadata": {
    "id": "I0JWEOmODikc"
   },
   "source": [
    "10) Sort the values using the accident number column, then the vehicle category column"
   ]
  },
  {
   "cell_type": "code",
   "metadata": {
    "id": "SbrB8ixEDlDX",
    "ExecuteTime": {
     "end_time": "2023-09-22T15:29:04.727048800Z",
     "start_time": "2023-09-22T15:29:04.538002800Z"
    }
   },
   "source": [
    "sortcollalt = voiture.sort_values(by=[\"Num_Acc\", \"catV\"])\n",
    "print(sortcollalt)"
   ],
   "execution_count": 40,
   "outputs": [
    {
     "name": "stdout",
     "output_type": "stream",
     "text": [
      "             Num_Acc  sens_de_Circulation  catV  nb_occupants  obstacle_fixe  \\\n",
      "1       201600000001                  0.0     2             0            0.0   \n",
      "0       201600000001                  0.0     7             0            0.0   \n",
      "2       201600000002                  0.0     7             0            6.0   \n",
      "3       201600000003                  0.0     7             0            0.0   \n",
      "5       201600000004                  0.0     7             0            0.0   \n",
      "...              ...                  ...   ...           ...            ...   \n",
      "101919  201600059430                  1.0    30             0            0.0   \n",
      "101920  201600059431                  2.0    30             0            0.0   \n",
      "101921  201600059431                  1.0    30             0            0.0   \n",
      "101922  201600059432                  1.0     2             0            0.0   \n",
      "101923  201600059432                  2.0     7             0            0.0   \n",
      "\n",
      "        obstacle_mobile  choc  manoeuvre num_vehicule  \n",
      "1                   0.0   7.0       15.0          A01  \n",
      "0                   0.0   1.0        1.0          B02  \n",
      "2                   0.0   1.0        1.0          A01  \n",
      "3                   1.0   6.0        1.0          A01  \n",
      "5                   0.0   8.0       15.0          A01  \n",
      "...                 ...   ...        ...          ...  \n",
      "101919              2.0   1.0       17.0          B01  \n",
      "101920              2.0   7.0       15.0          A01  \n",
      "101921              2.0   1.0        1.0          B01  \n",
      "101922              2.0   7.0        1.0          A01  \n",
      "101923              2.0   1.0        9.0          B01  \n",
      "\n",
      "[101924 rows x 9 columns]\n"
     ]
    }
   ]
  },
  {
   "cell_type": "markdown",
   "metadata": {
    "id": "UP_OrI7nDlUW"
   },
   "source": [
    "11) Select the 4153rd row. Then select row having index '4153'. What is the difference between both?"
   ]
  },
  {
   "cell_type": "code",
   "metadata": {
    "id": "b_jyAwDcDoNC",
    "ExecuteTime": {
     "end_time": "2023-09-22T15:29:04.728048300Z",
     "start_time": "2023-09-22T15:29:04.571010200Z"
    }
   },
   "source": [
    "sprow = voiture.iloc[4153]\n",
    "sprowalt = voiture.loc[4153]\n",
    "print(sprow)\n",
    "print(sprowalt)\n",
    "#the difference between getting the row with the index 4153 and the 4153rd row is\n",
    "    # for the row with the index 4153 we get the row with the index 4153 and for the 4153rd row we get the row with\n",
    "    # the index 4154"
   ],
   "execution_count": 41,
   "outputs": [
    {
     "name": "stdout",
     "output_type": "stream",
     "text": [
      "Num_Acc                201600002519\n",
      "sens_de_Circulation             NaN\n",
      "catV                              1\n",
      "nb_occupants                      0\n",
      "obstacle_fixe                   0.0\n",
      "obstacle_mobile                 2.0\n",
      "choc                            8.0\n",
      "manoeuvre                       2.0\n",
      "num_vehicule                    B02\n",
      "Name: 4153, dtype: object\n",
      "Num_Acc                201600002519\n",
      "sens_de_Circulation             NaN\n",
      "catV                              1\n",
      "nb_occupants                      0\n",
      "obstacle_fixe                   0.0\n",
      "obstacle_mobile                 2.0\n",
      "choc                            8.0\n",
      "manoeuvre                       2.0\n",
      "num_vehicule                    B02\n",
      "Name: 4153, dtype: object\n"
     ]
    }
   ]
  },
  {
   "cell_type": "markdown",
   "metadata": {
    "id": "8VzWN-27Dobm"
   },
   "source": [
    "12)  Set Num_Acc as index\n",
    "\n",
    "a. Make sure to use `inplace=True to save the value in the dataframe\n",
    "\n",
    "b. Can you still get the row having index '4153'? Explain.\n",
    "    No because the index is now the Num_Ac, so we can't get the row with the index 4153\n",
    "\n",
    "c. Finally, Restore the index as it was before."
   ]
  },
  {
   "cell_type": "code",
   "metadata": {
    "id": "c3z1swQiDvg6",
    "ExecuteTime": {
     "end_time": "2023-09-22T15:29:49.497058700Z",
     "start_time": "2023-09-22T15:29:49.472620300Z"
    }
   },
   "source": [
    "voiture.set_index(\"Num_Acc\", inplace=True)\n",
    "print(voiture)\n",
    "voiture.reset_index(inplace=True)\n",
    "print(voiture)"
   ],
   "execution_count": 45,
   "outputs": [
    {
     "name": "stdout",
     "output_type": "stream",
     "text": [
      "              sens_de_Circulation  catV  nb_occupants  obstacle_fixe  \\\n",
      "Num_Acc                                                                \n",
      "201600000001                  0.0     7             0            0.0   \n",
      "201600000001                  0.0     2             0            0.0   \n",
      "201600000002                  0.0     7             0            6.0   \n",
      "201600000003                  0.0     7             0            0.0   \n",
      "201600000004                  0.0    32             0            0.0   \n",
      "...                           ...   ...           ...            ...   \n",
      "201600059430                  1.0    30             0            0.0   \n",
      "201600059431                  2.0    30             0            0.0   \n",
      "201600059431                  1.0    30             0            0.0   \n",
      "201600059432                  1.0     2             0            0.0   \n",
      "201600059432                  2.0     7             0            0.0   \n",
      "\n",
      "              obstacle_mobile  choc  manoeuvre num_vehicule  \n",
      "Num_Acc                                                      \n",
      "201600000001              0.0   1.0        1.0          B02  \n",
      "201600000001              0.0   7.0       15.0          A01  \n",
      "201600000002              0.0   1.0        1.0          A01  \n",
      "201600000003              1.0   6.0        1.0          A01  \n",
      "201600000004              0.0   1.0        1.0          B02  \n",
      "...                       ...   ...        ...          ...  \n",
      "201600059430              2.0   1.0       17.0          B01  \n",
      "201600059431              2.0   7.0       15.0          A01  \n",
      "201600059431              2.0   1.0        1.0          B01  \n",
      "201600059432              2.0   7.0        1.0          A01  \n",
      "201600059432              2.0   1.0        9.0          B01  \n",
      "\n",
      "[101924 rows x 8 columns]\n",
      "             Num_Acc  sens_de_Circulation  catV  nb_occupants  obstacle_fixe  \\\n",
      "0       201600000001                  0.0     7             0            0.0   \n",
      "1       201600000001                  0.0     2             0            0.0   \n",
      "2       201600000002                  0.0     7             0            6.0   \n",
      "3       201600000003                  0.0     7             0            0.0   \n",
      "4       201600000004                  0.0    32             0            0.0   \n",
      "...              ...                  ...   ...           ...            ...   \n",
      "101919  201600059430                  1.0    30             0            0.0   \n",
      "101920  201600059431                  2.0    30             0            0.0   \n",
      "101921  201600059431                  1.0    30             0            0.0   \n",
      "101922  201600059432                  1.0     2             0            0.0   \n",
      "101923  201600059432                  2.0     7             0            0.0   \n",
      "\n",
      "        obstacle_mobile  choc  manoeuvre num_vehicule  \n",
      "0                   0.0   1.0        1.0          B02  \n",
      "1                   0.0   7.0       15.0          A01  \n",
      "2                   0.0   1.0        1.0          A01  \n",
      "3                   1.0   6.0        1.0          A01  \n",
      "4                   0.0   1.0        1.0          B02  \n",
      "...                 ...   ...        ...          ...  \n",
      "101919              2.0   1.0       17.0          B01  \n",
      "101920              2.0   7.0       15.0          A01  \n",
      "101921              2.0   1.0        1.0          B01  \n",
      "101922              2.0   7.0        1.0          A01  \n",
      "101923              2.0   1.0        9.0          B01  \n",
      "\n",
      "[101924 rows x 9 columns]\n"
     ]
    }
   ]
  },
  {
   "cell_type": "markdown",
   "metadata": {
    "id": "WjhJw8BaB0bG"
   },
   "source": [
    "#### Exploratory Data Analysis - Queries\n",
    "\n",
    "13) Select accident that have a vehicle number W23"
   ]
  },
  {
   "cell_type": "code",
   "metadata": {
    "id": "Hbs8rR9PD0cg",
    "ExecuteTime": {
     "end_time": "2023-09-22T15:30:07.761213Z",
     "start_time": "2023-09-22T15:30:07.745757800Z"
    }
   },
   "source": [
    "print(voiture[voiture[\"num_vehicule\"] == \"W23\"])"
   ],
   "execution_count": 46,
   "outputs": [
    {
     "name": "stdout",
     "output_type": "stream",
     "text": [
      "           Num_Acc  sens_de_Circulation  catV  nb_occupants  obstacle_fixe  \\\n",
      "4073  201600002473                  2.0     7             0            0.0   \n",
      "\n",
      "      obstacle_mobile  choc  manoeuvre num_vehicule  \n",
      "4073              0.0   0.0        1.0          W23  \n"
     ]
    }
   ]
  },
  {
   "cell_type": "markdown",
   "metadata": {
    "id": "m-IbJNSLD0u-"
   },
   "source": [
    "14) Select the top 5 accidents that caused the most damage"
   ]
  },
  {
   "cell_type": "code",
   "metadata": {
    "id": "hCt37rW2D22y",
    "ExecuteTime": {
     "end_time": "2023-09-22T15:32:34.327071Z",
     "start_time": "2023-09-22T15:32:34.284053800Z"
    }
   },
   "source": [
    "print(voiture.sort_values(by=[\"nb_occupants\"], ascending=False).head(5))"
   ],
   "execution_count": 47,
   "outputs": [
    {
     "name": "stdout",
     "output_type": "stream",
     "text": [
      "            Num_Acc  sens_de_Circulation  catV  nb_occupants  obstacle_fixe  \\\n",
      "9906   201600006084                  1.0    39           300            1.0   \n",
      "40250  201600023870                  2.0    40           210            0.0   \n",
      "40217  201600023850                  1.0    40           200            0.0   \n",
      "40055  201600023760                  1.0    40           150            0.0   \n",
      "40025  201600023740                  1.0    40           150            0.0   \n",
      "\n",
      "       obstacle_mobile  choc  manoeuvre num_vehicule  \n",
      "9906               0.0   1.0        0.0          B02  \n",
      "40250              2.0   2.0        1.0          B01  \n",
      "40217              2.0   3.0        1.0          A01  \n",
      "40055              1.0   1.0        1.0          A01  \n",
      "40025              2.0   2.0        1.0          B01  \n"
     ]
    }
   ]
  },
  {
   "cell_type": "markdown",
   "metadata": {
    "id": "IL8dplt1D3E4"
   },
   "source": [
    "15) Count the number of damaged vehicles, by vehicle category and number of occupants"
   ]
  },
  {
   "cell_type": "code",
   "metadata": {
    "id": "QiklFHdHD5me",
    "ExecuteTime": {
     "end_time": "2023-09-22T15:29:04.729047200Z",
     "start_time": "2023-09-22T15:29:04.596530900Z"
    }
   },
   "source": [],
   "execution_count": 42,
   "outputs": []
  },
  {
   "cell_type": "markdown",
   "metadata": {
    "id": "AJlKOSxbD6Na"
   },
   "source": [
    "16) From the previous result, select category vehicle '40', having '140' occupants"
   ]
  },
  {
   "cell_type": "code",
   "metadata": {
    "id": "yL0hlNK-D86F",
    "ExecuteTime": {
     "end_time": "2023-09-22T15:29:04.729047200Z",
     "start_time": "2023-09-22T15:29:04.598536600Z"
    }
   },
   "source": [],
   "execution_count": 42,
   "outputs": []
  },
  {
   "cell_type": "markdown",
   "metadata": {
    "id": "xnjOpe1TD9UI"
   },
   "source": [
    "17) Calculate the number of occupants by vehicle category"
   ]
  },
  {
   "cell_type": "code",
   "metadata": {
    "id": "1nqh2CWYD_so",
    "ExecuteTime": {
     "end_time": "2023-09-22T15:29:04.729047200Z",
     "start_time": "2023-09-22T15:29:04.602775300Z"
    }
   },
   "source": [],
   "execution_count": 42,
   "outputs": []
  },
  {
   "cell_type": "markdown",
   "metadata": {
    "id": "ybTRlye3D_5c"
   },
   "source": [
    "18) Compute the number of damages per vehicle category"
   ]
  },
  {
   "cell_type": "code",
   "metadata": {
    "id": "uNkeDgBpEB5W",
    "ExecuteTime": {
     "end_time": "2023-09-22T15:29:04.729047200Z",
     "start_time": "2023-09-22T15:29:04.606605100Z"
    }
   },
   "source": [],
   "execution_count": 42,
   "outputs": []
  },
  {
   "cell_type": "markdown",
   "metadata": {
    "id": "lX2BQaALECM5"
   },
   "source": [
    "19) Select all the lines with a category vehicle between 37 and 40 inclusive. (These values correspond to public transport)"
   ]
  },
  {
   "cell_type": "code",
   "metadata": {
    "id": "aPai1idrEGY6",
    "ExecuteTime": {
     "end_time": "2023-09-22T15:29:04.730052500Z",
     "start_time": "2023-09-22T15:29:04.609063100Z"
    }
   },
   "source": [],
   "execution_count": 42,
   "outputs": []
  },
  {
   "cell_type": "markdown",
   "metadata": {
    "id": "TTNJP-dLEHCE"
   },
   "source": [
    "20) Create a new column with a Boolean value, showing whether the accident happened in public transport or not"
   ]
  },
  {
   "cell_type": "code",
   "metadata": {
    "id": "GWGmeZ2REJyJ",
    "ExecuteTime": {
     "end_time": "2023-09-22T15:29:04.730052500Z",
     "start_time": "2023-09-22T15:29:04.610574100Z"
    }
   },
   "source": [],
   "execution_count": 42,
   "outputs": []
  },
  {
   "cell_type": "markdown",
   "metadata": {
    "id": "pNNyWRdQEKHF"
   },
   "source": [
    "21) Check that the new column is working well. For this, it is necessary to verify that the number of occupants in vehicles excluding public transport is equal to 0. Contrary to what we can see in the data in the other group."
   ]
  },
  {
   "cell_type": "code",
   "metadata": {
    "id": "n8qTLp4XEMPc",
    "ExecuteTime": {
     "end_time": "2023-09-22T15:29:04.731051200Z",
     "start_time": "2023-09-22T15:29:04.621335700Z"
    }
   },
   "source": [],
   "execution_count": 42,
   "outputs": []
  },
  {
   "cell_type": "markdown",
   "metadata": {
    "id": "lfNthheZEMor"
   },
   "source": [
    "22) Create a new dataframe, which contains only public transport accidents"
   ]
  },
  {
   "cell_type": "code",
   "metadata": {
    "id": "xMkEPtw2EO9v",
    "ExecuteTime": {
     "end_time": "2023-09-22T15:29:04.731051200Z",
     "start_time": "2023-09-22T15:29:04.623835900Z"
    }
   },
   "source": [],
   "execution_count": 42,
   "outputs": []
  },
  {
   "cell_type": "markdown",
   "metadata": {
    "id": "KYlgN7zuEPLK"
   },
   "source": [
    "23) Obtain the average number of occupants by vehicle category, and sort the result"
   ]
  },
  {
   "cell_type": "code",
   "metadata": {
    "id": "HfRBdYz5EQ_9",
    "ExecuteTime": {
     "end_time": "2023-09-22T15:29:04.731051200Z",
     "start_time": "2023-09-22T15:29:04.626397600Z"
    }
   },
   "source": [],
   "execution_count": 42,
   "outputs": []
  },
  {
   "cell_type": "markdown",
   "metadata": {
    "id": "R6xgyhqMERPJ"
   },
   "source": [
    "24) Map the vehicle category, obstacles (fixed and mobile) using the dictionary defined in mapping.py (you can use the mapping.py file, but you can also create your own mappings)."
   ]
  },
  {
   "cell_type": "code",
   "metadata": {
    "id": "5YNOuZo3ETKV",
    "ExecuteTime": {
     "end_time": "2023-09-22T15:29:04.746048800Z",
     "start_time": "2023-09-22T15:29:04.630404Z"
    }
   },
   "source": [
    "from mapping import *"
   ],
   "execution_count": 43,
   "outputs": []
  },
  {
   "cell_type": "markdown",
   "metadata": {
    "id": "MIc1dQklB6li"
   },
   "source": [
    "#### Heat Map - Vehicle Category vs Accident Moving Obstacle"
   ]
  },
  {
   "cell_type": "markdown",
   "metadata": {
    "id": "e0oo5Cv2CC-N"
   },
   "source": [
    "25) Create a new database, projecting the category of the vehicle in relation to the moving obstacle.\n",
    "\n",
    "The values of the data frame will be the sum of the respective occupant numbers.\n",
    "\n",
    "This database can be referred to as a heat map of the number of accidents by type of transport and obstacle."
   ]
  },
  {
   "cell_type": "code",
   "metadata": {
    "id": "6mcPyxtXCJ33",
    "ExecuteTime": {
     "end_time": "2023-09-22T15:29:04.748048100Z",
     "start_time": "2023-09-22T15:29:04.637236Z"
    }
   },
   "source": [],
   "execution_count": 43,
   "outputs": []
  },
  {
   "cell_type": "markdown",
   "metadata": {
    "id": "Ue8jp_doCLLj"
   },
   "source": [
    "26) Using the previous results, obtain the most dangerous mode of transport for the public."
   ]
  },
  {
   "cell_type": "code",
   "metadata": {
    "id": "38eBzqcXCLuF",
    "ExecuteTime": {
     "end_time": "2023-09-22T15:29:04.748048100Z",
     "start_time": "2023-09-22T15:29:04.639242800Z"
    }
   },
   "source": [],
   "execution_count": 43,
   "outputs": []
  },
  {
   "cell_type": "markdown",
   "metadata": {
    "id": "tD11bVAmCMNi"
   },
   "source": [
    "27) Sort the heatmap from the most dangerous to the least dangerous means of transport."
   ]
  },
  {
   "cell_type": "code",
   "metadata": {
    "id": "Td3-GlYGCU99",
    "ExecuteTime": {
     "end_time": "2023-09-22T15:29:05.005952700Z",
     "start_time": "2023-09-22T15:29:04.644929700Z"
    }
   },
   "source": [],
   "execution_count": 43,
   "outputs": []
  },
  {
   "cell_type": "markdown",
   "metadata": {
    "id": "oz1G6HmSCVO9"
   },
   "source": [
    "28) Get the most dangerous moving obstacle when using public tranpsortation."
   ]
  },
  {
   "cell_type": "code",
   "metadata": {
    "id": "oqkRLAw0CbQg",
    "ExecuteTime": {
     "end_time": "2023-09-22T15:29:05.005952700Z",
     "start_time": "2023-09-22T15:29:04.648432400Z"
    }
   },
   "source": [],
   "execution_count": 43,
   "outputs": []
  },
  {
   "cell_type": "markdown",
   "metadata": {
    "id": "qtCAEoMbCa2H"
   },
   "source": [
    "29) Sort the heat map from the most dangerous to the least dangerous entity (means of transport, and moving obstacle)"
   ]
  },
  {
   "cell_type": "code",
   "metadata": {
    "id": "P-Y6uV7VChyy",
    "ExecuteTime": {
     "end_time": "2023-09-22T15:29:05.049079500Z",
     "start_time": "2023-09-22T15:29:04.652191300Z"
    }
   },
   "source": [],
   "execution_count": 43,
   "outputs": []
  }
 ]
}
