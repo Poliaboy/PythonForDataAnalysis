{
 "cells": [
  {
   "cell_type": "markdown",
   "metadata": {},
   "source": [
    "## Regular expression operations\n",
    "\n",
    "A regular expression is a special sequence of characters that helps you match or find other strings or sets of strings, using a specialized syntax held in a pattern. Python has a built-in package called re, which can be used to work with Regular Expres-sions.\n",
    "\n",
    "You can find details here: https://docs.python.org/3/library/re.html#regular-expression-syntax\n"
   ],
   "id": "951c4ae949789ce2"
  },
  {
   "cell_type": "code",
   "execution_count": 121,
   "metadata": {
    "ExecuteTime": {
     "end_time": "2023-10-18T18:01:48.342507200Z",
     "start_time": "2023-10-18T18:01:47.275018600Z"
    }
   },
   "outputs": [],
   "source": [
    "import re \n",
    "import requests\n",
    "from bs4 import BeautifulSoup\n",
    "import pandas as pd\n",
    "from io import StringIO\n",
    "import matplotlib.pyplot as plt"
   ],
   "id": "5376ff79b12cde2b"
  },
  {
   "cell_type": "markdown",
   "metadata": {},
   "source": [
    "\n",
    "#### 1. Write a regexp to extract the score, Cristiano’s age, number of goals and the number of selections from the following text:"
   ],
   "id": "7cc592e4fb485bf1"
  },
  {
   "cell_type": "code",
   "execution_count": 85,
   "metadata": {
    "ExecuteTime": {
     "end_time": "2023-10-18T17:58:21.163704Z",
     "start_time": "2023-10-18T17:58:20.835443700Z"
    }
   },
   "outputs": [],
   "source": [
    "txt = \"Buteur face au Qatar (3-0), samedi en amical, Cristiano Ronaldo (36 ans) a fait tomber un nouveau record. En effet, l'attaquant de Manchester United, meilleur buteur de l'histoire des sélections (112 buts), est devenu le footballeur européen le plus capé avec son équipe nationale. Il compte désormais 181 matchs avec la formation lusitanienne, soit un de plus que Sergio Ramos avec l'Espagne. Le Red Devil n'est plus qu'à cinq longueurs de Bader Ahmed al-Mutawa (Koweït), recordman absolu à l'échelle mondiale.\""
   ],
   "id": "b717f8df8d954a2"
  },
  {
   "cell_type": "code",
   "execution_count": 86,
   "outputs": [],
   "source": [
    "# Define the regex patterns\n",
    "score_pattern = r'(\\d+-\\d+)'\n",
    "age_pattern = r'\\((\\d+) ans\\)'\n",
    "goals_pattern = r'\\((\\d+) buts\\)'\n",
    "selections_pattern = r'(\\d+) matchs'\n"
   ],
   "metadata": {
    "collapsed": false,
    "ExecuteTime": {
     "end_time": "2023-10-18T17:58:21.163704Z",
     "start_time": "2023-10-18T17:58:20.842692800Z"
    }
   },
   "id": "c6c00987c6d54f01"
  },
  {
   "cell_type": "code",
   "execution_count": 87,
   "outputs": [
    {
     "name": "stdout",
     "output_type": "stream",
     "text": [
      "<re.Match object; span=(22, 25), match='3-0'> <re.Match object; span=(64, 72), match='(36 ans)'> <re.Match object; span=(195, 205), match='(112 buts)'> <re.Match object; span=(302, 312), match='181 matchs'>\n"
     ]
    }
   ],
   "source": [
    "# Extract the information using the regex patterns\n",
    "score_match = re.search(score_pattern, txt)\n",
    "age_match = re.search(age_pattern, txt)\n",
    "goals_match = re.search(goals_pattern, txt)\n",
    "selections_match = re.search(selections_pattern, txt)\n",
    "print(score_match, age_match, goals_match, selections_match)"
   ],
   "metadata": {
    "collapsed": false,
    "ExecuteTime": {
     "end_time": "2023-10-18T17:58:21.564847600Z",
     "start_time": "2023-10-18T17:58:20.848217200Z"
    }
   },
   "id": "e9a304614a96fd6e"
  },
  {
   "cell_type": "code",
   "execution_count": 88,
   "outputs": [],
   "source": [
    "# Extract the information from the match objects\n",
    "score = score_match.group(1) if score_match else None\n",
    "age = int(age_match.group(1)) if age_match else None\n",
    "goals = int(goals_match.group(1)) if goals_match else None\n",
    "selections = int(selections_match.group(1)) if selections_match else None"
   ],
   "metadata": {
    "collapsed": false,
    "ExecuteTime": {
     "end_time": "2023-10-18T17:58:21.565848700Z",
     "start_time": "2023-10-18T17:58:20.856101800Z"
    }
   },
   "id": "63354e5346652b38"
  },
  {
   "cell_type": "code",
   "execution_count": 89,
   "outputs": [
    {
     "data": {
      "text/plain": "('3-0', 36, 112, 181)"
     },
     "execution_count": 89,
     "metadata": {},
     "output_type": "execute_result"
    }
   ],
   "source": [
    "# Print the results\n",
    "score, age, goals, selections"
   ],
   "metadata": {
    "collapsed": false,
    "ExecuteTime": {
     "end_time": "2023-10-18T17:58:21.591412Z",
     "start_time": "2023-10-18T17:58:20.863155800Z"
    }
   },
   "id": "dfd236c56e601e87"
  },
  {
   "cell_type": "markdown",
   "metadata": {},
   "source": [
    "#### 2. Write a regexp to get prices from the following text:"
   ],
   "id": "8bd017e53154511d"
  },
  {
   "cell_type": "code",
   "execution_count": 90,
   "metadata": {
    "ExecuteTime": {
     "end_time": "2023-10-18T17:58:21.591412Z",
     "start_time": "2023-10-18T17:58:20.871256700Z"
    }
   },
   "outputs": [],
   "source": [
    "txt = \"Vous cherchez un nouvel ordinateur portable performant, fiable et en réduction ? Sur Rakuten, l’ordinateur Apple MacBook Air 2020 est en promotion, avec une remise de près de 230 euros pour un tarif final qui chute sous les 900 euros grâce à la plateforme marchande.\""
   ],
   "id": "1a990282f3175f6b"
  },
  {
   "cell_type": "code",
   "execution_count": 91,
   "outputs": [],
   "source": [
    "# Define the regex pattern\n",
    "price_pattern = r'(\\d+ euros)'"
   ],
   "metadata": {
    "collapsed": false,
    "ExecuteTime": {
     "end_time": "2023-10-18T17:58:21.591412Z",
     "start_time": "2023-10-18T17:58:20.877085200Z"
    }
   },
   "id": "1a98a986b7a7e2a0"
  },
  {
   "cell_type": "code",
   "execution_count": 92,
   "outputs": [],
   "source": [
    "# Extract the information using the regex pattern\n",
    "price_match = re.findall(price_pattern, txt, re.IGNORECASE)"
   ],
   "metadata": {
    "collapsed": false,
    "ExecuteTime": {
     "end_time": "2023-10-18T17:58:21.638122700Z",
     "start_time": "2023-10-18T17:58:20.881126Z"
    }
   },
   "id": "5883f3ee50bf74e1"
  },
  {
   "cell_type": "code",
   "execution_count": 93,
   "outputs": [
    {
     "data": {
      "text/plain": "['230 euros', '900 euros']"
     },
     "execution_count": 93,
     "metadata": {},
     "output_type": "execute_result"
    }
   ],
   "source": [
    "# Print the result\n",
    "price_match"
   ],
   "metadata": {
    "collapsed": false,
    "ExecuteTime": {
     "end_time": "2023-10-18T17:58:21.743386900Z",
     "start_time": "2023-10-18T17:58:20.889174500Z"
    }
   },
   "id": "3ab63f1cad2e3921"
  },
  {
   "cell_type": "markdown",
   "metadata": {},
   "source": [
    "#### 3. Write a regexp to get reduction values, along with promo code:"
   ],
   "id": "faa2e2d64f1264d6"
  },
  {
   "cell_type": "code",
   "execution_count": 94,
   "metadata": {
    "ExecuteTime": {
     "end_time": "2023-10-18T17:58:21.755911600Z",
     "start_time": "2023-10-18T17:58:20.897311800Z"
    }
   },
   "outputs": [],
   "source": [
    "txt = \"\"\"\n",
    "- 40% sur tous les réservoirs d'essence et collecteurs d'échappement ( achats internet uniquement ) avec le code promo: PRINTEMPS\n",
    "\n",
    "- 40% sur tous les carénages plastique  ( achats internet uniquement ) avec le code promo: CARENAGE40\n",
    "\n",
    "- 50% sur toutes les rampes d'injection ( achats internet uniquement ) avec le code promo: INJECTION50\n",
    "\"\"\""
   ],
   "id": "9a076bfe55337a9"
  },
  {
   "cell_type": "code",
   "execution_count": 95,
   "outputs": [],
   "source": [
    "# Define the regex pattern\n",
    "pattern = r'(\\d+%) sur .+? avec le code promo: ([A-Z0-9]+)'"
   ],
   "metadata": {
    "collapsed": false,
    "ExecuteTime": {
     "end_time": "2023-10-18T17:58:21.776613400Z",
     "start_time": "2023-10-18T17:58:20.904199500Z"
    }
   },
   "id": "a9441f9c1aa10155"
  },
  {
   "cell_type": "code",
   "execution_count": 96,
   "outputs": [],
   "source": [
    "# Extract the information using the regex pattern\n",
    "matches = re.findall(pattern, txt)"
   ],
   "metadata": {
    "collapsed": false,
    "ExecuteTime": {
     "end_time": "2023-10-18T17:58:21.776613400Z",
     "start_time": "2023-10-18T17:58:20.908938600Z"
    }
   },
   "id": "44bc17492cc326c5"
  },
  {
   "cell_type": "code",
   "execution_count": 97,
   "outputs": [
    {
     "data": {
      "text/plain": "[('40%', 'PRINTEMPS'), ('40%', 'CARENAGE40'), ('50%', 'INJECTION50')]"
     },
     "execution_count": 97,
     "metadata": {},
     "output_type": "execute_result"
    }
   ],
   "source": [
    "# Print the result\n",
    "matches"
   ],
   "metadata": {
    "collapsed": false,
    "ExecuteTime": {
     "end_time": "2023-10-18T17:58:21.782649600Z",
     "start_time": "2023-10-18T17:58:20.917601200Z"
    }
   },
   "id": "ec48f0fd0226d433"
  },
  {
   "cell_type": "markdown",
   "metadata": {},
   "source": [
    "# Web scrapping\n",
    "\n",
    "# Parsing the HTML with BeautifulSoup\n",
    "\n",
    "BeautifulSoup is a Python library for parsing HTML and XML documents. It is often used for web scraping. BeautifulSoup transforms a complex HTML document into a complex tree of Python objects, such as tag, navigable string, or comment."
   ],
   "id": "7715f1a10ef4a704"
  },
  {
   "cell_type": "markdown",
   "metadata": {},
   "source": [
    "### Téléthon use case (read, store, visualize)\n",
    "https://www.afm-telethon.fr/fr/le-telethon/le-telethon-c-est-quoi/l-histoire-du-telethon/les-resultats-du-telethon"
   ],
   "id": "14332b1826a84ff3"
  },
  {
   "cell_type": "code",
   "execution_count": 98,
   "metadata": {
    "ExecuteTime": {
     "end_time": "2023-10-18T17:58:21.933571900Z",
     "start_time": "2023-10-18T17:58:20.929000600Z"
    }
   },
   "outputs": [],
   "source": [
    "url        = \"https://www.afm-telethon.fr/fr/le-telethon/le-telethon-c-est-quoi/l-histoire-du-telethon/les-resultats-du-telethon\"\n",
    "requesting = requests.get(url)\n",
    "soup       = BeautifulSoup(requesting.content, \"html.parser\")\n"
   ],
   "id": "b1746b1861f172fa"
  },
  {
   "cell_type": "code",
   "execution_count": 99,
   "metadata": {
    "ExecuteTime": {
     "end_time": "2023-10-18T17:58:21.933571900Z",
     "start_time": "2023-10-18T17:58:21.223276200Z"
    }
   },
   "outputs": [],
   "source": [
    "\n",
    "with open('tst.html', 'w') as f:\n",
    "    f.write(str(soup))\n",
    "\n",
    "    "
   ],
   "id": "2df5a96227565873"
  },
  {
   "cell_type": "markdown",
   "metadata": {},
   "source": [
    "## Let's look for some information in the page"
   ],
   "id": "19c86891aeafd8a1"
  },
  {
   "cell_type": "markdown",
   "metadata": {},
   "source": [
    "#### 1. In 2006, the counter reached its highest level. Extract this information from the webpage (a sentence in the page)."
   ],
   "id": "f8f6003db201d233"
  },
  {
   "cell_type": "code",
   "execution_count": 100,
   "outputs": [],
   "source": [
    "# Using CSS selectors\n",
    "paragraphs_with_2006_css = [p.get_text() for p in soup.select('p:-soup-contains(\"2006\")')]"
   ],
   "metadata": {
    "collapsed": false,
    "ExecuteTime": {
     "end_time": "2023-10-18T17:58:21.934580500Z",
     "start_time": "2023-10-18T17:58:21.238338900Z"
    }
   },
   "id": "8a17dd97e61113a8"
  },
  {
   "cell_type": "code",
   "execution_count": 101,
   "outputs": [
    {
     "data": {
      "text/plain": "[\"C'est en 2006 que le compteur a atteint son niveau le plus haut, avec 106 696 532 €.\\xa0\"]"
     },
     "execution_count": 101,
     "metadata": {},
     "output_type": "execute_result"
    }
   ],
   "source": [
    "paragraphs_with_2006_css"
   ],
   "metadata": {
    "collapsed": false,
    "ExecuteTime": {
     "end_time": "2023-10-18T17:58:21.934580500Z",
     "start_time": "2023-10-18T17:58:21.250382Z"
    }
   },
   "id": "66a6c531e366058a"
  },
  {
   "cell_type": "code",
   "execution_count": 102,
   "metadata": {
    "ExecuteTime": {
     "end_time": "2023-10-18T17:58:21.934580500Z",
     "start_time": "2023-10-18T17:58:21.259137700Z"
    }
   },
   "outputs": [],
   "source": [
    "# Using tags \n",
    "potential_paragraphs = [p.get_text() for p in soup.select('p') if '2006' in p.get_text()]"
   ],
   "id": "8538621ebb3d64"
  },
  {
   "cell_type": "code",
   "execution_count": 103,
   "outputs": [
    {
     "data": {
      "text/plain": "[\"C'est en 2006 que le compteur a atteint son niveau le plus haut, avec 106 696 532 €.\\xa0\"]"
     },
     "execution_count": 103,
     "metadata": {},
     "output_type": "execute_result"
    }
   ],
   "source": [
    "potential_paragraphs"
   ],
   "metadata": {
    "collapsed": false,
    "ExecuteTime": {
     "end_time": "2023-10-18T17:58:21.935579100Z",
     "start_time": "2023-10-18T17:58:21.268064200Z"
    }
   },
   "id": "c926c9a1e85b2d5f"
  },
  {
   "cell_type": "markdown",
   "metadata": {},
   "source": [
    "#### 2. Retrieve the publication date from the webpage, using the CSS classes."
   ],
   "id": "3839e8a23f2aeae8"
  },
  {
   "cell_type": "code",
   "execution_count": 104,
   "metadata": {
    "ExecuteTime": {
     "end_time": "2023-10-18T17:58:21.935579100Z",
     "start_time": "2023-10-18T17:58:21.275669Z"
    }
   },
   "outputs": [],
   "source": [
    "potential_pub_elements = soup.find_all(['time', 'date'], string=lambda text: any(char.isdigit() for char in text))"
   ],
   "id": "db53e9d0c7d94d9"
  },
  {
   "cell_type": "code",
   "execution_count": 105,
   "outputs": [],
   "source": [
    "pub_classes = [element.parent.get('class') for element in potential_pub_elements if element.parent.get('class')]"
   ],
   "metadata": {
    "collapsed": false,
    "ExecuteTime": {
     "end_time": "2023-10-18T17:58:21.935579100Z",
     "start_time": "2023-10-18T17:58:21.288184300Z"
    }
   },
   "id": "5bf62400f76f739c"
  },
  {
   "cell_type": "code",
   "execution_count": 106,
   "outputs": [],
   "source": [
    "publication_dates_css = {}\n",
    "for cls in pub_classes:\n",
    "    class_name = ' '.join(cls)\n",
    "    publication_dates_css[class_name] = [element.get_text() for element in soup.select(f'.{class_name}')]"
   ],
   "metadata": {
    "collapsed": false,
    "ExecuteTime": {
     "end_time": "2023-10-18T17:58:21.935579100Z",
     "start_time": "2023-10-18T17:58:21.295718600Z"
    }
   },
   "id": "791a133b4ab2798"
  },
  {
   "cell_type": "code",
   "execution_count": 107,
   "outputs": [
    {
     "data": {
      "text/plain": "{'date': ['\\n                  Publié le 09/06/2022, mis à jour le 19/06/2023']}"
     },
     "execution_count": 107,
     "metadata": {},
     "output_type": "execute_result"
    }
   ],
   "source": [
    "publication_dates_css"
   ],
   "metadata": {
    "collapsed": false,
    "ExecuteTime": {
     "end_time": "2023-10-18T17:58:21.936578500Z",
     "start_time": "2023-10-18T17:58:21.308373300Z"
    }
   },
   "id": "71bfc2c385dc8d7"
  },
  {
   "cell_type": "markdown",
   "metadata": {},
   "source": [
    "#### 3. Find the number of tables defined in the soup. "
   ],
   "id": "de1ca099b74e4312"
  },
  {
   "cell_type": "code",
   "execution_count": 108,
   "outputs": [],
   "source": [
    "number_of_tables = len(soup.find_all('table'))"
   ],
   "metadata": {
    "collapsed": false,
    "ExecuteTime": {
     "end_time": "2023-10-18T17:58:21.936578500Z",
     "start_time": "2023-10-18T17:58:21.316048600Z"
    }
   },
   "id": "932e1a20fa49ccad"
  },
  {
   "cell_type": "code",
   "execution_count": 109,
   "outputs": [
    {
     "data": {
      "text/plain": "1"
     },
     "execution_count": 109,
     "metadata": {},
     "output_type": "execute_result"
    }
   ],
   "source": [
    "number_of_tables"
   ],
   "metadata": {
    "collapsed": false,
    "ExecuteTime": {
     "end_time": "2023-10-18T17:58:21.936578500Z",
     "start_time": "2023-10-18T17:58:21.327102500Z"
    }
   },
   "id": "94c8a3e3c3ab0c95"
  },
  {
   "cell_type": "markdown",
   "metadata": {},
   "source": [
    "#### 3. Retrieve the items from this table. Create a python dataframe representing this table (do not forget to include the name of the columns as defined in the webpage)."
   ],
   "id": "d69e3692695a66d2"
  },
  {
   "cell_type": "code",
   "execution_count": 110,
   "metadata": {
    "ExecuteTime": {
     "end_time": "2023-10-18T17:58:21.936578500Z",
     "start_time": "2023-10-18T17:58:21.336623500Z"
    }
   },
   "outputs": [
    {
     "data": {
      "text/plain": "    Année Montant collecté\n0    1987     29 650 000 €\n1    1988     28 490 000 €\n2    1989     40 930 000 €\n3    1990     46 510 000 €\n4    1991     38 650 000 €\n5    1992     47 870 000 €\n6    1993     55 600 000 €\n7    1994     57 520 000 €\n8    1995     56 763 000 €\n9    1996     56 872 000 €\n10   1997     63 043 286 €\n11   1998     70 449 000 €\n12   1999     71 417 798 €\n13   2000     79 640 119 €\n14   2001     81 188 013 €\n15   2002     91 546 548 €\n16   2003     97 657 833 €\n17   2004    104 678 697 €\n18   2005    104 078 464 €\n19   2006    106 696 532 €\n20   2007    102 315 233 €\n21   2008    104 911 383 €\n22   2009     95 200 117 €\n23   2010     90 450 486 €\n24   2011     94 091 902 €\n25   2012     88 156 400 €\n26   2013     89 327 268 €\n27   2014     92 920 108 €\n28   2015     93 850 778 €\n29   2016     92 740 769 €\n30   2017     89 189 384 €\n31   2018     85 844 117 €\n32   2019     87 026 262 €\n33   2020     77 298 024 €\n34   2021     85 933 166 €\n35   2022     90 839 067 €",
      "text/html": "<div>\n<style scoped>\n    .dataframe tbody tr th:only-of-type {\n        vertical-align: middle;\n    }\n\n    .dataframe tbody tr th {\n        vertical-align: top;\n    }\n\n    .dataframe thead th {\n        text-align: right;\n    }\n</style>\n<table border=\"1\" class=\"dataframe\">\n  <thead>\n    <tr style=\"text-align: right;\">\n      <th></th>\n      <th>Année</th>\n      <th>Montant collecté</th>\n    </tr>\n  </thead>\n  <tbody>\n    <tr>\n      <th>0</th>\n      <td>1987</td>\n      <td>29 650 000 €</td>\n    </tr>\n    <tr>\n      <th>1</th>\n      <td>1988</td>\n      <td>28 490 000 €</td>\n    </tr>\n    <tr>\n      <th>2</th>\n      <td>1989</td>\n      <td>40 930 000 €</td>\n    </tr>\n    <tr>\n      <th>3</th>\n      <td>1990</td>\n      <td>46 510 000 €</td>\n    </tr>\n    <tr>\n      <th>4</th>\n      <td>1991</td>\n      <td>38 650 000 €</td>\n    </tr>\n    <tr>\n      <th>5</th>\n      <td>1992</td>\n      <td>47 870 000 €</td>\n    </tr>\n    <tr>\n      <th>6</th>\n      <td>1993</td>\n      <td>55 600 000 €</td>\n    </tr>\n    <tr>\n      <th>7</th>\n      <td>1994</td>\n      <td>57 520 000 €</td>\n    </tr>\n    <tr>\n      <th>8</th>\n      <td>1995</td>\n      <td>56 763 000 €</td>\n    </tr>\n    <tr>\n      <th>9</th>\n      <td>1996</td>\n      <td>56 872 000 €</td>\n    </tr>\n    <tr>\n      <th>10</th>\n      <td>1997</td>\n      <td>63 043 286 €</td>\n    </tr>\n    <tr>\n      <th>11</th>\n      <td>1998</td>\n      <td>70 449 000 €</td>\n    </tr>\n    <tr>\n      <th>12</th>\n      <td>1999</td>\n      <td>71 417 798 €</td>\n    </tr>\n    <tr>\n      <th>13</th>\n      <td>2000</td>\n      <td>79 640 119 €</td>\n    </tr>\n    <tr>\n      <th>14</th>\n      <td>2001</td>\n      <td>81 188 013 €</td>\n    </tr>\n    <tr>\n      <th>15</th>\n      <td>2002</td>\n      <td>91 546 548 €</td>\n    </tr>\n    <tr>\n      <th>16</th>\n      <td>2003</td>\n      <td>97 657 833 €</td>\n    </tr>\n    <tr>\n      <th>17</th>\n      <td>2004</td>\n      <td>104 678 697 €</td>\n    </tr>\n    <tr>\n      <th>18</th>\n      <td>2005</td>\n      <td>104 078 464 €</td>\n    </tr>\n    <tr>\n      <th>19</th>\n      <td>2006</td>\n      <td>106 696 532 €</td>\n    </tr>\n    <tr>\n      <th>20</th>\n      <td>2007</td>\n      <td>102 315 233 €</td>\n    </tr>\n    <tr>\n      <th>21</th>\n      <td>2008</td>\n      <td>104 911 383 €</td>\n    </tr>\n    <tr>\n      <th>22</th>\n      <td>2009</td>\n      <td>95 200 117 €</td>\n    </tr>\n    <tr>\n      <th>23</th>\n      <td>2010</td>\n      <td>90 450 486 €</td>\n    </tr>\n    <tr>\n      <th>24</th>\n      <td>2011</td>\n      <td>94 091 902 €</td>\n    </tr>\n    <tr>\n      <th>25</th>\n      <td>2012</td>\n      <td>88 156 400 €</td>\n    </tr>\n    <tr>\n      <th>26</th>\n      <td>2013</td>\n      <td>89 327 268 €</td>\n    </tr>\n    <tr>\n      <th>27</th>\n      <td>2014</td>\n      <td>92 920 108 €</td>\n    </tr>\n    <tr>\n      <th>28</th>\n      <td>2015</td>\n      <td>93 850 778 €</td>\n    </tr>\n    <tr>\n      <th>29</th>\n      <td>2016</td>\n      <td>92 740 769 €</td>\n    </tr>\n    <tr>\n      <th>30</th>\n      <td>2017</td>\n      <td>89 189 384 €</td>\n    </tr>\n    <tr>\n      <th>31</th>\n      <td>2018</td>\n      <td>85 844 117 €</td>\n    </tr>\n    <tr>\n      <th>32</th>\n      <td>2019</td>\n      <td>87 026 262 €</td>\n    </tr>\n    <tr>\n      <th>33</th>\n      <td>2020</td>\n      <td>77 298 024 €</td>\n    </tr>\n    <tr>\n      <th>34</th>\n      <td>2021</td>\n      <td>85 933 166 €</td>\n    </tr>\n    <tr>\n      <th>35</th>\n      <td>2022</td>\n      <td>90 839 067 €</td>\n    </tr>\n  </tbody>\n</table>\n</div>"
     },
     "execution_count": 110,
     "metadata": {},
     "output_type": "execute_result"
    }
   ],
   "source": [
    "table_html = str(soup.select('table'))\n",
    "df = pd.read_html(StringIO(table_html))[0]\n",
    "df.head(36)"
   ],
   "id": "47038c9cffe4f737"
  },
  {
   "cell_type": "markdown",
   "metadata": {},
   "source": [
    "#### 4. Clean up columns and their types \n",
    "(it's up to you to propose how, why and what to do)"
   ],
   "id": "577db8252b90cc0f"
  },
  {
   "cell_type": "code",
   "execution_count": 111,
   "metadata": {
    "ExecuteTime": {
     "end_time": "2023-10-18T17:58:21.938084700Z",
     "start_time": "2023-10-18T17:58:21.362090400Z"
    }
   },
   "outputs": [
    {
     "name": "stdout",
     "output_type": "stream",
     "text": [
      "<class 'pandas.core.frame.DataFrame'>\n",
      "RangeIndex: 36 entries, 0 to 35\n",
      "Data columns (total 2 columns):\n",
      " #   Column            Non-Null Count  Dtype \n",
      "---  ------            --------------  ----- \n",
      " 0   Année             36 non-null     int64 \n",
      " 1   Montant collecté  36 non-null     object\n",
      "dtypes: int64(1), object(1)\n",
      "memory usage: 708.0+ bytes\n"
     ]
    }
   ],
   "source": [
    "df.info()"
   ],
   "id": "df0ae79e2f14e814"
  },
  {
   "cell_type": "code",
   "execution_count": 115,
   "outputs": [
    {
     "data": {
      "text/plain": "    Année  Montant collecté (en euros)\n0    1987                     29650000\n1    1988                     28490000\n2    1989                     40930000\n3    1990                     46510000\n4    1991                     38650000\n5    1992                     47870000\n6    1993                     55600000\n7    1994                     57520000\n8    1995                     56763000\n9    1996                     56872000\n10   1997                     63043286\n11   1998                     70449000\n12   1999                     71417798\n13   2000                     79640119\n14   2001                     81188013\n15   2002                     91546548\n16   2003                     97657833\n17   2004                    104678697\n18   2005                    104078464\n19   2006                    106696532\n20   2007                    102315233\n21   2008                    104911383\n22   2009                     95200117\n23   2010                     90450486\n24   2011                     94091902\n25   2012                     88156400\n26   2013                     89327268\n27   2014                     92920108\n28   2015                     93850778\n29   2016                     92740769\n30   2017                     89189384\n31   2018                     85844117\n32   2019                     87026262\n33   2020                     77298024\n34   2021                     85933166\n35   2022                     90839067",
      "text/html": "<div>\n<style scoped>\n    .dataframe tbody tr th:only-of-type {\n        vertical-align: middle;\n    }\n\n    .dataframe tbody tr th {\n        vertical-align: top;\n    }\n\n    .dataframe thead th {\n        text-align: right;\n    }\n</style>\n<table border=\"1\" class=\"dataframe\">\n  <thead>\n    <tr style=\"text-align: right;\">\n      <th></th>\n      <th>Année</th>\n      <th>Montant collecté (en euros)</th>\n    </tr>\n  </thead>\n  <tbody>\n    <tr>\n      <th>0</th>\n      <td>1987</td>\n      <td>29650000</td>\n    </tr>\n    <tr>\n      <th>1</th>\n      <td>1988</td>\n      <td>28490000</td>\n    </tr>\n    <tr>\n      <th>2</th>\n      <td>1989</td>\n      <td>40930000</td>\n    </tr>\n    <tr>\n      <th>3</th>\n      <td>1990</td>\n      <td>46510000</td>\n    </tr>\n    <tr>\n      <th>4</th>\n      <td>1991</td>\n      <td>38650000</td>\n    </tr>\n    <tr>\n      <th>5</th>\n      <td>1992</td>\n      <td>47870000</td>\n    </tr>\n    <tr>\n      <th>6</th>\n      <td>1993</td>\n      <td>55600000</td>\n    </tr>\n    <tr>\n      <th>7</th>\n      <td>1994</td>\n      <td>57520000</td>\n    </tr>\n    <tr>\n      <th>8</th>\n      <td>1995</td>\n      <td>56763000</td>\n    </tr>\n    <tr>\n      <th>9</th>\n      <td>1996</td>\n      <td>56872000</td>\n    </tr>\n    <tr>\n      <th>10</th>\n      <td>1997</td>\n      <td>63043286</td>\n    </tr>\n    <tr>\n      <th>11</th>\n      <td>1998</td>\n      <td>70449000</td>\n    </tr>\n    <tr>\n      <th>12</th>\n      <td>1999</td>\n      <td>71417798</td>\n    </tr>\n    <tr>\n      <th>13</th>\n      <td>2000</td>\n      <td>79640119</td>\n    </tr>\n    <tr>\n      <th>14</th>\n      <td>2001</td>\n      <td>81188013</td>\n    </tr>\n    <tr>\n      <th>15</th>\n      <td>2002</td>\n      <td>91546548</td>\n    </tr>\n    <tr>\n      <th>16</th>\n      <td>2003</td>\n      <td>97657833</td>\n    </tr>\n    <tr>\n      <th>17</th>\n      <td>2004</td>\n      <td>104678697</td>\n    </tr>\n    <tr>\n      <th>18</th>\n      <td>2005</td>\n      <td>104078464</td>\n    </tr>\n    <tr>\n      <th>19</th>\n      <td>2006</td>\n      <td>106696532</td>\n    </tr>\n    <tr>\n      <th>20</th>\n      <td>2007</td>\n      <td>102315233</td>\n    </tr>\n    <tr>\n      <th>21</th>\n      <td>2008</td>\n      <td>104911383</td>\n    </tr>\n    <tr>\n      <th>22</th>\n      <td>2009</td>\n      <td>95200117</td>\n    </tr>\n    <tr>\n      <th>23</th>\n      <td>2010</td>\n      <td>90450486</td>\n    </tr>\n    <tr>\n      <th>24</th>\n      <td>2011</td>\n      <td>94091902</td>\n    </tr>\n    <tr>\n      <th>25</th>\n      <td>2012</td>\n      <td>88156400</td>\n    </tr>\n    <tr>\n      <th>26</th>\n      <td>2013</td>\n      <td>89327268</td>\n    </tr>\n    <tr>\n      <th>27</th>\n      <td>2014</td>\n      <td>92920108</td>\n    </tr>\n    <tr>\n      <th>28</th>\n      <td>2015</td>\n      <td>93850778</td>\n    </tr>\n    <tr>\n      <th>29</th>\n      <td>2016</td>\n      <td>92740769</td>\n    </tr>\n    <tr>\n      <th>30</th>\n      <td>2017</td>\n      <td>89189384</td>\n    </tr>\n    <tr>\n      <th>31</th>\n      <td>2018</td>\n      <td>85844117</td>\n    </tr>\n    <tr>\n      <th>32</th>\n      <td>2019</td>\n      <td>87026262</td>\n    </tr>\n    <tr>\n      <th>33</th>\n      <td>2020</td>\n      <td>77298024</td>\n    </tr>\n    <tr>\n      <th>34</th>\n      <td>2021</td>\n      <td>85933166</td>\n    </tr>\n    <tr>\n      <th>35</th>\n      <td>2022</td>\n      <td>90839067</td>\n    </tr>\n  </tbody>\n</table>\n</div>"
     },
     "execution_count": 115,
     "metadata": {},
     "output_type": "execute_result"
    }
   ],
   "source": [
    "df['Année'] = df['Année'].astype(int)\n",
    "df.rename(columns={'Montant collecté': 'Montant collecté (en euros)'}, inplace=True)\n",
    "df['Montant collecté (en euros)'] = df['Montant collecté (en euros)'].str.replace(r'\\W', '', regex=True)\n",
    "df['Montant collecté (en euros)'] = df['Montant collecté (en euros)'].str.replace(' ', '').astype(int)\n",
    "df.head(36)"
   ],
   "metadata": {
    "collapsed": false,
    "ExecuteTime": {
     "end_time": "2023-10-18T17:58:58.203003Z",
     "start_time": "2023-10-18T17:58:58.166195900Z"
    }
   },
   "id": "589be50a94618f93"
  },
  {
   "cell_type": "code",
   "execution_count": 116,
   "outputs": [
    {
     "name": "stdout",
     "output_type": "stream",
     "text": [
      "<class 'pandas.core.frame.DataFrame'>\n",
      "RangeIndex: 36 entries, 0 to 35\n",
      "Data columns (total 2 columns):\n",
      " #   Column                       Non-Null Count  Dtype\n",
      "---  ------                       --------------  -----\n",
      " 0   Année                        36 non-null     int32\n",
      " 1   Montant collecté (en euros)  36 non-null     int32\n",
      "dtypes: int32(2)\n",
      "memory usage: 420.0 bytes\n"
     ]
    }
   ],
   "source": [
    "df.info()"
   ],
   "metadata": {
    "collapsed": false,
    "ExecuteTime": {
     "end_time": "2023-10-18T17:59:01.425842200Z",
     "start_time": "2023-10-18T17:59:01.410119Z"
    }
   },
   "id": "bb7a7f8a97dae4e0"
  },
  {
   "cell_type": "markdown",
   "metadata": {},
   "source": [
    "#### 5. Retrieve the date when the most amount was collected \n",
    "\n",
    "(we already scrapped the info before, here we want the info with the table)"
   ],
   "id": "9a80969e0eb2679c"
  },
  {
   "cell_type": "code",
   "execution_count": 119,
   "metadata": {
    "ExecuteTime": {
     "end_time": "2023-10-18T18:00:02.778864700Z",
     "start_time": "2023-10-18T18:00:02.750320700Z"
    }
   },
   "outputs": [],
   "source": [
    "maxYear = df[df['Montant collecté (en euros)'] == df['Montant collecté (en euros)'].max()]['Année']"
   ],
   "id": "6fc710dc0ba103e3"
  },
  {
   "cell_type": "code",
   "execution_count": 120,
   "outputs": [
    {
     "data": {
      "text/plain": "19    2006\nName: Année, dtype: int32"
     },
     "execution_count": 120,
     "metadata": {},
     "output_type": "execute_result"
    }
   ],
   "source": [
    "maxYear"
   ],
   "metadata": {
    "collapsed": false,
    "ExecuteTime": {
     "end_time": "2023-10-18T18:00:04.417351800Z",
     "start_time": "2023-10-18T18:00:04.411743700Z"
    }
   },
   "id": "240e2d9535ac71c2"
  },
  {
   "cell_type": "markdown",
   "metadata": {},
   "source": [
    "#### 6. Visualize the evolution of the amount collected per year.\n",
    "#### Mark the maximum and minimum of the evolution with respectively red and green colors."
   ],
   "id": "66fe4aaf84630e76"
  },
  {
   "cell_type": "code",
   "execution_count": 142,
   "outputs": [],
   "source": [
    "minYear = df[df['Montant collecté (en euros)'] == df['Montant collecté (en euros)'].min()]['Année']\n",
    "maxvalue = df['Montant collecté (en euros)'].max()\n",
    "minvalue = df['Montant collecté (en euros)'].min()"
   ],
   "metadata": {
    "collapsed": false,
    "ExecuteTime": {
     "end_time": "2023-10-18T18:24:00.660306Z",
     "start_time": "2023-10-18T18:24:00.643828100Z"
    }
   },
   "id": "8159a981e3b2f2da"
  },
  {
   "cell_type": "code",
   "execution_count": 147,
   "outputs": [
    {
     "data": {
      "text/plain": "<Figure size 1400x700 with 1 Axes>",
      "image/png": "[encoded data removed]"
     },
     "metadata": {},
     "output_type": "display_data"
    }
   ],
   "source": [
    "plt.figure(figsize=(14, 7))\n",
    "plt.plot(df['Année'], df['Montant collecté (en euros)'], marker='o', color='cyan', linestyle='dashed', linewidth=2)\n",
    "plt.scatter(maxYear, maxvalue, color='green', s=100, zorder=5, label='Maximum', marker='^')\n",
    "plt.scatter(minYear, minvalue, color='red', s=100, zorder=5, label='Minimum', marker='v')\n",
    "\n",
    "\n",
    "# Setting the style elements\n",
    "plt.grid(True, which='both', linestyle='--', linewidth=0.5)\n",
    "plt.title('Amount Collected Over the Years', fontsize=16)\n",
    "plt.xlabel('Year', fontsize=14)\n",
    "plt.ylabel('Amount Collected (in €)', fontsize=14)\n",
    "plt.xticks(fontsize=12)\n",
    "plt.yticks(fontsize=12)\n",
    "plt.tight_layout()\n",
    "plt\n",
    "\n",
    "# Displaying the plot\n",
    "plt.show()"
   ],
   "metadata": {
    "collapsed": false,
    "ExecuteTime": {
     "end_time": "2023-10-18T18:25:57.683359300Z",
     "start_time": "2023-10-18T18:25:57.440777700Z"
    }
   },
   "id": "4aa683cab96e4d4b"
  },
  {
   "cell_type": "markdown",
   "metadata": {},
   "source": [
    "## 7. Bonus question: We expect the graph bellow:"
   ],
   "id": "1a5def8c807420ec"
  },
  {
   "cell_type": "code",
   "execution_count": 112,
   "metadata": {
    "ExecuteTime": {
     "end_time": "2023-10-18T17:58:21.939092400Z",
     "start_time": "2023-10-18T17:58:21.400459Z"
    }
   },
   "outputs": [],
   "source": [],
   "id": "d22c3360c8af70eb"
  },
  {
   "cell_type": "markdown",
   "metadata": {},
   "source": [
    "## Use case 2: https://www.infoclimat.fr/observations-meteo/archives/7/septembre/2019/paris-montsouris/07156.html"
   ],
   "id": "d4ec56572ae4667"
  },
  {
   "cell_type": "code",
   "execution_count": 113,
   "metadata": {
    "ExecuteTime": {
     "end_time": "2023-10-18T17:58:22.299975800Z",
     "start_time": "2023-10-18T17:58:21.406578900Z"
    }
   },
   "outputs": [],
   "source": [
    "url   = \"https://www.infoclimat.fr/observations-meteo/archives/7/septembre/2019/paris-montsouris/07156.html\"\n",
    "page  = requests.get(url )\n",
    "html  = page.text\n",
    "soup  = BeautifulSoup(html)"
   ],
   "id": "c327133711bcd2b0"
  },
  {
   "cell_type": "markdown",
   "metadata": {},
   "source": [
    "#### Convert the table of this site into a pandas dataframe\n",
    "\n",
    "You must include the names of the columns and the names of the rows (the hours) as an index "
   ],
   "id": "2ddfd4b013ab9282"
  },
  {
   "cell_type": "markdown",
   "metadata": {},
   "source": [
    "### To help you: Define a function that allows you to retrieve the value of row i and column j of the table"
   ],
   "id": "6a8ad042bd5201f5"
  },
  {
   "cell_type": "code",
   "execution_count": 113,
   "metadata": {
    "ExecuteTime": {
     "end_time": "2023-10-18T17:58:22.302972700Z",
     "start_time": "2023-10-18T17:58:21.781639800Z"
    }
   },
   "outputs": [],
   "source": [],
   "id": "58b74223a20ac6cb"
  },
  {
   "cell_type": "code",
   "execution_count": 113,
   "metadata": {
    "ExecuteTime": {
     "end_time": "2023-10-18T17:58:22.302972700Z",
     "start_time": "2023-10-18T17:58:21.786467800Z"
    }
   },
   "outputs": [],
   "source": [],
   "id": "f26715b72be75f2c"
  },
  {
   "cell_type": "code",
   "execution_count": 113,
   "metadata": {
    "ExecuteTime": {
     "end_time": "2023-10-18T17:58:22.302972700Z",
     "start_time": "2023-10-18T17:58:21.792461400Z"
    }
   },
   "outputs": [],
   "source": [],
   "id": "f7983c8107f7e49f"
  }
 ],
 "metadata": {
  "kernelspec": {
   "display_name": "Python 3",
   "language": "python",
   "name": "python3"
  },
  "language_info": {
   "codemirror_mode": {
    "name": "ipython",
    "version": 3
   },
   "file_extension": ".py",
   "mimetype": "text/x-python",
   "name": "python",
   "nbconvert_exporter": "python",
   "pygments_lexer": "ipython3",
   "version": "3.8.3"
  }
 },
 "nbformat": 4,
 "nbformat_minor": 5
}
