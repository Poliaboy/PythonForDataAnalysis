{
 "cells": [
  {
   "cell_type": "markdown",
   "id": "10b5c8e5-3bd1-457d-bf94-12058cac1e1c",
   "metadata": {},
   "source": [
    "# Tutorial 6 - Python for Data Analysis\n",
    "---\n",
    "## Selenium"
   ]
  },
  {
   "cell_type": "markdown",
   "id": "8ad02200-c276-4c2a-be43-992cfe005dc3",
   "metadata": {},
   "source": [
    "  - [Part 1](#exercise-1) : Installation\n",
    "  - [Part 2](#exercise-2) : LinkedIn Login & Profile\n",
    "  - [Part 3](#exercise-3) : LinkedIn Relations\n",
    "  - [Bonus](#exercise-bonus) : Portail\n"
   ]
  },
  {
   "cell_type": "markdown",
   "id": "490f83eb",
   "metadata": {},
   "source": [
    "For Selenium to be able to work, we need to download the adequate \"webdriver\" based on your browser.\n",
    "I will be giving you the steps for Chrome, however they are sensibly the same for any web browser.\n",
    "\n",
    "First step : Check your browser version. For Chrome, you need to visit \"help\" -> \"about Chrome\"."
   ]
  },
  {
   "cell_type": "markdown",
   "id": "3959a2e6",
   "metadata": {},
   "source": [
    "Second step : Download webdriver for the version of your browser here :\n",
    "https://googlechromelabs.github.io/chrome-for-testing/ (you should have V.118 of Chrome)"
   ]
  },
  {
   "cell_type": "markdown",
   "id": "6cd4b535",
   "metadata": {},
   "source": [
    "Third step : choose the link with binary \"webdriver\" and your OS (mac, windows) to download the webdriver, then place it ideally in your project directory."
   ]
  },
  {
   "cell_type": "markdown",
   "id": "b4d5ab70",
   "metadata": {},
   "source": [
    "Fourth step : Either set your webdriver to be a PATH executable OR ignore this step and use the argument executable_path in the webdriver object definition"
   ]
  },
  {
   "cell_type": "markdown",
   "id": "30809ac4-7dab-4bb9-bf82-fa283ee47db2",
   "metadata": {},
   "source": [
    "<a name=\"exercise-1\">\n",
    "\n",
    "### Part 1 : Installation\n",
    "---"
   ]
  },
  {
   "cell_type": "code",
   "execution_count": 2,
   "id": "24171a1f-90ee-4245-a8d7-101abfc59e62",
   "metadata": {
    "ExecuteTime": {
     "end_time": "2023-10-20T17:18:54.003276900Z",
     "start_time": "2023-10-20T17:18:50.176157100Z"
    }
   },
   "outputs": [
    {
     "name": "stdout",
     "output_type": "stream",
     "text": [
      "Requirement already satisfied: selenium in c:\\users\\alexs\\pycharmprojects\\pythonfordataanalysis\\venv\\lib\\site-packages (4.14.0)\n",
      "Requirement already satisfied: urllib3[socks]<3,>=1.26 in c:\\users\\alexs\\pycharmprojects\\pythonfordataanalysis\\venv\\lib\\site-packages (from selenium) (2.0.7)\n",
      "Requirement already satisfied: trio~=0.17 in c:\\users\\alexs\\pycharmprojects\\pythonfordataanalysis\\venv\\lib\\site-packages (from selenium) (0.22.2)\n",
      "Requirement already satisfied: trio-websocket~=0.9 in c:\\users\\alexs\\pycharmprojects\\pythonfordataanalysis\\venv\\lib\\site-packages (from selenium) (0.11.1)\n",
      "Requirement already satisfied: certifi>=2021.10.8 in c:\\users\\alexs\\pycharmprojects\\pythonfordataanalysis\\venv\\lib\\site-packages (from selenium) (2023.7.22)\n",
      "Requirement already satisfied: attrs>=20.1.0 in c:\\users\\alexs\\pycharmprojects\\pythonfordataanalysis\\venv\\lib\\site-packages (from trio~=0.17->selenium) (23.1.0)\n",
      "Requirement already satisfied: sortedcontainers in c:\\users\\alexs\\pycharmprojects\\pythonfordataanalysis\\venv\\lib\\site-packages (from trio~=0.17->selenium) (2.4.0)\n",
      "Requirement already satisfied: idna in c:\\users\\alexs\\pycharmprojects\\pythonfordataanalysis\\venv\\lib\\site-packages (from trio~=0.17->selenium) (3.4)\n",
      "Requirement already satisfied: outcome in c:\\users\\alexs\\pycharmprojects\\pythonfordataanalysis\\venv\\lib\\site-packages (from trio~=0.17->selenium) (1.3.0)\n",
      "Requirement already satisfied: sniffio in c:\\users\\alexs\\pycharmprojects\\pythonfordataanalysis\\venv\\lib\\site-packages (from trio~=0.17->selenium) (1.3.0)\n",
      "Requirement already satisfied: cffi>=1.14 in c:\\users\\alexs\\pycharmprojects\\pythonfordataanalysis\\venv\\lib\\site-packages (from trio~=0.17->selenium) (1.16.0)\n",
      "Requirement already satisfied: wsproto>=0.14 in c:\\users\\alexs\\pycharmprojects\\pythonfordataanalysis\\venv\\lib\\site-packages (from trio-websocket~=0.9->selenium) (1.2.0)\n",
      "Requirement already satisfied: pysocks!=1.5.7,<2.0,>=1.5.6 in c:\\users\\alexs\\pycharmprojects\\pythonfordataanalysis\\venv\\lib\\site-packages (from urllib3[socks]<3,>=1.26->selenium) (1.7.1)\n",
      "Requirement already satisfied: pycparser in c:\\users\\alexs\\pycharmprojects\\pythonfordataanalysis\\venv\\lib\\site-packages (from cffi>=1.14->trio~=0.17->selenium) (2.21)\n",
      "Requirement already satisfied: h11<1,>=0.9.0 in c:\\users\\alexs\\pycharmprojects\\pythonfordataanalysis\\venv\\lib\\site-packages (from wsproto>=0.14->trio-websocket~=0.9->selenium) (0.14.0)\n"
     ]
    },
    {
     "name": "stderr",
     "output_type": "stream",
     "text": [
      "\n",
      "[notice] A new release of pip available: 22.3.1 -> 23.3\n",
      "[notice] To update, run: python.exe -m pip install --upgrade pip\n"
     ]
    }
   ],
   "source": [
    "!pip install -U selenium"
   ]
  },
  {
   "cell_type": "code",
   "execution_count": 3,
   "id": "8fa5ae60-ff14-4b00-95e7-6ec544638934",
   "metadata": {
    "ExecuteTime": {
     "end_time": "2023-10-20T17:19:03.282913600Z",
     "start_time": "2023-10-20T17:18:57.157031300Z"
    }
   },
   "outputs": [
    {
     "name": "stdout",
     "output_type": "stream",
     "text": [
      "Collecting lxml\n",
      "  Downloading lxml-4.9.3-cp311-cp311-win_amd64.whl (3.8 MB)\n",
      "     ---------------------------------------- 3.8/3.8 MB 3.2 MB/s eta 0:00:00\n",
      "Installing collected packages: lxml\n",
      "Successfully installed lxml-4.9.3\n"
     ]
    },
    {
     "name": "stderr",
     "output_type": "stream",
     "text": [
      "\n",
      "[notice] A new release of pip available: 22.3.1 -> 23.3\n",
      "[notice] To update, run: python.exe -m pip install --upgrade pip\n"
     ]
    }
   ],
   "source": [
    "!pip install lxml"
   ]
  },
  {
   "cell_type": "code",
   "execution_count": 4,
   "id": "5e5d4470",
   "metadata": {
    "ExecuteTime": {
     "end_time": "2023-10-20T17:19:13.823189300Z",
     "start_time": "2023-10-20T17:19:12.111575900Z"
    }
   },
   "outputs": [
    {
     "name": "stdout",
     "output_type": "stream",
     "text": [
      "Package                   Version\n",
      "------------------------- ------------\n",
      "anyio                     4.0.0\n",
      "argon2-cffi               23.1.0\n",
      "argon2-cffi-bindings      21.2.0\n",
      "arrow                     1.3.0\n",
      "asttokens                 2.4.0\n",
      "async-lru                 2.0.4\n",
      "attrs                     23.1.0\n",
      "Babel                     2.13.0\n",
      "backcall                  0.2.0\n",
      "beautifulsoup4            4.12.2\n",
      "bleach                    6.1.0\n",
      "certifi                   2023.7.22\n",
      "cffi                      1.16.0\n",
      "charset-normalizer        3.3.0\n",
      "colorama                  0.4.6\n",
      "comm                      0.1.4\n",
      "contourpy                 1.1.1\n",
      "cycler                    0.12.1\n",
      "debugpy                   1.8.0\n",
      "decorator                 5.1.1\n",
      "defusedxml                0.7.1\n",
      "executing                 2.0.0\n",
      "fastjsonschema            2.18.1\n",
      "fonttools                 4.43.1\n",
      "fqdn                      1.5.1\n",
      "h11                       0.14.0\n",
      "idna                      3.4\n",
      "ipykernel                 6.25.2\n",
      "ipython                   8.16.1\n",
      "ipython-genutils          0.2.0\n",
      "ipywidgets                8.1.1\n",
      "isoduration               20.11.0\n",
      "jedi                      0.19.1\n",
      "Jinja2                    3.1.2\n",
      "json5                     0.9.14\n",
      "jsonpointer               2.4\n",
      "jsonschema                4.19.1\n",
      "jsonschema-specifications 2023.7.1\n",
      "jupyter                   1.0.0\n",
      "jupyter_client            8.4.0\n",
      "jupyter-console           6.6.3\n",
      "jupyter_core              5.4.0\n",
      "jupyter-events            0.8.0\n",
      "jupyter-lsp               2.2.0\n",
      "jupyter_server            2.8.0\n",
      "jupyter_server_terminals  0.4.4\n",
      "jupyterlab                4.0.7\n",
      "jupyterlab-pygments       0.2.2\n",
      "jupyterlab_server         2.25.0\n",
      "jupyterlab-widgets        3.0.9\n",
      "kiwisolver                1.4.5\n",
      "lxml                      4.9.3\n",
      "MarkupSafe                2.1.3\n",
      "matplotlib                3.8.0\n",
      "matplotlib-inline         0.1.6\n",
      "mistune                   3.0.2\n",
      "nbclient                  0.8.0\n",
      "nbconvert                 7.9.2\n",
      "nbformat                  5.9.2\n",
      "nest-asyncio              1.5.8\n",
      "notebook                  7.0.6\n",
      "notebook_shim             0.2.3\n",
      "numpy                     1.26.1\n",
      "outcome                   1.3.0\n",
      "overrides                 7.4.0\n",
      "packaging                 23.2\n",
      "pandas                    2.1.1\n",
      "pandocfilters             1.5.0\n",
      "parso                     0.8.3\n",
      "pickleshare               0.7.5\n",
      "Pillow                    10.1.0\n",
      "pip                       22.3.1\n",
      "platformdirs              3.11.0\n",
      "prometheus-client         0.17.1\n",
      "prompt-toolkit            3.0.39\n",
      "psutil                    5.9.6\n",
      "pure-eval                 0.2.2\n",
      "pycparser                 2.21\n",
      "Pygments                  2.16.1\n",
      "pyparsing                 3.1.1\n",
      "PySocks                   1.7.1\n",
      "python-dateutil           2.8.2\n",
      "python-json-logger        2.0.7\n",
      "pytz                      2023.3.post1\n",
      "pywin32                   306\n",
      "pywinpty                  2.0.12\n",
      "PyYAML                    6.0.1\n",
      "pyzmq                     25.1.1\n",
      "qtconsole                 5.4.4\n",
      "QtPy                      2.4.0\n",
      "referencing               0.30.2\n",
      "requests                  2.31.0\n",
      "rfc3339-validator         0.1.4\n",
      "rfc3986-validator         0.1.1\n",
      "rpds-py                   0.10.6\n",
      "seaborn                   0.13.0\n",
      "selenium                  4.14.0\n",
      "Send2Trash                1.8.2\n",
      "setuptools                65.5.1\n",
      "six                       1.16.0\n",
      "sniffio                   1.3.0\n",
      "sortedcontainers          2.4.0\n",
      "soupsieve                 2.5\n",
      "stack-data                0.6.3\n",
      "terminado                 0.17.1\n",
      "tinycss2                  1.2.1\n",
      "tornado                   6.3.3\n",
      "traitlets                 5.11.2\n",
      "trio                      0.22.2\n",
      "trio-websocket            0.11.1\n",
      "types-python-dateutil     2.8.19.14\n",
      "tzdata                    2023.3\n",
      "uri-template              1.3.0\n",
      "urllib3                   2.0.7\n",
      "wcwidth                   0.2.8\n",
      "webcolors                 1.13\n",
      "webencodings              0.5.1\n",
      "websocket-client          1.6.4\n",
      "wheel                     0.38.4\n",
      "widgetsnbextension        4.0.9\n",
      "wsproto                   1.2.0\n"
     ]
    },
    {
     "name": "stderr",
     "output_type": "stream",
     "text": [
      "\n",
      "[notice] A new release of pip available: 22.3.1 -> 23.3\n",
      "[notice] To update, run: python.exe -m pip install --upgrade pip\n"
     ]
    }
   ],
   "source": [
    "!pip list"
   ]
  },
  {
   "cell_type": "code",
   "execution_count": 5,
   "id": "2b0249a6-b961-4317-8574-628d7fe5f660",
   "metadata": {
    "ExecuteTime": {
     "end_time": "2023-10-20T17:19:20.748937700Z",
     "start_time": "2023-10-20T17:19:18.404749800Z"
    }
   },
   "outputs": [
    {
     "name": "stdout",
     "output_type": "stream",
     "text": [
      "Requirement already satisfied: beautifulsoup4 in c:\\users\\alexs\\pycharmprojects\\pythonfordataanalysis\\venv\\lib\\site-packages (4.12.2)\n",
      "Requirement already satisfied: soupsieve>1.2 in c:\\users\\alexs\\pycharmprojects\\pythonfordataanalysis\\venv\\lib\\site-packages (from beautifulsoup4) (2.5)\n"
     ]
    },
    {
     "name": "stderr",
     "output_type": "stream",
     "text": [
      "\n",
      "[notice] A new release of pip available: 22.3.1 -> 23.3\n",
      "[notice] To update, run: python.exe -m pip install --upgrade pip\n"
     ]
    }
   ],
   "source": [
    "!pip install beautifulsoup4"
   ]
  },
  {
   "cell_type": "code",
   "execution_count": 6,
   "id": "58c8b54b-51b2-4c82-a34f-ba8e14038447",
   "metadata": {
    "ExecuteTime": {
     "end_time": "2023-10-20T17:19:27.849004100Z",
     "start_time": "2023-10-20T17:19:27.567427Z"
    }
   },
   "outputs": [],
   "source": [
    "from selenium import webdriver\n",
    "from selenium.webdriver.common.by import By\n",
    "from selenium.webdriver.common.keys import Keys"
   ]
  },
  {
   "cell_type": "markdown",
   "id": "7fce3632-638e-4655-960d-6c3f84d31069",
   "metadata": {},
   "source": [
    "Create your first driver !\n",
    "\n",
    "Install the browser driver depending on your browser version : https://www.selenium.dev/documentation/webdriver/getting_started/install_drivers/\n",
    "\n",
    "Place the exe file in the directory of your jupyterlab directory.\n",
    "For the latest documentation on selenium : https://www.selenium.dev/documentation/overview/"
   ]
  },
  {
   "cell_type": "code",
   "execution_count": 8,
   "id": "6aefc23c-8d3c-4a42-b155-c75dc057155a",
   "metadata": {
    "ExecuteTime": {
     "end_time": "2023-10-20T17:47:03.285276500Z",
     "start_time": "2023-10-20T17:46:58.640350500Z"
    }
   },
   "outputs": [],
   "source": [
    "driver = webdriver.Chrome()\n",
    "driver.get(\"https://www.google.com\")"
   ]
  },
  {
   "cell_type": "code",
   "execution_count": null,
   "id": "793d3a2b-9084-4612-a06b-2926d9de5833",
   "metadata": {},
   "outputs": [],
   "source": [
    "#driver.quit()"
   ]
  },
  {
   "cell_type": "markdown",
   "id": "e685b451-481a-4e8a-b096-111d780538ac",
   "metadata": {},
   "source": [
    "<a name=\"exercise-2\">\n",
    "\n",
    "### Part 2 : LinkedIn Login\n",
    "---"
   ]
  },
  {
   "cell_type": "markdown",
   "id": "d175b0a5-1a9a-4894-a779-135774009d94",
   "metadata": {},
   "source": [
    "1) Find the elements corresponding to the login field and fill them by inspecting the linkedin page"
   ]
  },
  {
   "cell_type": "code",
   "execution_count": null,
   "id": "b85f7321-b3e4-48bd-9f03-06f9271ebdd1",
   "metadata": {},
   "outputs": [],
   "source": [
    "import getpass"
   ]
  },
  {
   "cell_type": "code",
   "execution_count": null,
   "id": "58fd63df-3784-4687-8d4b-242fd3b33ded",
   "metadata": {},
   "outputs": [],
   "source": []
  },
  {
   "cell_type": "markdown",
   "id": "84cd3df9-ebb9-4442-9b66-869f6b7f4f85",
   "metadata": {},
   "source": [
    "2) Find two ways of login in : with submit button and keys."
   ]
  },
  {
   "cell_type": "code",
   "execution_count": null,
   "id": "8fc269f0-0fc1-42a4-a2cb-73d6b6af93ce",
   "metadata": {},
   "outputs": [],
   "source": []
  },
  {
   "cell_type": "markdown",
   "id": "4d80ee44-d6e5-4801-996d-6d7209236c62",
   "metadata": {},
   "source": [
    "3) Find the button to go on your profile page and automate the action of clicking."
   ]
  },
  {
   "cell_type": "code",
   "execution_count": null,
   "id": "fca686b3-ea46-4b7b-902c-653da878a28a",
   "metadata": {},
   "outputs": [],
   "source": []
  },
  {
   "cell_type": "markdown",
   "id": "5f243ed3-894d-4211-991c-0db5f822cdbc",
   "metadata": {},
   "source": [
    "4) Use a script to scroll the page to the bottom to browse all objects (execute_script function)"
   ]
  },
  {
   "cell_type": "code",
   "execution_count": null,
   "id": "414da11d-af9c-4190-8f97-3421685192b7",
   "metadata": {},
   "outputs": [],
   "source": []
  },
  {
   "cell_type": "markdown",
   "id": "9da6684b-5c1c-4941-b929-f74a607b169b",
   "metadata": {},
   "source": [
    "5) Use beautifulsoup and process the HTML of the previous scrolled page"
   ]
  },
  {
   "cell_type": "code",
   "execution_count": null,
   "id": "027e8278-1091-4e02-9b61-11ed145d0b79",
   "metadata": {},
   "outputs": [],
   "source": [
    "from bs4 import BeautifulSoup"
   ]
  },
  {
   "cell_type": "markdown",
   "id": "7ea7bb41-a88b-46b5-8533-8a4330a0d1d5",
   "metadata": {},
   "source": [
    "6.1) Extract under the variable name \"section\" the HTML part of the page corresponding to your experiences using the section ID"
   ]
  },
  {
   "cell_type": "code",
   "execution_count": null,
   "id": "9e2ca19e-8792-41c0-92c0-b28ef42176e1",
   "metadata": {},
   "outputs": [],
   "source": []
  },
  {
   "cell_type": "markdown",
   "id": "2beeed24-7e94-4d23-bf71-d704bfcfa131",
   "metadata": {},
   "source": [
    "6.2) As you can see, if you refresh the page the section ID changes, what can you do to always find it back ? Create a function to solve this question."
   ]
  },
  {
   "cell_type": "code",
   "execution_count": null,
   "id": "dff9565f-087b-402b-b88c-3052e240533a",
   "metadata": {},
   "outputs": [],
   "source": [
    "import numpy as np"
   ]
  },
  {
   "cell_type": "code",
   "execution_count": null,
   "id": "cf1f436b-e6a3-4419-9af1-2da3cfa4118f",
   "metadata": {},
   "outputs": [],
   "source": []
  },
  {
   "cell_type": "markdown",
   "id": "68576d22-d162-45d4-8f1e-9d268f43f127",
   "metadata": {},
   "source": [
    "7) From this extract part, extract separately experiences and from experiences : companies, period of time, description... using find_all (you might have doubled data but we will filter it after)"
   ]
  },
  {
   "cell_type": "code",
   "execution_count": null,
   "id": "d848b3b8-a786-475c-bbfb-b41ed4c81a20",
   "metadata": {},
   "outputs": [],
   "source": []
  },
  {
   "cell_type": "markdown",
   "id": "5a9c346f-942b-4d4e-8bc7-f2dc1886562e",
   "metadata": {},
   "source": [
    "8) Create a format_data function to process every list and keep only one title inside of a list"
   ]
  },
  {
   "cell_type": "code",
   "execution_count": null,
   "id": "9cd759d4-bc19-40d5-8d5d-d6ee62c6080e",
   "metadata": {},
   "outputs": [],
   "source": []
  },
  {
   "cell_type": "markdown",
   "id": "5d5eae0d-4ae7-4635-8bb0-53606ac04703",
   "metadata": {},
   "source": [
    "9) Create a dataframe named my_linkedin_data and insert all that data inside of it."
   ]
  },
  {
   "cell_type": "code",
   "execution_count": null,
   "id": "dd46d337-7ca9-4e62-ad52-de013c393dd3",
   "metadata": {},
   "outputs": [],
   "source": [
    "!pip install pandas"
   ]
  },
  {
   "cell_type": "code",
   "execution_count": null,
   "id": "428c8da8-b877-4419-b5e0-3d87da896119",
   "metadata": {},
   "outputs": [],
   "source": [
    "import pandas as pd"
   ]
  },
  {
   "cell_type": "code",
   "execution_count": null,
   "id": "d3e95ce8-4da5-49c6-9a8f-cac7051dc4aa",
   "metadata": {},
   "outputs": [],
   "source": []
  },
  {
   "cell_type": "markdown",
   "id": "33558413-70c5-47c8-a807-4f5d6ad84b0d",
   "metadata": {},
   "source": [
    "<a name=\"exercise-3\">\n",
    "\n",
    "### Part 3 : LinkedIn Relations\n",
    "---"
   ]
  },
  {
   "cell_type": "markdown",
   "id": "64854a73-a227-4fce-91bd-d7ae0046c245",
   "metadata": {},
   "source": [
    "1) Click on the \"More relations\" button to open your list of relations"
   ]
  },
  {
   "cell_type": "code",
   "execution_count": null,
   "id": "bae577cf-776f-48c1-aeeb-f76c9dabd828",
   "metadata": {},
   "outputs": [],
   "source": []
  },
  {
   "cell_type": "markdown",
   "id": "2cf153b6-b726-431e-8df3-e792cc74fda8",
   "metadata": {},
   "source": [
    "2) Extract the names and the jobs of your relations on the page."
   ]
  },
  {
   "cell_type": "code",
   "execution_count": null,
   "id": "6c9d08ba-6162-493f-83ea-b8bb9164fbf3",
   "metadata": {},
   "outputs": [],
   "source": []
  },
  {
   "cell_type": "markdown",
   "id": "0565f3b8-e7ad-413d-81d6-19cf4ce281ac",
   "metadata": {},
   "source": [
    "3) Find a way to navigate automatically between pages and extract all names, jobs, locationsand store them in a Dataframe"
   ]
  },
  {
   "cell_type": "code",
   "execution_count": null,
   "id": "3873f88a-2eb0-420e-83bc-64072f00d6d7",
   "metadata": {},
   "outputs": [],
   "source": [
    "import time"
   ]
  },
  {
   "cell_type": "code",
   "execution_count": null,
   "id": "dc49088b-0c6f-4bf9-a443-1a482f9d9562",
   "metadata": {},
   "outputs": [],
   "source": []
  }
 ],
 "metadata": {
  "kernelspec": {
   "display_name": "Python 3",
   "language": "python",
   "name": "python3"
  },
  "language_info": {
   "codemirror_mode": {
    "name": "ipython",
    "version": 3
   },
   "file_extension": ".py",
   "mimetype": "text/x-python",
   "name": "python",
   "nbconvert_exporter": "python",
   "pygments_lexer": "ipython3",
   "version": "3.9.5"
  }
 },
 "nbformat": 4,
 "nbformat_minor": 5
}
