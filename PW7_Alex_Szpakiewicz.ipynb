{
 "cells": [
  {
   "cell_type": "markdown",
   "id": "10b5c8e5-3bd1-457d-bf94-12058cac1e1c",
   "metadata": {},
   "source": [
    "# Tutorial 6 - Python for Data Analysis\n",
    "---\n",
    "## Selenium"
   ]
  },
  {
   "cell_type": "markdown",
   "id": "8ad02200-c276-4c2a-be43-992cfe005dc3",
   "metadata": {},
   "source": [
    "  - [Part 1](#exercise-1) : Installation\n",
    "  - [Part 2](#exercise-2) : LinkedIn Login & Profile\n",
    "  - [Part 3](#exercise-3) : LinkedIn Relations\n",
    "  - [Bonus](#exercise-bonus) : Portail\n"
   ]
  },
  {
   "cell_type": "markdown",
   "id": "490f83eb",
   "metadata": {},
   "source": [
    "For Selenium to be able to work, we need to download the adequate \"webdriver\" based on your browser.\n",
    "I will be giving you the steps for Chrome, however they are sensibly the same for any web browser.\n",
    "\n",
    "First step : Check your browser version. For Chrome, you need to visit \"help\" -> \"about Chrome\"."
   ]
  },
  {
   "cell_type": "markdown",
   "id": "3959a2e6",
   "metadata": {},
   "source": [
    "Second step : Download webdriver for the version of your browser here :\n",
    "https://googlechromelabs.github.io/chrome-for-testing/ (you should have V.118 of Chrome)"
   ]
  },
  {
   "cell_type": "markdown",
   "id": "6cd4b535",
   "metadata": {},
   "source": [
    "Third step : choose the link with binary \"webdriver\" and your OS (mac, windows) to download the webdriver, then place it ideally in your project directory."
   ]
  },
  {
   "cell_type": "markdown",
   "id": "b4d5ab70",
   "metadata": {},
   "source": [
    "Fourth step : Either set your webdriver to be a PATH executable OR ignore this step and use the argument executable_path in the webdriver object definition"
   ]
  },
  {
   "cell_type": "markdown",
   "id": "30809ac4-7dab-4bb9-bf82-fa283ee47db2",
   "metadata": {},
   "source": [
    "<a name=\"exercise-1\">\n",
    "\n",
    "### Part 1 : Installation\n",
    "---"
   ]
  },
  {
   "cell_type": "code",
   "execution_count": 78,
   "id": "24171a1f-90ee-4245-a8d7-101abfc59e62",
   "metadata": {
    "ExecuteTime": {
     "end_time": "2023-10-28T13:26:37.835553800Z",
     "start_time": "2023-10-28T13:26:34.937756600Z"
    }
   },
   "outputs": [
    {
     "name": "stdout",
     "output_type": "stream",
     "text": [
      "Requirement already satisfied: selenium in c:\\users\\alexs\\pycharmprojects\\pythonfordataanalysis\\venv\\lib\\site-packages (4.14.0)\n",
      "Requirement already satisfied: urllib3[socks]<3,>=1.26 in c:\\users\\alexs\\pycharmprojects\\pythonfordataanalysis\\venv\\lib\\site-packages (from selenium) (2.0.7)\n",
      "Requirement already satisfied: trio~=0.17 in c:\\users\\alexs\\pycharmprojects\\pythonfordataanalysis\\venv\\lib\\site-packages (from selenium) (0.22.2)\n",
      "Requirement already satisfied: trio-websocket~=0.9 in c:\\users\\alexs\\pycharmprojects\\pythonfordataanalysis\\venv\\lib\\site-packages (from selenium) (0.11.1)\n",
      "Requirement already satisfied: certifi>=2021.10.8 in c:\\users\\alexs\\pycharmprojects\\pythonfordataanalysis\\venv\\lib\\site-packages (from selenium) (2023.7.22)\n",
      "Requirement already satisfied: attrs>=20.1.0 in c:\\users\\alexs\\pycharmprojects\\pythonfordataanalysis\\venv\\lib\\site-packages (from trio~=0.17->selenium) (23.1.0)\n",
      "Requirement already satisfied: sortedcontainers in c:\\users\\alexs\\pycharmprojects\\pythonfordataanalysis\\venv\\lib\\site-packages (from trio~=0.17->selenium) (2.4.0)\n",
      "Requirement already satisfied: idna in c:\\users\\alexs\\pycharmprojects\\pythonfordataanalysis\\venv\\lib\\site-packages (from trio~=0.17->selenium) (3.4)\n",
      "Requirement already satisfied: outcome in c:\\users\\alexs\\pycharmprojects\\pythonfordataanalysis\\venv\\lib\\site-packages (from trio~=0.17->selenium) (1.3.0)\n",
      "Requirement already satisfied: sniffio in c:\\users\\alexs\\pycharmprojects\\pythonfordataanalysis\\venv\\lib\\site-packages (from trio~=0.17->selenium) (1.3.0)\n",
      "Requirement already satisfied: cffi>=1.14 in c:\\users\\alexs\\pycharmprojects\\pythonfordataanalysis\\venv\\lib\\site-packages (from trio~=0.17->selenium) (1.16.0)\n",
      "Requirement already satisfied: wsproto>=0.14 in c:\\users\\alexs\\pycharmprojects\\pythonfordataanalysis\\venv\\lib\\site-packages (from trio-websocket~=0.9->selenium) (1.2.0)\n",
      "Requirement already satisfied: pysocks!=1.5.7,<2.0,>=1.5.6 in c:\\users\\alexs\\pycharmprojects\\pythonfordataanalysis\\venv\\lib\\site-packages (from urllib3[socks]<3,>=1.26->selenium) (1.7.1)\n",
      "Requirement already satisfied: pycparser in c:\\users\\alexs\\pycharmprojects\\pythonfordataanalysis\\venv\\lib\\site-packages (from cffi>=1.14->trio~=0.17->selenium) (2.21)\n",
      "Requirement already satisfied: h11<1,>=0.9.0 in c:\\users\\alexs\\pycharmprojects\\pythonfordataanalysis\\venv\\lib\\site-packages (from wsproto>=0.14->trio-websocket~=0.9->selenium) (0.14.0)\n"
     ]
    },
    {
     "name": "stderr",
     "output_type": "stream",
     "text": [
      "\n",
      "[notice] A new release of pip available: 22.3.1 -> 23.3.1\n",
      "[notice] To update, run: python.exe -m pip install --upgrade pip\n"
     ]
    }
   ],
   "source": [
    "!pip install -U selenium"
   ]
  },
  {
   "cell_type": "code",
   "execution_count": 79,
   "id": "8fa5ae60-ff14-4b00-95e7-6ec544638934",
   "metadata": {
    "ExecuteTime": {
     "end_time": "2023-10-28T13:26:39.760748500Z",
     "start_time": "2023-10-28T13:26:37.838059500Z"
    }
   },
   "outputs": [
    {
     "name": "stdout",
     "output_type": "stream",
     "text": [
      "Requirement already satisfied: lxml in c:\\users\\alexs\\pycharmprojects\\pythonfordataanalysis\\venv\\lib\\site-packages (4.9.3)\n"
     ]
    },
    {
     "name": "stderr",
     "output_type": "stream",
     "text": [
      "\n",
      "[notice] A new release of pip available: 22.3.1 -> 23.3.1\n",
      "[notice] To update, run: python.exe -m pip install --upgrade pip\n"
     ]
    }
   ],
   "source": [
    "!pip install lxml"
   ]
  },
  {
   "cell_type": "code",
   "execution_count": 80,
   "id": "5e5d4470",
   "metadata": {
    "ExecuteTime": {
     "end_time": "2023-10-28T13:26:40.860193100Z",
     "start_time": "2023-10-28T13:26:39.762749300Z"
    }
   },
   "outputs": [
    {
     "name": "stderr",
     "output_type": "stream",
     "text": [
      "\n",
      "[notice] A new release of pip available: 22.3.1 -> 23.3.1\n",
      "[notice] To update, run: python.exe -m pip install --upgrade pip\n"
     ]
    },
    {
     "name": "stdout",
     "output_type": "stream",
     "text": [
      "Package                   Version\n",
      "------------------------- ------------\n",
      "anyio                     4.0.0\n",
      "argon2-cffi               23.1.0\n",
      "argon2-cffi-bindings      21.2.0\n",
      "arrow                     1.3.0\n",
      "asttokens                 2.4.0\n",
      "async-lru                 2.0.4\n",
      "attrs                     23.1.0\n",
      "Babel                     2.13.0\n",
      "backcall                  0.2.0\n",
      "beautifulsoup4            4.12.2\n",
      "bleach                    6.1.0\n",
      "certifi                   2023.7.22\n",
      "cffi                      1.16.0\n",
      "charset-normalizer        3.3.0\n",
      "colorama                  0.4.6\n",
      "comm                      0.1.4\n",
      "contourpy                 1.1.1\n",
      "cycler                    0.12.1\n",
      "debugpy                   1.8.0\n",
      "decorator                 5.1.1\n",
      "defusedxml                0.7.1\n",
      "executing                 2.0.0\n",
      "fastjsonschema            2.18.1\n",
      "fonttools                 4.43.1\n",
      "fqdn                      1.5.1\n",
      "h11                       0.14.0\n",
      "idna                      3.4\n",
      "ipykernel                 6.25.2\n",
      "ipython                   8.16.1\n",
      "ipython-genutils          0.2.0\n",
      "ipywidgets                8.1.1\n",
      "isoduration               20.11.0\n",
      "jedi                      0.19.1\n",
      "Jinja2                    3.1.2\n",
      "joblib                    1.3.2\n",
      "json5                     0.9.14\n",
      "jsonpointer               2.4\n",
      "jsonschema                4.19.1\n",
      "jsonschema-specifications 2023.7.1\n",
      "jupyter                   1.0.0\n",
      "jupyter_client            8.4.0\n",
      "jupyter-console           6.6.3\n",
      "jupyter_core              5.4.0\n",
      "jupyter-events            0.8.0\n",
      "jupyter-lsp               2.2.0\n",
      "jupyter_server            2.8.0\n",
      "jupyter_server_terminals  0.4.4\n",
      "jupyterlab                4.0.7\n",
      "jupyterlab-pygments       0.2.2\n",
      "jupyterlab_server         2.25.0\n",
      "jupyterlab-widgets        3.0.9\n",
      "kiwisolver                1.4.5\n",
      "lxml                      4.9.3\n",
      "MarkupSafe                2.1.3\n",
      "matplotlib                3.8.0\n",
      "matplotlib-inline         0.1.6\n",
      "mistune                   3.0.2\n",
      "nbclient                  0.8.0\n",
      "nbconvert                 7.9.2\n",
      "nbformat                  5.9.2\n",
      "nest-asyncio              1.5.8\n",
      "notebook                  7.0.6\n",
      "notebook_shim             0.2.3\n",
      "numpy                     1.26.1\n",
      "outcome                   1.3.0\n",
      "overrides                 7.4.0\n",
      "packaging                 23.2\n",
      "pandas                    2.1.1\n",
      "pandocfilters             1.5.0\n",
      "parso                     0.8.3\n",
      "pickleshare               0.7.5\n",
      "Pillow                    10.1.0\n",
      "pip                       22.3.1\n",
      "platformdirs              3.11.0\n",
      "prometheus-client         0.17.1\n",
      "prompt-toolkit            3.0.39\n",
      "psutil                    5.9.6\n",
      "pure-eval                 0.2.2\n",
      "pycparser                 2.21\n",
      "Pygments                  2.16.1\n",
      "pyparsing                 3.1.1\n",
      "PySocks                   1.7.1\n",
      "python-dateutil           2.8.2\n",
      "python-json-logger        2.0.7\n",
      "pytz                      2023.3.post1\n",
      "pywin32                   306\n",
      "pywinpty                  2.0.12\n",
      "PyYAML                    6.0.1\n",
      "pyzmq                     25.1.1\n",
      "qtconsole                 5.4.4\n",
      "QtPy                      2.4.0\n",
      "referencing               0.30.2\n",
      "requests                  2.31.0\n",
      "rfc3339-validator         0.1.4\n",
      "rfc3986-validator         0.1.1\n",
      "rpds-py                   0.10.6\n",
      "scikit-learn              1.3.2\n",
      "scipy                     1.11.3\n",
      "seaborn                   0.13.0\n",
      "selenium                  4.14.0\n",
      "Send2Trash                1.8.2\n",
      "setuptools                65.5.1\n",
      "six                       1.16.0\n",
      "sniffio                   1.3.0\n",
      "sortedcontainers          2.4.0\n",
      "soupsieve                 2.5\n",
      "stack-data                0.6.3\n",
      "terminado                 0.17.1\n",
      "threadpoolctl             3.2.0\n",
      "tinycss2                  1.2.1\n",
      "tornado                   6.3.3\n",
      "traitlets                 5.11.2\n",
      "trio                      0.22.2\n",
      "trio-websocket            0.11.1\n",
      "types-python-dateutil     2.8.19.14\n",
      "tzdata                    2023.3\n",
      "uri-template              1.3.0\n",
      "urllib3                   2.0.7\n",
      "wcwidth                   0.2.8\n",
      "webcolors                 1.13\n",
      "webencodings              0.5.1\n",
      "websocket-client          1.6.4\n",
      "wheel                     0.38.4\n",
      "widgetsnbextension        4.0.9\n",
      "wsproto                   1.2.0\n"
     ]
    }
   ],
   "source": [
    "!pip list"
   ]
  },
  {
   "cell_type": "code",
   "execution_count": 81,
   "id": "2b0249a6-b961-4317-8574-628d7fe5f660",
   "metadata": {
    "ExecuteTime": {
     "end_time": "2023-10-28T13:26:42.556146300Z",
     "start_time": "2023-10-28T13:26:40.859186Z"
    }
   },
   "outputs": [
    {
     "name": "stdout",
     "output_type": "stream",
     "text": [
      "Requirement already satisfied: beautifulsoup4 in c:\\users\\alexs\\pycharmprojects\\pythonfordataanalysis\\venv\\lib\\site-packages (4.12.2)\n",
      "Requirement already satisfied: soupsieve>1.2 in c:\\users\\alexs\\pycharmprojects\\pythonfordataanalysis\\venv\\lib\\site-packages (from beautifulsoup4) (2.5)\n"
     ]
    },
    {
     "name": "stderr",
     "output_type": "stream",
     "text": [
      "\n",
      "[notice] A new release of pip available: 22.3.1 -> 23.3.1\n",
      "[notice] To update, run: python.exe -m pip install --upgrade pip\n"
     ]
    }
   ],
   "source": [
    "!pip install beautifulsoup4"
   ]
  },
  {
   "cell_type": "code",
   "execution_count": 82,
   "id": "58c8b54b-51b2-4c82-a34f-ba8e14038447",
   "metadata": {
    "ExecuteTime": {
     "end_time": "2023-10-28T13:26:42.559795100Z",
     "start_time": "2023-10-28T13:26:42.556146300Z"
    }
   },
   "outputs": [],
   "source": [
    "from selenium import webdriver\n",
    "from selenium.webdriver.common.by import By\n",
    "from selenium.webdriver.common.keys import Keys"
   ]
  },
  {
   "cell_type": "markdown",
   "id": "7fce3632-638e-4655-960d-6c3f84d31069",
   "metadata": {},
   "source": [
    "Create your first driver !\n",
    "\n",
    "Install the browser driver depending on your browser version : https://www.selenium.dev/documentation/webdriver/getting_started/install_drivers/\n",
    "\n",
    "Place the exe file in the directory of your jupyterlab directory.\n",
    "For the latest documentation on selenium : https://www.selenium.dev/documentation/overview/"
   ]
  },
  {
   "cell_type": "code",
   "execution_count": 83,
   "id": "6aefc23c-8d3c-4a42-b155-c75dc057155a",
   "metadata": {
    "ExecuteTime": {
     "end_time": "2023-10-28T13:26:43.740766Z",
     "start_time": "2023-10-28T13:26:42.560797100Z"
    }
   },
   "outputs": [
    {
     "ename": "KeyboardInterrupt",
     "evalue": "",
     "output_type": "error",
     "traceback": [
      "\u001B[1;31m---------------------------------------------------------------------------\u001B[0m",
      "\u001B[1;31mKeyboardInterrupt\u001B[0m                         Traceback (most recent call last)",
      "Cell \u001B[1;32mIn[83], line 1\u001B[0m\n\u001B[1;32m----> 1\u001B[0m driver \u001B[38;5;241m=\u001B[39m \u001B[43mwebdriver\u001B[49m\u001B[38;5;241;43m.\u001B[39;49m\u001B[43mChrome\u001B[49m\u001B[43m(\u001B[49m\u001B[43m)\u001B[49m\n",
      "File \u001B[1;32m~\\PycharmProjects\\PythonForDataAnalysis\\venv\\Lib\\site-packages\\selenium\\webdriver\\chrome\\webdriver.py:45\u001B[0m, in \u001B[0;36mWebDriver.__init__\u001B[1;34m(self, options, service, keep_alive)\u001B[0m\n\u001B[0;32m     42\u001B[0m service \u001B[38;5;241m=\u001B[39m service \u001B[38;5;28;01mif\u001B[39;00m service \u001B[38;5;28;01melse\u001B[39;00m Service()\n\u001B[0;32m     43\u001B[0m options \u001B[38;5;241m=\u001B[39m options \u001B[38;5;28;01mif\u001B[39;00m options \u001B[38;5;28;01melse\u001B[39;00m Options()\n\u001B[1;32m---> 45\u001B[0m \u001B[38;5;28;43msuper\u001B[39;49m\u001B[43m(\u001B[49m\u001B[43m)\u001B[49m\u001B[38;5;241;43m.\u001B[39;49m\u001B[38;5;21;43m__init__\u001B[39;49m\u001B[43m(\u001B[49m\n\u001B[0;32m     46\u001B[0m \u001B[43m    \u001B[49m\u001B[43mDesiredCapabilities\u001B[49m\u001B[38;5;241;43m.\u001B[39;49m\u001B[43mCHROME\u001B[49m\u001B[43m[\u001B[49m\u001B[38;5;124;43m\"\u001B[39;49m\u001B[38;5;124;43mbrowserName\u001B[39;49m\u001B[38;5;124;43m\"\u001B[39;49m\u001B[43m]\u001B[49m\u001B[43m,\u001B[49m\n\u001B[0;32m     47\u001B[0m \u001B[43m    \u001B[49m\u001B[38;5;124;43m\"\u001B[39;49m\u001B[38;5;124;43mgoog\u001B[39;49m\u001B[38;5;124;43m\"\u001B[39;49m\u001B[43m,\u001B[49m\n\u001B[0;32m     48\u001B[0m \u001B[43m    \u001B[49m\u001B[43moptions\u001B[49m\u001B[43m,\u001B[49m\n\u001B[0;32m     49\u001B[0m \u001B[43m    \u001B[49m\u001B[43mservice\u001B[49m\u001B[43m,\u001B[49m\n\u001B[0;32m     50\u001B[0m \u001B[43m    \u001B[49m\u001B[43mkeep_alive\u001B[49m\u001B[43m,\u001B[49m\n\u001B[0;32m     51\u001B[0m \u001B[43m\u001B[49m\u001B[43m)\u001B[49m\n",
      "File \u001B[1;32m~\\PycharmProjects\\PythonForDataAnalysis\\venv\\Lib\\site-packages\\selenium\\webdriver\\chromium\\webdriver.py:51\u001B[0m, in \u001B[0;36mChromiumDriver.__init__\u001B[1;34m(self, browser_name, vendor_prefix, options, service, keep_alive)\u001B[0m\n\u001B[0;32m     47\u001B[0m \u001B[38;5;28mself\u001B[39m\u001B[38;5;241m.\u001B[39mvendor_prefix \u001B[38;5;241m=\u001B[39m vendor_prefix\n\u001B[0;32m     49\u001B[0m \u001B[38;5;28mself\u001B[39m\u001B[38;5;241m.\u001B[39mservice \u001B[38;5;241m=\u001B[39m service\n\u001B[1;32m---> 51\u001B[0m \u001B[38;5;28mself\u001B[39m\u001B[38;5;241m.\u001B[39mservice\u001B[38;5;241m.\u001B[39mpath \u001B[38;5;241m=\u001B[39m \u001B[43mDriverFinder\u001B[49m\u001B[38;5;241;43m.\u001B[39;49m\u001B[43mget_path\u001B[49m\u001B[43m(\u001B[49m\u001B[38;5;28;43mself\u001B[39;49m\u001B[38;5;241;43m.\u001B[39;49m\u001B[43mservice\u001B[49m\u001B[43m,\u001B[49m\u001B[43m \u001B[49m\u001B[43moptions\u001B[49m\u001B[43m)\u001B[49m\n\u001B[0;32m     53\u001B[0m \u001B[38;5;28mself\u001B[39m\u001B[38;5;241m.\u001B[39mservice\u001B[38;5;241m.\u001B[39mstart()\n\u001B[0;32m     55\u001B[0m \u001B[38;5;28;01mtry\u001B[39;00m:\n",
      "File \u001B[1;32m~\\PycharmProjects\\PythonForDataAnalysis\\venv\\Lib\\site-packages\\selenium\\webdriver\\common\\driver_finder.py:38\u001B[0m, in \u001B[0;36mDriverFinder.get_path\u001B[1;34m(service, options)\u001B[0m\n\u001B[0;32m     36\u001B[0m path \u001B[38;5;241m=\u001B[39m service\u001B[38;5;241m.\u001B[39mpath\n\u001B[0;32m     37\u001B[0m \u001B[38;5;28;01mtry\u001B[39;00m:\n\u001B[1;32m---> 38\u001B[0m     path \u001B[38;5;241m=\u001B[39m \u001B[43mSeleniumManager\u001B[49m\u001B[43m(\u001B[49m\u001B[43m)\u001B[49m\u001B[38;5;241;43m.\u001B[39;49m\u001B[43mdriver_location\u001B[49m\u001B[43m(\u001B[49m\u001B[43moptions\u001B[49m\u001B[43m)\u001B[49m \u001B[38;5;28;01mif\u001B[39;00m path \u001B[38;5;129;01mis\u001B[39;00m \u001B[38;5;28;01mNone\u001B[39;00m \u001B[38;5;28;01melse\u001B[39;00m path\n\u001B[0;32m     39\u001B[0m \u001B[38;5;28;01mexcept\u001B[39;00m \u001B[38;5;167;01mException\u001B[39;00m \u001B[38;5;28;01mas\u001B[39;00m err:\n\u001B[0;32m     40\u001B[0m     msg \u001B[38;5;241m=\u001B[39m \u001B[38;5;124mf\u001B[39m\u001B[38;5;124m\"\u001B[39m\u001B[38;5;124mUnable to obtain driver for \u001B[39m\u001B[38;5;132;01m{\u001B[39;00moptions\u001B[38;5;241m.\u001B[39mcapabilities[\u001B[38;5;124m'\u001B[39m\u001B[38;5;124mbrowserName\u001B[39m\u001B[38;5;124m'\u001B[39m]\u001B[38;5;132;01m}\u001B[39;00m\u001B[38;5;124m using Selenium Manager.\u001B[39m\u001B[38;5;124m\"\u001B[39m\n",
      "File \u001B[1;32m~\\PycharmProjects\\PythonForDataAnalysis\\venv\\Lib\\site-packages\\selenium\\webdriver\\common\\selenium_manager.py:98\u001B[0m, in \u001B[0;36mSeleniumManager.driver_location\u001B[1;34m(self, options)\u001B[0m\n\u001B[0;32m     95\u001B[0m     value \u001B[38;5;241m=\u001B[39m proxy\u001B[38;5;241m.\u001B[39mssl_proxy \u001B[38;5;28;01mif\u001B[39;00m proxy\u001B[38;5;241m.\u001B[39mssl_proxy \u001B[38;5;28;01melse\u001B[39;00m proxy\u001B[38;5;241m.\u001B[39mhttp_proxy\n\u001B[0;32m     96\u001B[0m     args\u001B[38;5;241m.\u001B[39mappend(value)\n\u001B[1;32m---> 98\u001B[0m output \u001B[38;5;241m=\u001B[39m \u001B[38;5;28;43mself\u001B[39;49m\u001B[38;5;241;43m.\u001B[39;49m\u001B[43mrun\u001B[49m\u001B[43m(\u001B[49m\u001B[43margs\u001B[49m\u001B[43m)\u001B[49m\n\u001B[0;32m    100\u001B[0m browser_path \u001B[38;5;241m=\u001B[39m output[\u001B[38;5;124m\"\u001B[39m\u001B[38;5;124mbrowser_path\u001B[39m\u001B[38;5;124m\"\u001B[39m]\n\u001B[0;32m    101\u001B[0m driver_path \u001B[38;5;241m=\u001B[39m output[\u001B[38;5;124m\"\u001B[39m\u001B[38;5;124mdriver_path\u001B[39m\u001B[38;5;124m\"\u001B[39m]\n",
      "File \u001B[1;32m~\\PycharmProjects\\PythonForDataAnalysis\\venv\\Lib\\site-packages\\selenium\\webdriver\\common\\selenium_manager.py:127\u001B[0m, in \u001B[0;36mSeleniumManager.run\u001B[1;34m(args)\u001B[0m\n\u001B[0;32m    125\u001B[0m \u001B[38;5;28;01mtry\u001B[39;00m:\n\u001B[0;32m    126\u001B[0m     \u001B[38;5;28;01mif\u001B[39;00m sys\u001B[38;5;241m.\u001B[39mplatform \u001B[38;5;241m==\u001B[39m \u001B[38;5;124m\"\u001B[39m\u001B[38;5;124mwin32\u001B[39m\u001B[38;5;124m\"\u001B[39m:\n\u001B[1;32m--> 127\u001B[0m         completed_proc \u001B[38;5;241m=\u001B[39m \u001B[43msubprocess\u001B[49m\u001B[38;5;241;43m.\u001B[39;49m\u001B[43mrun\u001B[49m\u001B[43m(\u001B[49m\u001B[43margs\u001B[49m\u001B[43m,\u001B[49m\u001B[43m \u001B[49m\u001B[43mcapture_output\u001B[49m\u001B[38;5;241;43m=\u001B[39;49m\u001B[38;5;28;43;01mTrue\u001B[39;49;00m\u001B[43m,\u001B[49m\u001B[43m \u001B[49m\u001B[43mcreationflags\u001B[49m\u001B[38;5;241;43m=\u001B[39;49m\u001B[43msubprocess\u001B[49m\u001B[38;5;241;43m.\u001B[39;49m\u001B[43mCREATE_NO_WINDOW\u001B[49m\u001B[43m)\u001B[49m\n\u001B[0;32m    128\u001B[0m     \u001B[38;5;28;01melse\u001B[39;00m:\n\u001B[0;32m    129\u001B[0m         completed_proc \u001B[38;5;241m=\u001B[39m subprocess\u001B[38;5;241m.\u001B[39mrun(args, capture_output\u001B[38;5;241m=\u001B[39m\u001B[38;5;28;01mTrue\u001B[39;00m)\n",
      "File \u001B[1;32m~\\AppData\\Local\\Programs\\Python\\Python311\\Lib\\subprocess.py:550\u001B[0m, in \u001B[0;36mrun\u001B[1;34m(input, capture_output, timeout, check, *popenargs, **kwargs)\u001B[0m\n\u001B[0;32m    548\u001B[0m \u001B[38;5;28;01mwith\u001B[39;00m Popen(\u001B[38;5;241m*\u001B[39mpopenargs, \u001B[38;5;241m*\u001B[39m\u001B[38;5;241m*\u001B[39mkwargs) \u001B[38;5;28;01mas\u001B[39;00m process:\n\u001B[0;32m    549\u001B[0m     \u001B[38;5;28;01mtry\u001B[39;00m:\n\u001B[1;32m--> 550\u001B[0m         stdout, stderr \u001B[38;5;241m=\u001B[39m \u001B[43mprocess\u001B[49m\u001B[38;5;241;43m.\u001B[39;49m\u001B[43mcommunicate\u001B[49m\u001B[43m(\u001B[49m\u001B[38;5;28;43minput\u001B[39;49m\u001B[43m,\u001B[49m\u001B[43m \u001B[49m\u001B[43mtimeout\u001B[49m\u001B[38;5;241;43m=\u001B[39;49m\u001B[43mtimeout\u001B[49m\u001B[43m)\u001B[49m\n\u001B[0;32m    551\u001B[0m     \u001B[38;5;28;01mexcept\u001B[39;00m TimeoutExpired \u001B[38;5;28;01mas\u001B[39;00m exc:\n\u001B[0;32m    552\u001B[0m         process\u001B[38;5;241m.\u001B[39mkill()\n",
      "File \u001B[1;32m~\\AppData\\Local\\Programs\\Python\\Python311\\Lib\\subprocess.py:1209\u001B[0m, in \u001B[0;36mPopen.communicate\u001B[1;34m(self, input, timeout)\u001B[0m\n\u001B[0;32m   1206\u001B[0m     endtime \u001B[38;5;241m=\u001B[39m \u001B[38;5;28;01mNone\u001B[39;00m\n\u001B[0;32m   1208\u001B[0m \u001B[38;5;28;01mtry\u001B[39;00m:\n\u001B[1;32m-> 1209\u001B[0m     stdout, stderr \u001B[38;5;241m=\u001B[39m \u001B[38;5;28;43mself\u001B[39;49m\u001B[38;5;241;43m.\u001B[39;49m\u001B[43m_communicate\u001B[49m\u001B[43m(\u001B[49m\u001B[38;5;28;43minput\u001B[39;49m\u001B[43m,\u001B[49m\u001B[43m \u001B[49m\u001B[43mendtime\u001B[49m\u001B[43m,\u001B[49m\u001B[43m \u001B[49m\u001B[43mtimeout\u001B[49m\u001B[43m)\u001B[49m\n\u001B[0;32m   1210\u001B[0m \u001B[38;5;28;01mexcept\u001B[39;00m \u001B[38;5;167;01mKeyboardInterrupt\u001B[39;00m:\n\u001B[0;32m   1211\u001B[0m     \u001B[38;5;66;03m# https://bugs.python.org/issue25942\u001B[39;00m\n\u001B[0;32m   1212\u001B[0m     \u001B[38;5;66;03m# See the detailed comment in .wait().\u001B[39;00m\n\u001B[0;32m   1213\u001B[0m     \u001B[38;5;28;01mif\u001B[39;00m timeout \u001B[38;5;129;01mis\u001B[39;00m \u001B[38;5;129;01mnot\u001B[39;00m \u001B[38;5;28;01mNone\u001B[39;00m:\n",
      "File \u001B[1;32m~\\AppData\\Local\\Programs\\Python\\Python311\\Lib\\subprocess.py:1626\u001B[0m, in \u001B[0;36mPopen._communicate\u001B[1;34m(self, input, endtime, orig_timeout)\u001B[0m\n\u001B[0;32m   1622\u001B[0m \u001B[38;5;66;03m# Wait for the reader threads, or time out.  If we time out, the\u001B[39;00m\n\u001B[0;32m   1623\u001B[0m \u001B[38;5;66;03m# threads remain reading and the fds left open in case the user\u001B[39;00m\n\u001B[0;32m   1624\u001B[0m \u001B[38;5;66;03m# calls communicate again.\u001B[39;00m\n\u001B[0;32m   1625\u001B[0m \u001B[38;5;28;01mif\u001B[39;00m \u001B[38;5;28mself\u001B[39m\u001B[38;5;241m.\u001B[39mstdout \u001B[38;5;129;01mis\u001B[39;00m \u001B[38;5;129;01mnot\u001B[39;00m \u001B[38;5;28;01mNone\u001B[39;00m:\n\u001B[1;32m-> 1626\u001B[0m     \u001B[38;5;28;43mself\u001B[39;49m\u001B[38;5;241;43m.\u001B[39;49m\u001B[43mstdout_thread\u001B[49m\u001B[38;5;241;43m.\u001B[39;49m\u001B[43mjoin\u001B[49m\u001B[43m(\u001B[49m\u001B[38;5;28;43mself\u001B[39;49m\u001B[38;5;241;43m.\u001B[39;49m\u001B[43m_remaining_time\u001B[49m\u001B[43m(\u001B[49m\u001B[43mendtime\u001B[49m\u001B[43m)\u001B[49m\u001B[43m)\u001B[49m\n\u001B[0;32m   1627\u001B[0m     \u001B[38;5;28;01mif\u001B[39;00m \u001B[38;5;28mself\u001B[39m\u001B[38;5;241m.\u001B[39mstdout_thread\u001B[38;5;241m.\u001B[39mis_alive():\n\u001B[0;32m   1628\u001B[0m         \u001B[38;5;28;01mraise\u001B[39;00m TimeoutExpired(\u001B[38;5;28mself\u001B[39m\u001B[38;5;241m.\u001B[39margs, orig_timeout)\n",
      "File \u001B[1;32m~\\AppData\\Local\\Programs\\Python\\Python311\\Lib\\threading.py:1119\u001B[0m, in \u001B[0;36mThread.join\u001B[1;34m(self, timeout)\u001B[0m\n\u001B[0;32m   1116\u001B[0m     \u001B[38;5;28;01mraise\u001B[39;00m \u001B[38;5;167;01mRuntimeError\u001B[39;00m(\u001B[38;5;124m\"\u001B[39m\u001B[38;5;124mcannot join current thread\u001B[39m\u001B[38;5;124m\"\u001B[39m)\n\u001B[0;32m   1118\u001B[0m \u001B[38;5;28;01mif\u001B[39;00m timeout \u001B[38;5;129;01mis\u001B[39;00m \u001B[38;5;28;01mNone\u001B[39;00m:\n\u001B[1;32m-> 1119\u001B[0m     \u001B[38;5;28;43mself\u001B[39;49m\u001B[38;5;241;43m.\u001B[39;49m\u001B[43m_wait_for_tstate_lock\u001B[49m\u001B[43m(\u001B[49m\u001B[43m)\u001B[49m\n\u001B[0;32m   1120\u001B[0m \u001B[38;5;28;01melse\u001B[39;00m:\n\u001B[0;32m   1121\u001B[0m     \u001B[38;5;66;03m# the behavior of a negative timeout isn't documented, but\u001B[39;00m\n\u001B[0;32m   1122\u001B[0m     \u001B[38;5;66;03m# historically .join(timeout=x) for x<0 has acted as if timeout=0\u001B[39;00m\n\u001B[0;32m   1123\u001B[0m     \u001B[38;5;28mself\u001B[39m\u001B[38;5;241m.\u001B[39m_wait_for_tstate_lock(timeout\u001B[38;5;241m=\u001B[39m\u001B[38;5;28mmax\u001B[39m(timeout, \u001B[38;5;241m0\u001B[39m))\n",
      "File \u001B[1;32m~\\AppData\\Local\\Programs\\Python\\Python311\\Lib\\threading.py:1139\u001B[0m, in \u001B[0;36mThread._wait_for_tstate_lock\u001B[1;34m(self, block, timeout)\u001B[0m\n\u001B[0;32m   1136\u001B[0m     \u001B[38;5;28;01mreturn\u001B[39;00m\n\u001B[0;32m   1138\u001B[0m \u001B[38;5;28;01mtry\u001B[39;00m:\n\u001B[1;32m-> 1139\u001B[0m     \u001B[38;5;28;01mif\u001B[39;00m \u001B[43mlock\u001B[49m\u001B[38;5;241;43m.\u001B[39;49m\u001B[43macquire\u001B[49m\u001B[43m(\u001B[49m\u001B[43mblock\u001B[49m\u001B[43m,\u001B[49m\u001B[43m \u001B[49m\u001B[43mtimeout\u001B[49m\u001B[43m)\u001B[49m:\n\u001B[0;32m   1140\u001B[0m         lock\u001B[38;5;241m.\u001B[39mrelease()\n\u001B[0;32m   1141\u001B[0m         \u001B[38;5;28mself\u001B[39m\u001B[38;5;241m.\u001B[39m_stop()\n",
      "\u001B[1;31mKeyboardInterrupt\u001B[0m: "
     ]
    }
   ],
   "source": [
    "driver = webdriver.Chrome()"
   ]
  },
  {
   "cell_type": "code",
   "execution_count": null,
   "id": "793d3a2b-9084-4612-a06b-2926d9de5833",
   "metadata": {
    "ExecuteTime": {
     "end_time": "2023-10-28T13:26:43.742762600Z",
     "start_time": "2023-10-28T13:26:43.742762600Z"
    }
   },
   "outputs": [],
   "source": [
    "driver.get(\"https://www.linkedin.com\")"
   ]
  },
  {
   "cell_type": "markdown",
   "id": "e685b451-481a-4e8a-b096-111d780538ac",
   "metadata": {},
   "source": [
    "<a name=\"exercise-2\">\n",
    "\n",
    "### Part 2 : LinkedIn Login\n",
    "---"
   ]
  },
  {
   "cell_type": "markdown",
   "id": "d175b0a5-1a9a-4894-a779-135774009d94",
   "metadata": {},
   "source": [
    "1) Find the elements corresponding to the login field and fill them by inspecting the linkedin page"
   ]
  },
  {
   "cell_type": "code",
   "execution_count": null,
   "id": "b85f7321-b3e4-48bd-9f03-06f9271ebdd1",
   "metadata": {
    "ExecuteTime": {
     "start_time": "2023-10-28T13:26:43.745929100Z"
    }
   },
   "outputs": [],
   "source": [
    "import getpass"
   ]
  },
  {
   "cell_type": "markdown",
   "id": "84cd3df9-ebb9-4442-9b66-869f6b7f4f85",
   "metadata": {},
   "source": [
    "2) Find two ways of login in : with submit button and keys."
   ]
  },
  {
   "cell_type": "code",
   "execution_count": null,
   "id": "8fc269f0-0fc1-42a4-a2cb-73d6b6af93ce",
   "metadata": {
    "ExecuteTime": {
     "start_time": "2023-10-28T13:26:43.747938300Z"
    }
   },
   "outputs": [],
   "source": [
    "username = input(\"Enter LinkedIn username (email): \")\n",
    "password = getpass.getpass(\"Enter LinkedIn password: \")\n",
    "\n",
    "login_field = driver.find_element(By.ID, \"session_key\")\n",
    "login_field.send_keys(username)\n",
    "\n",
    "password_field = driver.find_element(By.ID, \"session_password\")\n",
    "password_field.send_keys(password)\n",
    "password_field.send_keys(Keys.RETURN)\n"
   ]
  },
  {
   "cell_type": "markdown",
   "id": "4d80ee44-d6e5-4801-996d-6d7209236c62",
   "metadata": {},
   "source": [
    "3) Find the button to go on your profile page and automate the action of clicking."
   ]
  },
  {
   "cell_type": "code",
   "execution_count": null,
   "id": "fca686b3-ea46-4b7b-902c-653da878a28a",
   "metadata": {
    "ExecuteTime": {
     "start_time": "2023-10-28T13:26:43.749810400Z"
    }
   },
   "outputs": [],
   "source": [
    "element = driver.find_element(By.CSS_SELECTOR, \"a[href='/in/alex-szpakiewicz/']\")\n",
    "element.click()"
   ]
  },
  {
   "cell_type": "markdown",
   "id": "5f243ed3-894d-4211-991c-0db5f822cdbc",
   "metadata": {},
   "source": [
    "4) Use a script to scroll the page to the bottom to browse all objects (execute_script function)"
   ]
  },
  {
   "cell_type": "code",
   "execution_count": null,
   "id": "414da11d-af9c-4190-8f97-3421685192b7",
   "metadata": {
    "ExecuteTime": {
     "end_time": "2023-10-28T13:26:43.761880300Z",
     "start_time": "2023-10-28T13:26:43.752808400Z"
    }
   },
   "outputs": [],
   "source": [
    "driver.execute_script(\"window.scrollTo(0, document.body.scrollHeight);\")"
   ]
  },
  {
   "cell_type": "markdown",
   "id": "9da6684b-5c1c-4941-b929-f74a607b169b",
   "metadata": {},
   "source": [
    "5) Use beautifulsoup and process the HTML of the previous scrolled page"
   ]
  },
  {
   "cell_type": "code",
   "execution_count": null,
   "id": "027e8278-1091-4e02-9b61-11ed145d0b79",
   "metadata": {
    "ExecuteTime": {
     "start_time": "2023-10-28T13:26:43.755058200Z"
    }
   },
   "outputs": [],
   "source": [
    "from bs4 import BeautifulSoup\n",
    "html = driver.page_source\n",
    "soup = BeautifulSoup(html, 'html.parser')\n"
   ]
  },
  {
   "cell_type": "markdown",
   "id": "7ea7bb41-a88b-46b5-8533-8a4330a0d1d5",
   "metadata": {},
   "source": [
    "6.1) Extract under the variable name \"section\" the HTML part of the page corresponding to your experiences using the section ID"
   ]
  },
  {
   "cell_type": "code",
   "execution_count": null,
   "outputs": [],
   "source": [
    "section = soup.find('section', id='ember478')\n",
    "print(section)"
   ],
   "metadata": {
    "collapsed": false,
    "ExecuteTime": {
     "start_time": "2023-10-28T13:26:43.757056500Z"
    }
   },
   "id": "4d4c49a5f35eccee"
  },
  {
   "cell_type": "markdown",
   "id": "2beeed24-7e94-4d23-bf71-d704bfcfa131",
   "metadata": {},
   "source": [
    "6.2) As you can see, if you refresh the page the section ID changes, what can you do to always find it back ? Create a function to solve this question."
   ]
  },
  {
   "cell_type": "code",
   "execution_count": null,
   "id": "dff9565f-087b-402b-b88c-3052e240533a",
   "metadata": {
    "ExecuteTime": {
     "start_time": "2023-10-28T13:26:43.759883500Z"
    }
   },
   "outputs": [],
   "source": [
    "import numpy as np\n",
    "def find_section(soup):\n",
    "    education_div = soup.find('div', id='education')\n",
    "    \n",
    "    if education_div:\n",
    "        section = education_div.find_parent('section')\n",
    "        return section\n",
    "    \n",
    "    return None"
   ]
  },
  {
   "cell_type": "code",
   "execution_count": null,
   "outputs": [],
   "source": [
    "section = find_section(soup)\n",
    "print(section)"
   ],
   "metadata": {
    "collapsed": false,
    "ExecuteTime": {
     "end_time": "2023-10-28T13:26:43.764411100Z",
     "start_time": "2023-10-28T13:26:43.762895400Z"
    }
   },
   "id": "c560ac5ad16e88b8"
  },
  {
   "cell_type": "markdown",
   "id": "68576d22-d162-45d4-8f1e-9d268f43f127",
   "metadata": {},
   "source": [
    "7) From this extract part, extract separately experiences and from experiences : companies, period of time, description... using find_all (you might have doubled data but we will filter it after)"
   ]
  },
  {
   "cell_type": "code",
   "execution_count": null,
   "outputs": [],
   "source": [
    "def extract_education_details(soup, section):\n",
    "    details = []\n",
    "    schools = section.find_all('li', class_=\"artdeco-list__item pvs-list__item--line-separated pvs-list__item--one-column\")\n",
    "    for school in schools:\n",
    "        school_name_element = school.find('span', class_='visually-hidden')\n",
    "        school_name = school_name_element.text if school_name_element else None\n",
    "\n",
    "        period_element = school.find_all('span', class_='t-14 t-normal t-black--light')\n",
    "        period = period_element[0].text if period_element else None\n",
    "\n",
    "        description_element = school.find('div', class_='pv-shared-text-with-see-more')\n",
    "        description = description_element.text.strip() if description_element else None\n",
    "\n",
    "        details.append({\n",
    "            'School/Company': school_name,\n",
    "            'Period': period,\n",
    "            'Description/Skills': description\n",
    "        })\n",
    "\n",
    "    return details"
   ],
   "metadata": {
    "collapsed": false,
    "ExecuteTime": {
     "start_time": "2023-10-28T13:26:43.765418400Z"
    }
   },
   "id": "4ca5db1885432fa5"
  },
  {
   "cell_type": "code",
   "execution_count": null,
   "outputs": [],
   "source": [
    "education_details = extract_education_details(soup, section)\n",
    "for detail in education_details:\n",
    "    print(detail)"
   ],
   "metadata": {
    "collapsed": false,
    "ExecuteTime": {
     "start_time": "2023-10-28T13:26:43.766412Z"
    }
   },
   "id": "e2d043faf5815b7c"
  },
  {
   "cell_type": "markdown",
   "id": "5a9c346f-942b-4d4e-8bc7-f2dc1886562e",
   "metadata": {},
   "source": [
    "8) Create a format_data function to process every list and keep only one title inside of a list"
   ]
  },
  {
   "cell_type": "code",
   "execution_count": null,
   "outputs": [],
   "source": [
    "def format_data(data_list):\n",
    "    seen_titles = set() \n",
    "    formatted_data = [] \n",
    "\n",
    "    for entry in data_list:\n",
    "        title = entry.get('School/Company')\n",
    "        \n",
    "        if title not in seen_titles:\n",
    "            seen_titles.add(title)\n",
    "            formatted_data.append(entry)\n",
    "\n",
    "    return formatted_data"
   ],
   "metadata": {
    "collapsed": false,
    "ExecuteTime": {
     "start_time": "2023-10-28T13:26:43.767917100Z"
    }
   },
   "id": "455a7f4f7fa0cfe8"
  },
  {
   "cell_type": "code",
   "execution_count": null,
   "outputs": [],
   "source": [
    "deduplicated_data = format_data(education_details)\n",
    "for detail in deduplicated_data:\n",
    "    print(detail)"
   ],
   "metadata": {
    "collapsed": false,
    "ExecuteTime": {
     "start_time": "2023-10-28T13:26:43.769431800Z"
    }
   },
   "id": "6c504e4484d3978d"
  },
  {
   "cell_type": "markdown",
   "id": "5d5eae0d-4ae7-4635-8bb0-53606ac04703",
   "metadata": {},
   "source": [
    "9) Create a dataframe named my_linkedin_data and insert all that data inside of it."
   ]
  },
  {
   "cell_type": "code",
   "execution_count": null,
   "id": "dd46d337-7ca9-4e62-ad52-de013c393dd3",
   "metadata": {
    "ExecuteTime": {
     "start_time": "2023-10-28T13:26:43.771437300Z"
    }
   },
   "outputs": [],
   "source": [
    "!pip install pandas"
   ]
  },
  {
   "cell_type": "code",
   "execution_count": null,
   "id": "428c8da8-b877-4419-b5e0-3d87da896119",
   "metadata": {
    "ExecuteTime": {
     "start_time": "2023-10-28T13:26:43.772942200Z"
    }
   },
   "outputs": [],
   "source": [
    "import pandas as pd"
   ]
  },
  {
   "cell_type": "code",
   "execution_count": null,
   "outputs": [],
   "source": [
    "my_linkedin_data = pd.DataFrame(deduplicated_data)\n",
    "print(my_linkedin_data.head())"
   ],
   "metadata": {
    "collapsed": false,
    "ExecuteTime": {
     "start_time": "2023-10-28T13:26:43.774474900Z"
    }
   },
   "id": "547fb3c5d43b5b7f"
  },
  {
   "cell_type": "markdown",
   "id": "33558413-70c5-47c8-a807-4f5d6ad84b0d",
   "metadata": {},
   "source": [
    "<a name=\"exercise-3\">\n",
    "\n",
    "### Part 3 : LinkedIn Relations\n",
    "---"
   ]
  },
  {
   "cell_type": "markdown",
   "id": "64854a73-a227-4fce-91bd-d7ae0046c245",
   "metadata": {},
   "source": [
    "1) Click on the \"More relations\" button to open your list of relations"
   ]
  },
  {
   "cell_type": "code",
   "execution_count": 86,
   "outputs": [
    {
     "ename": "NoSuchElementException",
     "evalue": "Message: no such element: Unable to locate element: {\"method\":\"css selector\",\"selector\":\"a[href='/mynetwork/network-manager/people-follow/followers/']\"}\n  (Session info: chrome=118.0.5993.118); For documentation on this error, please visit: https://www.selenium.dev/documentation/webdriver/troubleshooting/errors#no-such-element-exception\nStacktrace:\n\tGetHandleVerifier [0x00007FF60C9A8EF2+54786]\n\t(No symbol) [0x00007FF60C915612]\n\t(No symbol) [0x00007FF60C7CA64B]\n\t(No symbol) [0x00007FF60C80B79C]\n\t(No symbol) [0x00007FF60C80B91C]\n\t(No symbol) [0x00007FF60C846D87]\n\t(No symbol) [0x00007FF60C82BEAF]\n\t(No symbol) [0x00007FF60C844D02]\n\t(No symbol) [0x00007FF60C82BC43]\n\t(No symbol) [0x00007FF60C800941]\n\t(No symbol) [0x00007FF60C801B84]\n\tGetHandleVerifier [0x00007FF60CCF7F52+3524194]\n\tGetHandleVerifier [0x00007FF60CD4D800+3874576]\n\tGetHandleVerifier [0x00007FF60CD45D7F+3843215]\n\tGetHandleVerifier [0x00007FF60CA45086+694166]\n\t(No symbol) [0x00007FF60C920A88]\n\t(No symbol) [0x00007FF60C91CA94]\n\t(No symbol) [0x00007FF60C91CBC2]\n\t(No symbol) [0x00007FF60C90CC83]\n\tBaseThreadInitThunk [0x00007FFF802C257D+29]\n\tRtlUserThreadStart [0x00007FFF80BEAA78+40]\n",
     "output_type": "error",
     "traceback": [
      "\u001B[1;31m---------------------------------------------------------------------------\u001B[0m",
      "\u001B[1;31mNoSuchElementException\u001B[0m                    Traceback (most recent call last)",
      "Cell \u001B[1;32mIn[86], line 1\u001B[0m\n\u001B[1;32m----> 1\u001B[0m moreRelations \u001B[38;5;241m=\u001B[39m \u001B[43mdriver\u001B[49m\u001B[38;5;241;43m.\u001B[39;49m\u001B[43mfind_element\u001B[49m\u001B[43m(\u001B[49m\u001B[43mBy\u001B[49m\u001B[38;5;241;43m.\u001B[39;49m\u001B[43mCSS_SELECTOR\u001B[49m\u001B[43m,\u001B[49m\u001B[43m \u001B[49m\u001B[38;5;124;43m\"\u001B[39;49m\u001B[38;5;124;43ma[href=\u001B[39;49m\u001B[38;5;124;43m'\u001B[39;49m\u001B[38;5;124;43m/mynetwork/network-manager/people-follow/followers/\u001B[39;49m\u001B[38;5;124;43m'\u001B[39;49m\u001B[38;5;124;43m]\u001B[39;49m\u001B[38;5;124;43m\"\u001B[39;49m\u001B[43m)\u001B[49m\n\u001B[0;32m      2\u001B[0m moreRelations\u001B[38;5;241m.\u001B[39mclick()\n",
      "File \u001B[1;32m~\\PycharmProjects\\PythonForDataAnalysis\\venv\\Lib\\site-packages\\selenium\\webdriver\\remote\\webdriver.py:738\u001B[0m, in \u001B[0;36mWebDriver.find_element\u001B[1;34m(self, by, value)\u001B[0m\n\u001B[0;32m    735\u001B[0m     by \u001B[38;5;241m=\u001B[39m By\u001B[38;5;241m.\u001B[39mCSS_SELECTOR\n\u001B[0;32m    736\u001B[0m     value \u001B[38;5;241m=\u001B[39m \u001B[38;5;124mf\u001B[39m\u001B[38;5;124m'\u001B[39m\u001B[38;5;124m[name=\u001B[39m\u001B[38;5;124m\"\u001B[39m\u001B[38;5;132;01m{\u001B[39;00mvalue\u001B[38;5;132;01m}\u001B[39;00m\u001B[38;5;124m\"\u001B[39m\u001B[38;5;124m]\u001B[39m\u001B[38;5;124m'\u001B[39m\n\u001B[1;32m--> 738\u001B[0m \u001B[38;5;28;01mreturn\u001B[39;00m \u001B[38;5;28;43mself\u001B[39;49m\u001B[38;5;241;43m.\u001B[39;49m\u001B[43mexecute\u001B[49m\u001B[43m(\u001B[49m\u001B[43mCommand\u001B[49m\u001B[38;5;241;43m.\u001B[39;49m\u001B[43mFIND_ELEMENT\u001B[49m\u001B[43m,\u001B[49m\u001B[43m \u001B[49m\u001B[43m{\u001B[49m\u001B[38;5;124;43m\"\u001B[39;49m\u001B[38;5;124;43musing\u001B[39;49m\u001B[38;5;124;43m\"\u001B[39;49m\u001B[43m:\u001B[49m\u001B[43m \u001B[49m\u001B[43mby\u001B[49m\u001B[43m,\u001B[49m\u001B[43m \u001B[49m\u001B[38;5;124;43m\"\u001B[39;49m\u001B[38;5;124;43mvalue\u001B[39;49m\u001B[38;5;124;43m\"\u001B[39;49m\u001B[43m:\u001B[49m\u001B[43m \u001B[49m\u001B[43mvalue\u001B[49m\u001B[43m}\u001B[49m\u001B[43m)\u001B[49m[\u001B[38;5;124m\"\u001B[39m\u001B[38;5;124mvalue\u001B[39m\u001B[38;5;124m\"\u001B[39m]\n",
      "File \u001B[1;32m~\\PycharmProjects\\PythonForDataAnalysis\\venv\\Lib\\site-packages\\selenium\\webdriver\\remote\\webdriver.py:344\u001B[0m, in \u001B[0;36mWebDriver.execute\u001B[1;34m(self, driver_command, params)\u001B[0m\n\u001B[0;32m    342\u001B[0m response \u001B[38;5;241m=\u001B[39m \u001B[38;5;28mself\u001B[39m\u001B[38;5;241m.\u001B[39mcommand_executor\u001B[38;5;241m.\u001B[39mexecute(driver_command, params)\n\u001B[0;32m    343\u001B[0m \u001B[38;5;28;01mif\u001B[39;00m response:\n\u001B[1;32m--> 344\u001B[0m     \u001B[38;5;28;43mself\u001B[39;49m\u001B[38;5;241;43m.\u001B[39;49m\u001B[43merror_handler\u001B[49m\u001B[38;5;241;43m.\u001B[39;49m\u001B[43mcheck_response\u001B[49m\u001B[43m(\u001B[49m\u001B[43mresponse\u001B[49m\u001B[43m)\u001B[49m\n\u001B[0;32m    345\u001B[0m     response[\u001B[38;5;124m\"\u001B[39m\u001B[38;5;124mvalue\u001B[39m\u001B[38;5;124m\"\u001B[39m] \u001B[38;5;241m=\u001B[39m \u001B[38;5;28mself\u001B[39m\u001B[38;5;241m.\u001B[39m_unwrap_value(response\u001B[38;5;241m.\u001B[39mget(\u001B[38;5;124m\"\u001B[39m\u001B[38;5;124mvalue\u001B[39m\u001B[38;5;124m\"\u001B[39m, \u001B[38;5;28;01mNone\u001B[39;00m))\n\u001B[0;32m    346\u001B[0m     \u001B[38;5;28;01mreturn\u001B[39;00m response\n",
      "File \u001B[1;32m~\\PycharmProjects\\PythonForDataAnalysis\\venv\\Lib\\site-packages\\selenium\\webdriver\\remote\\errorhandler.py:229\u001B[0m, in \u001B[0;36mErrorHandler.check_response\u001B[1;34m(self, response)\u001B[0m\n\u001B[0;32m    227\u001B[0m         alert_text \u001B[38;5;241m=\u001B[39m value[\u001B[38;5;124m\"\u001B[39m\u001B[38;5;124malert\u001B[39m\u001B[38;5;124m\"\u001B[39m]\u001B[38;5;241m.\u001B[39mget(\u001B[38;5;124m\"\u001B[39m\u001B[38;5;124mtext\u001B[39m\u001B[38;5;124m\"\u001B[39m)\n\u001B[0;32m    228\u001B[0m     \u001B[38;5;28;01mraise\u001B[39;00m exception_class(message, screen, stacktrace, alert_text)  \u001B[38;5;66;03m# type: ignore[call-arg]  # mypy is not smart enough here\u001B[39;00m\n\u001B[1;32m--> 229\u001B[0m \u001B[38;5;28;01mraise\u001B[39;00m exception_class(message, screen, stacktrace)\n",
      "\u001B[1;31mNoSuchElementException\u001B[0m: Message: no such element: Unable to locate element: {\"method\":\"css selector\",\"selector\":\"a[href='/mynetwork/network-manager/people-follow/followers/']\"}\n  (Session info: chrome=118.0.5993.118); For documentation on this error, please visit: https://www.selenium.dev/documentation/webdriver/troubleshooting/errors#no-such-element-exception\nStacktrace:\n\tGetHandleVerifier [0x00007FF60C9A8EF2+54786]\n\t(No symbol) [0x00007FF60C915612]\n\t(No symbol) [0x00007FF60C7CA64B]\n\t(No symbol) [0x00007FF60C80B79C]\n\t(No symbol) [0x00007FF60C80B91C]\n\t(No symbol) [0x00007FF60C846D87]\n\t(No symbol) [0x00007FF60C82BEAF]\n\t(No symbol) [0x00007FF60C844D02]\n\t(No symbol) [0x00007FF60C82BC43]\n\t(No symbol) [0x00007FF60C800941]\n\t(No symbol) [0x00007FF60C801B84]\n\tGetHandleVerifier [0x00007FF60CCF7F52+3524194]\n\tGetHandleVerifier [0x00007FF60CD4D800+3874576]\n\tGetHandleVerifier [0x00007FF60CD45D7F+3843215]\n\tGetHandleVerifier [0x00007FF60CA45086+694166]\n\t(No symbol) [0x00007FF60C920A88]\n\t(No symbol) [0x00007FF60C91CA94]\n\t(No symbol) [0x00007FF60C91CBC2]\n\t(No symbol) [0x00007FF60C90CC83]\n\tBaseThreadInitThunk [0x00007FFF802C257D+29]\n\tRtlUserThreadStart [0x00007FFF80BEAA78+40]\n"
     ]
    }
   ],
   "source": [
    "moreRelations = driver.find_element(By.CSS_SELECTOR, \"a[href='/mynetwork/network-manager/people-follow/followers/']\")\n",
    "moreRelations.click()"
   ],
   "metadata": {
    "collapsed": false,
    "ExecuteTime": {
     "end_time": "2023-10-28T13:29:46.664654200Z",
     "start_time": "2023-10-28T13:29:46.618759300Z"
    }
   },
   "id": "425fb0d692467934"
  },
  {
   "cell_type": "markdown",
   "id": "2cf153b6-b726-431e-8df3-e792cc74fda8",
   "metadata": {},
   "source": [
    "2) Extract the names and the jobs of your relations on the page."
   ]
  },
  {
   "cell_type": "code",
   "execution_count": 90,
   "outputs": [
    {
     "name": "stdout",
     "output_type": "stream",
     "text": [
      "Name: Sébastien MOINE\n",
      "Job/Education: Master 1 Data & Intelligence Artificielle - École supérieure d'ingénieurs Léonard-de-Vinci\n",
      "\n",
      "Name: Alan Weismann\n",
      "Job/Education: Student at ESILV - Master's Degree of Engineering Energy and Sustainable Cities\n",
      "\n",
      "Name: Ahmed Mili\n",
      "Job/Education: Troisième année à L'ESILV\n",
      "\n",
      "Name: Paul Vannesson Fauque\n",
      "Job/Education: Etudiant à l'ESILV\n",
      "\n",
      "Name: Antonin Dussart\n",
      "Job/Education: Etudiant M1 à l'ESILV - Ecole Supérieure d'Ingénieurs Léonard de Vinci. Association automobile Vinci Eco Drive.\n",
      "\n",
      "Name: Melchior Thierry\n",
      "Job/Education: Master's student in IT, IoT & Security at ESILV (Ecole Supérieure d'Ingénieurs Léonard de Vinci)\n",
      "\n",
      "Name: Olivier Linot\n",
      "Job/Education: Délégué général\n",
      "\n",
      "Name: Claire Brisbart\n",
      "Job/Education: Product Owner at Dassault Systèmes | 💻 Student at IIM\n",
      "\n",
      "Name: Solène Depret\n",
      "Job/Education: 👩‍💻 Responsable communication et gestion de projet | Innovation, Recrutement, Formation, Networking | Hussar Academy\n",
      "\n",
      "Name: Yvon MOYSAN\n",
      "Job/Education: CEO at Hussar Academy & Open Innovation Professor at Centrale Supélec\n"
     ]
    }
   ],
   "source": [
    "html_realtion = driver.page_source\n",
    "soup_realtion = BeautifulSoup(html_realtion, 'html.parser')\n",
    "relation_blocks = soup_realtion.find_all('div', class_='entity-result')\n",
    "relations_data = []\n",
    "\n",
    "for block in relation_blocks:\n",
    "    name_tag = block.find('span', class_='entity-result__title-text t-16')\n",
    "    name = name_tag.get_text(strip=True) if name_tag else None\n",
    "    \n",
    "    job_tag = block.find('div', class_='entity-result__primary-subtitle t-14 t-black t-normal')\n",
    "    job = job_tag.get_text(strip=True) if job_tag else None\n",
    "    \n",
    "    relations_data.append({\n",
    "        'Name': name,\n",
    "        'Job/Education': job\n",
    "    })\n",
    "\n",
    "for relation in relations_data:\n",
    "    print(f\"Name: {relation['Name']}\")\n",
    "    print(f\"Job/Education: {relation['Job/Education']}\\n\")"
   ],
   "metadata": {
    "collapsed": false,
    "ExecuteTime": {
     "end_time": "2023-10-28T13:37:14.889059300Z",
     "start_time": "2023-10-28T13:37:14.701636200Z"
    }
   },
   "id": "36cbd50021c16c9c"
  },
  {
   "cell_type": "markdown",
   "id": "0565f3b8-e7ad-413d-81d6-19cf4ce281ac",
   "metadata": {},
   "source": [
    "3) Find a way to navigate automatically between pages and extract all names, jobs, locationsand store them in a Dataframe"
   ]
  },
  {
   "cell_type": "markdown",
   "source": [
    "Personnaly, i have only one page but i shall try to implement it anyway"
   ],
   "metadata": {
    "collapsed": false
   },
   "id": "317831f4df70f266"
  },
  {
   "cell_type": "code",
   "execution_count": null,
   "outputs": [],
   "source": [
    "import time"
   ],
   "metadata": {
    "collapsed": false,
    "ExecuteTime": {
     "start_time": "2023-10-28T13:26:43.777980100Z"
    }
   },
   "id": "3873f88a-2eb0-420e-83bc-64072f00d6d7"
  },
  {
   "cell_type": "code",
   "execution_count": 95,
   "outputs": [],
   "source": [
    "from selenium.common.exceptions import NoSuchElementException\n",
    "\n",
    "relations_data = []\n",
    "while True:\n",
    "    html_realtion = driver.page_source\n",
    "    soup_realtion = BeautifulSoup(html_realtion, 'html.parser')\n",
    "    relation_blocks = soup_realtion.find_all('div', class_='entity-result')\n",
    "    \n",
    "    for block in relation_blocks:\n",
    "        name_tag = block.find('span', class_='entity-result__title-text t-16')\n",
    "        name = name_tag.get_text(strip=True) if name_tag else None\n",
    "    \n",
    "        job_tag = block.find('div', class_='entity-result__primary-subtitle t-14 t-black t-normal')\n",
    "        job = job_tag.get_text(strip=True) if job_tag else None\n",
    "    \n",
    "        relations_data.append({\n",
    "            'Name': name,\n",
    "            'Job/Education': job\n",
    "        })\n",
    "\n",
    "    \n",
    "    try:\n",
    "        next_button = driver.find_element(By.CSS_SELECTOR, \"selector_for_next_button\")\n",
    "        next_button.click()\n",
    "    except NoSuchElementException:\n",
    "        break\n",
    "\n",
    "\n",
    "df = pd.DataFrame(relations_data)\n",
    "df.to_csv('linkedin_relations.csv', index=False)"
   ],
   "metadata": {
    "collapsed": false,
    "ExecuteTime": {
     "end_time": "2023-10-28T13:50:48.477513Z",
     "start_time": "2023-10-28T13:50:48.296390200Z"
    }
   },
   "id": "2996627f2533e41b"
  }
 ],
 "metadata": {
  "kernelspec": {
   "display_name": "Python 3",
   "language": "python",
   "name": "python3"
  },
  "language_info": {
   "codemirror_mode": {
    "name": "ipython",
    "version": 3
   },
   "file_extension": ".py",
   "mimetype": "text/x-python",
   "name": "python",
   "nbconvert_exporter": "python",
   "pygments_lexer": "ipython3",
   "version": "3.9.5"
  }
 },
 "nbformat": 4,
 "nbformat_minor": 5
}
